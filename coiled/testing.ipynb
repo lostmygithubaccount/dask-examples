{
 "metadata": {
  "language_info": {
   "codemirror_mode": {
    "name": "ipython",
    "version": 3
   },
   "file_extension": ".py",
   "mimetype": "text/x-python",
   "name": "python",
   "nbconvert_exporter": "python",
   "pygments_lexer": "ipython3",
   "version": "3.8.5-final"
  },
  "orig_nbformat": 2,
  "kernelspec": {
   "name": "Python 3.8.5 64-bit ('dkdc': conda)",
   "display_name": "Python 3.8.5 64-bit ('dkdc': conda)",
   "metadata": {
    "interpreter": {
     "hash": "6813bb6deec483ed15ac37ef074baa52622250b2b65156cf2f3313d85d7e0391"
    }
   }
  }
 },
 "nbformat": 4,
 "nbformat_minor": 2,
 "cells": [
  {
   "cell_type": "code",
   "execution_count": null,
   "metadata": {
    "tags": []
   },
   "outputs": [],
   "source": [
    "pip install --upgrade coiled dask bokeh "
   ]
  },
  {
   "cell_type": "code",
   "execution_count": null,
   "metadata": {
    "tags": []
   },
   "outputs": [],
   "source": [
    "!coiled login --token <>"
   ]
  },
  {
   "cell_type": "code",
   "execution_count": 64,
   "metadata": {
    "tags": []
   },
   "outputs": [
    {
     "output_type": "stream",
     "name": "stdout",
     "text": "Creating Cluster. This takes about a minute ...Checking environment images\nValid environment image found\ndistributed.client - ERROR - Failed to reconnect to scheduler after 10.00 seconds, closing client\nERROR:asyncio:_GatheringFuture exception was never retrieved\nfuture: <_GatheringFuture finished exception=CancelledError()>\nasyncio.exceptions.CancelledError\ndistributed.client - ERROR - Failed to reconnect to scheduler after 10.00 seconds, closing client\nERROR:asyncio:_GatheringFuture exception was never retrieved\nfuture: <_GatheringFuture finished exception=CancelledError()>\nasyncio.exceptions.CancelledError\n"
    },
    {
     "output_type": "display_data",
     "data": {
      "text/plain": "VBox(children=(HTML(value='<h2>coiled.Cluster</h2>'), HBox(children=(HTML(value='\\n<div>\\n  <style scoped>\\n  …",
      "application/vnd.jupyter.widget-view+json": {
       "version_major": 2,
       "version_minor": 0,
       "model_id": "db1ef30220fa4c4093f06ee979c98aba"
      }
     },
     "metadata": {}
    }
   ],
   "source": [
    "import coiled \n",
    "\n",
    "cluster = coiled.Cluster(\n",
    "    n_workers=50,\n",
    "    configuration='lostmygithubaccount/isd',\n",
    ")\n",
    "cluster"
   ]
  },
  {
   "cell_type": "code",
   "execution_count": 65,
   "metadata": {},
   "outputs": [
    {
     "output_type": "execute_result",
     "data": {
      "text/plain": "<Client: 'tls://10.2.12.210:8786' processes=50 threads=50, memory=214.75 GB>",
      "text/html": "<table style=\"border: 2px solid white;\">\n<tr>\n<td style=\"vertical-align: top; border: 0px solid white\">\n<h3 style=\"text-align: left;\">Client</h3>\n<ul style=\"text-align: left; list-style: none; margin: 0; padding: 0;\">\n  <li><b>Scheduler: </b>tls://ec2-18-191-149-183.us-east-2.compute.amazonaws.com:8786</li>\n  <li><b>Dashboard: </b><a href='https://cloud.coiled.io/dashboard/1038/status' target='_blank'>https://cloud.coiled.io/dashboard/1038/status</a></li>\n</ul>\n</td>\n<td style=\"vertical-align: top; border: 0px solid white\">\n<h3 style=\"text-align: left;\">Cluster</h3>\n<ul style=\"text-align: left; list-style:none; margin: 0; padding: 0;\">\n  <li><b>Workers: </b>50</li>\n  <li><b>Cores: </b>50</li>\n  <li><b>Memory: </b>214.75 GB</li>\n</ul>\n</td>\n</tr>\n</table>"
     },
     "metadata": {},
     "execution_count": 65
    }
   ],
   "source": [
    "from dask.distributed import Client\n",
    "\n",
    "c = Client(cluster)\n",
    "c"
   ]
  },
  {
   "cell_type": "code",
   "execution_count": 26,
   "metadata": {
    "tags": []
   },
   "outputs": [
    {
     "output_type": "stream",
     "name": "stdout",
     "text": "Collecting git+https://github.com/dask/adlfs\n  Cloning https://github.com/dask/adlfs to /private/var/folders/gk/kpsykczx509cvpggyml79rsc0000gn/T/pip-req-build-3k__ht5q\nRequirement already up-to-date: fsspec in /Users/cody/miniconda3/envs/dkdc/lib/python3.8/site-packages (0.8.3)\nRequirement already satisfied, skipping upgrade: aiohttp in /Users/cody/miniconda3/envs/dkdc/lib/python3.8/site-packages (from adlfs==0.5.3+18.g65de4a6) (3.6.2)\nRequirement already satisfied, skipping upgrade: azure-core>=1.5.0 in /Users/cody/miniconda3/envs/dkdc/lib/python3.8/site-packages (from adlfs==0.5.3+18.g65de4a6) (1.8.1)\nRequirement already satisfied, skipping upgrade: azure-datalake-store<0.1,>=0.0.46 in /Users/cody/miniconda3/envs/dkdc/lib/python3.8/site-packages (from adlfs==0.5.3+18.g65de4a6) (0.0.50)\nRequirement already satisfied, skipping upgrade: azure-identity in /Users/cody/miniconda3/envs/dkdc/lib/python3.8/site-packages (from adlfs==0.5.3+18.g65de4a6) (1.2.0)\nRequirement already satisfied, skipping upgrade: azure-storage-blob>=12.5.0 in /Users/cody/miniconda3/envs/dkdc/lib/python3.8/site-packages (from adlfs==0.5.3+18.g65de4a6) (12.5.0)\nRequirement already satisfied, skipping upgrade: msrestazure in /Users/cody/miniconda3/envs/dkdc/lib/python3.8/site-packages (from adlfs==0.5.3+18.g65de4a6) (0.6.4)\nRequirement already satisfied, skipping upgrade: requests<3.0,>=2.22.0 in /Users/cody/miniconda3/envs/dkdc/lib/python3.8/site-packages (from adlfs==0.5.3+18.g65de4a6) (2.24.0)\nRequirement already satisfied, skipping upgrade: yarl<2.0,>=1.0 in /Users/cody/miniconda3/envs/dkdc/lib/python3.8/site-packages (from aiohttp->adlfs==0.5.3+18.g65de4a6) (1.5.1)\nRequirement already satisfied, skipping upgrade: multidict<5.0,>=4.5 in /Users/cody/miniconda3/envs/dkdc/lib/python3.8/site-packages (from aiohttp->adlfs==0.5.3+18.g65de4a6) (4.7.6)\nRequirement already satisfied, skipping upgrade: async-timeout<4.0,>=3.0 in /Users/cody/miniconda3/envs/dkdc/lib/python3.8/site-packages (from aiohttp->adlfs==0.5.3+18.g65de4a6) (3.0.1)\nRequirement already satisfied, skipping upgrade: chardet<4.0,>=2.0 in /Users/cody/miniconda3/envs/dkdc/lib/python3.8/site-packages (from aiohttp->adlfs==0.5.3+18.g65de4a6) (3.0.4)\nRequirement already satisfied, skipping upgrade: attrs>=17.3.0 in /Users/cody/miniconda3/envs/dkdc/lib/python3.8/site-packages (from aiohttp->adlfs==0.5.3+18.g65de4a6) (20.2.0)\nRequirement already satisfied, skipping upgrade: six>=1.6 in /Users/cody/miniconda3/envs/dkdc/lib/python3.8/site-packages (from azure-core>=1.5.0->adlfs==0.5.3+18.g65de4a6) (1.15.0)\nRequirement already satisfied, skipping upgrade: adal>=0.4.2 in /Users/cody/miniconda3/envs/dkdc/lib/python3.8/site-packages (from azure-datalake-store<0.1,>=0.0.46->adlfs==0.5.3+18.g65de4a6) (1.2.4)\nRequirement already satisfied, skipping upgrade: cffi in /Users/cody/miniconda3/envs/dkdc/lib/python3.8/site-packages (from azure-datalake-store<0.1,>=0.0.46->adlfs==0.5.3+18.g65de4a6) (1.14.2)\nRequirement already satisfied, skipping upgrade: msal<2.0.0,>=1.0.0 in /Users/cody/miniconda3/envs/dkdc/lib/python3.8/site-packages (from azure-identity->adlfs==0.5.3+18.g65de4a6) (1.5.0)\nRequirement already satisfied, skipping upgrade: msal-extensions~=0.1.3 in /Users/cody/miniconda3/envs/dkdc/lib/python3.8/site-packages (from azure-identity->adlfs==0.5.3+18.g65de4a6) (0.1.3)\nRequirement already satisfied, skipping upgrade: cryptography>=2.1.4 in /Users/cody/miniconda3/envs/dkdc/lib/python3.8/site-packages (from azure-identity->adlfs==0.5.3+18.g65de4a6) (3.1)\nRequirement already satisfied, skipping upgrade: msrest>=0.6.10 in /Users/cody/miniconda3/envs/dkdc/lib/python3.8/site-packages (from azure-storage-blob>=12.5.0->adlfs==0.5.3+18.g65de4a6) (0.6.19)\nRequirement already satisfied, skipping upgrade: urllib3!=1.25.0,!=1.25.1,<1.26,>=1.21.1 in /Users/cody/miniconda3/envs/dkdc/lib/python3.8/site-packages (from requests<3.0,>=2.22.0->adlfs==0.5.3+18.g65de4a6) (1.25.10)\nRequirement already satisfied, skipping upgrade: idna<3,>=2.5 in /Users/cody/miniconda3/envs/dkdc/lib/python3.8/site-packages (from requests<3.0,>=2.22.0->adlfs==0.5.3+18.g65de4a6) (2.10)\nRequirement already satisfied, skipping upgrade: certifi>=2017.4.17 in /Users/cody/miniconda3/envs/dkdc/lib/python3.8/site-packages (from requests<3.0,>=2.22.0->adlfs==0.5.3+18.g65de4a6) (2020.6.20)\nRequirement already satisfied, skipping upgrade: PyJWT>=1.0.0 in /Users/cody/miniconda3/envs/dkdc/lib/python3.8/site-packages (from adal>=0.4.2->azure-datalake-store<0.1,>=0.0.46->adlfs==0.5.3+18.g65de4a6) (1.7.1)\nRequirement already satisfied, skipping upgrade: python-dateutil>=2.1.0 in /Users/cody/miniconda3/envs/dkdc/lib/python3.8/site-packages (from adal>=0.4.2->azure-datalake-store<0.1,>=0.0.46->adlfs==0.5.3+18.g65de4a6) (2.8.1)\nRequirement already satisfied, skipping upgrade: pycparser in /Users/cody/miniconda3/envs/dkdc/lib/python3.8/site-packages (from cffi->azure-datalake-store<0.1,>=0.0.46->adlfs==0.5.3+18.g65de4a6) (2.20)\nRequirement already satisfied, skipping upgrade: portalocker~=1.0 in /Users/cody/miniconda3/envs/dkdc/lib/python3.8/site-packages (from msal-extensions~=0.1.3->azure-identity->adlfs==0.5.3+18.g65de4a6) (1.7.1)\nRequirement already satisfied, skipping upgrade: isodate>=0.6.0 in /Users/cody/miniconda3/envs/dkdc/lib/python3.8/site-packages (from msrest>=0.6.10->azure-storage-blob>=12.5.0->adlfs==0.5.3+18.g65de4a6) (0.6.0)\nRequirement already satisfied, skipping upgrade: requests-oauthlib>=0.5.0 in /Users/cody/miniconda3/envs/dkdc/lib/python3.8/site-packages (from msrest>=0.6.10->azure-storage-blob>=12.5.0->adlfs==0.5.3+18.g65de4a6) (1.3.0)\nRequirement already satisfied, skipping upgrade: oauthlib>=3.0.0 in /Users/cody/miniconda3/envs/dkdc/lib/python3.8/site-packages (from requests-oauthlib>=0.5.0->msrest>=0.6.10->azure-storage-blob>=12.5.0->adlfs==0.5.3+18.g65de4a6) (3.1.0)\nBuilding wheels for collected packages: adlfs\n  Building wheel for adlfs (setup.py) ... \u001b[?25ldone\n\u001b[?25h  Created wheel for adlfs: filename=adlfs-0.5.3+18.g65de4a6-py3-none-any.whl size=18432 sha256=7f41c5cf398a85294fde8821ce5e4360bbd0d85ba6e3e3cb33dd3a1db3a72ef0\n  Stored in directory: /private/var/folders/gk/kpsykczx509cvpggyml79rsc0000gn/T/pip-ephem-wheel-cache-wzus60a9/wheels/a1/6c/2d/3b988aa0fd36594a0291addc195e10386681f4f354c95fbe75\nSuccessfully built adlfs\nInstalling collected packages: adlfs\n  Attempting uninstall: adlfs\n    Found existing installation: adlfs 0.5.3+18.g65de4a6\n    Uninstalling adlfs-0.5.3+18.g65de4a6:\n      Successfully uninstalled adlfs-0.5.3+18.g65de4a6\nSuccessfully installed adlfs-0.5.3+18.g65de4a6\n"
    }
   ],
   "source": [
    "!pip install --upgrade git+https://github.com/dask/adlfs fsspec"
   ]
  },
  {
   "cell_type": "code",
   "execution_count": 66,
   "metadata": {},
   "outputs": [],
   "source": [
    "def update_packages():\n",
    "    import os\n",
    "    os.system('pip install --upgrade git+https://github.com/dask/adlfs fsspec')"
   ]
  },
  {
   "cell_type": "code",
   "execution_count": 68,
   "metadata": {},
   "outputs": [
    {
     "output_type": "execute_result",
     "data": {
      "text/plain": "[<Future: pending, key: update_packages-8dc14def-6af4-4e8a-a86e-9772999e3a4d>,\n <Future: pending, key: update_packages-f7c63199-c86f-465f-b116-cf428f56b99b>,\n <Future: pending, key: update_packages-689855ad-296d-495e-a94e-ba3347b8f7aa>,\n <Future: pending, key: update_packages-03badb47-0073-45f7-9e3f-f919a07053aa>,\n <Future: pending, key: update_packages-39ac9038-6ab4-4036-ba01-f70f8568b688>,\n <Future: pending, key: update_packages-0e088806-d600-40f3-b842-429e5f02d667>,\n <Future: pending, key: update_packages-eb0a746c-13a3-4e86-bed1-b71ec2c01460>,\n <Future: pending, key: update_packages-1d576fff-3eb5-43c2-9e05-43123c1c226c>,\n <Future: pending, key: update_packages-975e7b9d-ae59-4f2c-85be-f91c657ce132>,\n <Future: pending, key: update_packages-cccd159e-fe93-4cff-a971-1cb57a437a35>,\n <Future: pending, key: update_packages-4f60c21f-e7de-4439-bdee-9621e34979d2>,\n <Future: pending, key: update_packages-84c87e00-dfb8-4d4f-acaf-90532f5d06ad>,\n <Future: pending, key: update_packages-5b8f6ab8-eb64-4348-833c-ac9882a8f35c>,\n <Future: pending, key: update_packages-871546ab-ccb7-4ada-955f-0d50238b5228>,\n <Future: pending, key: update_packages-50def5ac-e050-41e2-93b2-370b4db37318>,\n <Future: pending, key: update_packages-a0c38113-7bfc-4fec-b7a1-3b1e693cc594>,\n <Future: pending, key: update_packages-120192c1-b534-4418-9f85-b17e7ba253e2>,\n <Future: pending, key: update_packages-84abc056-a698-41a8-ab66-6720a3a490ee>,\n <Future: pending, key: update_packages-e85a73f6-db7d-4d00-9ad5-48e436b20958>,\n <Future: pending, key: update_packages-2049fe69-7cc1-4dae-88c2-309743e53970>,\n <Future: pending, key: update_packages-5a6699df-850d-4a8c-9e3a-fef9cce165de>,\n <Future: pending, key: update_packages-8f93a9f4-82bf-4664-89fd-6294e6ff35e6>,\n <Future: pending, key: update_packages-2a049999-62a5-42d2-b228-e4823315013b>,\n <Future: pending, key: update_packages-e3396b95-9561-4e95-ba2d-02c6eeff9027>,\n <Future: pending, key: update_packages-6bddfefc-8207-4522-a01a-ee1cef981b33>,\n <Future: pending, key: update_packages-6d1692f7-f27b-4959-9fd8-a44e3721e234>,\n <Future: pending, key: update_packages-26305d97-a2b8-442f-8097-53b36ac0ed1f>,\n <Future: pending, key: update_packages-2d5094d2-5363-42cb-807b-7e659352929d>,\n <Future: pending, key: update_packages-7136b45c-8617-4881-9801-d77d59b4639c>,\n <Future: pending, key: update_packages-ce98c335-e987-4201-a100-7e5b9b860d94>,\n <Future: pending, key: update_packages-d2851397-846f-4565-855a-b9a342b1001f>,\n <Future: pending, key: update_packages-c9b7ad5d-237d-41b9-9f12-2adbfc9f49f1>,\n <Future: pending, key: update_packages-b605fe06-f42c-487b-8789-e3b22f1a0b63>,\n <Future: pending, key: update_packages-f34bc7d8-dfeb-4265-8970-1443d7b6dee8>,\n <Future: pending, key: update_packages-867a1c58-8ec2-4dc5-b26a-5faa576f26a0>,\n <Future: pending, key: update_packages-df8b43b2-e085-474a-9a8d-e9c0edfb4c50>,\n <Future: pending, key: update_packages-1de1d982-8832-421e-a7ba-6c69331de30c>,\n <Future: pending, key: update_packages-ab33b2df-1c36-4b11-bf29-8018b95ac351>,\n <Future: pending, key: update_packages-35552a5e-992a-4111-a317-39a3726d35a7>,\n <Future: pending, key: update_packages-c26b88d4-08af-4f62-ba6f-3179a3e85ff3>,\n <Future: pending, key: update_packages-df2e8a88-5ac3-4bf0-a733-cbf3cd343699>,\n <Future: pending, key: update_packages-e6e6f491-4712-4e35-8a38-cac0813341fc>,\n <Future: pending, key: update_packages-e3f3eed4-86e8-47ab-a2d1-92ddd624c18d>,\n <Future: pending, key: update_packages-1396b4bc-9948-4353-9032-5eb06d419d0c>,\n <Future: pending, key: update_packages-8d45b059-3829-4c27-9ecf-14201e8381ed>,\n <Future: pending, key: update_packages-4044ee10-952f-44a7-b8e8-83c2a321f450>,\n <Future: pending, key: update_packages-bf8b1f63-30b7-4bcd-b851-d0a7b758a7c0>,\n <Future: pending, key: update_packages-0e08e111-bc4f-4fbc-87de-8ec4ce32d382>,\n <Future: pending, key: update_packages-51a10ee0-710d-4b94-bc6a-42113b9c11f3>,\n <Future: pending, key: update_packages-fa098950-8dd2-492d-b5bf-3f8b7715b5ca>]"
     },
     "metadata": {},
     "execution_count": 68
    }
   ],
   "source": [
    "import dask \n",
    "\n",
    "to_compute = [dask.delayed(update_packages) for i in range(50)]\n",
    "c.compute(to_compute)"
   ]
  },
  {
   "cell_type": "code",
   "execution_count": 69,
   "metadata": {},
   "outputs": [
    {
     "output_type": "execute_result",
     "data": {
      "text/plain": "['isdweatherdatacontainer/ISDWeather/',\n 'isdweatherdatacontainer/ISDWeatherAll',\n 'isdweatherdatacontainer/ISDWeatherAll/',\n 'isdweatherdatacontainer/ISDWeatherBackup',\n 'isdweatherdatacontainer/ISDWeatherBackup/',\n 'isdweatherdatacontainer/ISDWeatherBackup_20200115/',\n 'isdweatherdatacontainer/ISDWeatherTest/',\n 'isdweatherdatacontainer/fama',\n 'isdweatherdatacontainer/fama/']"
     },
     "metadata": {},
     "execution_count": 69
    }
   ],
   "source": [
    "from adlfs import AzureBlobFileSystem\n",
    "\n",
    "storage_options = {'account_name': 'azureopendatastorage'}\n",
    "\n",
    "fs = AzureBlobFileSystem(**storage_options)\n",
    "fs.ls('isdweatherdatacontainer')"
   ]
  },
  {
   "cell_type": "code",
   "execution_count": 35,
   "metadata": {},
   "outputs": [
    {
     "output_type": "execute_result",
     "data": {
      "text/plain": "passenger_count\n0    2.122789\n1    2.206790\n2    2.214306\n3    2.137775\n4    2.023804\n5    2.235441\n6    2.221105\n7    6.675962\n8    7.111625\n9    7.377822\nName: tip_amount, dtype: float64"
     },
     "metadata": {},
     "execution_count": 35
    }
   ],
   "source": [
    "import dask.dataframe as dd\n",
    "\n",
    "df = dd.read_csv(\n",
    "    \"s3://nyc-tlc/trip data/yellow_tripdata_2019-*.csv\",\n",
    "    dtype={\n",
    "        \"payment_type\": \"UInt8\",\n",
    "        \"VendorID\": \"UInt8\",\n",
    "        \"passenger_count\": \"UInt8\",\n",
    "        \"RatecodeID\": \"UInt8\",\n",
    "    },\n",
    "    storage_options={\"anon\": True},\n",
    "    blocksize=\"16 MiB\",\n",
    ").persist()\n",
    "\n",
    "df.groupby(\"passenger_count\").tip_amount.mean().compute()"
   ]
  },
  {
   "cell_type": "code",
   "execution_count": 76,
   "metadata": {},
   "outputs": [
    {
     "output_type": "execute_result",
     "data": {
      "text/plain": "Dask DataFrame Structure:\n              temperature\nnpartitions=8            \n                  float64\n                      ...\n...                   ...\n                      ...\n                      ...\nDask Name: read-parquet, 8 tasks",
      "text/html": "<div><strong>Dask DataFrame Structure:</strong></div>\n<div>\n<style scoped>\n    .dataframe tbody tr th:only-of-type {\n        vertical-align: middle;\n    }\n\n    .dataframe tbody tr th {\n        vertical-align: top;\n    }\n\n    .dataframe thead th {\n        text-align: right;\n    }\n</style>\n<table border=\"1\" class=\"dataframe\">\n  <thead>\n    <tr style=\"text-align: right;\">\n      <th></th>\n      <th>temperature</th>\n    </tr>\n    <tr>\n      <th>npartitions=8</th>\n      <th></th>\n    </tr>\n  </thead>\n  <tbody>\n    <tr>\n      <th></th>\n      <td>float64</td>\n    </tr>\n    <tr>\n      <th></th>\n      <td>...</td>\n    </tr>\n    <tr>\n      <th>...</th>\n      <td>...</td>\n    </tr>\n    <tr>\n      <th></th>\n      <td>...</td>\n    </tr>\n    <tr>\n      <th></th>\n      <td>...</td>\n    </tr>\n  </tbody>\n</table>\n</div>\n<div>Dask Name: read-parquet, 8 tasks</div>"
     },
     "metadata": {},
     "execution_count": 76
    }
   ],
   "source": [
    "import dask.dataframe as dd \n",
    "\n",
    "df = dd.read_parquet('abfs://isdweatherdatacontainer/ISDWeather/year=2020/month=1/*.parquet', storage_options=storage_options, columns=['temperature'])\n",
    "df"
   ]
  },
  {
   "cell_type": "code",
   "execution_count": 77,
   "metadata": {},
   "outputs": [
    {
     "output_type": "error",
     "ename": "KilledWorker",
     "evalue": "(\"('read-parquet-head-1-5-read-parquet-43970d1e94ff6a7aee43dd9ff880414f', 0)\", <Worker 'tls://10.2.12.37:46839', name: lostmygithubaccount-1038-worker-17-8581cf, memory: 0, processing: 1>)",
     "traceback": [
      "\u001b[0;31m---------------------------------------------------------------------------\u001b[0m",
      "\u001b[0;31mKilledWorker\u001b[0m                              Traceback (most recent call last)",
      "\u001b[0;32m<ipython-input-77-c42a15b2c7cf>\u001b[0m in \u001b[0;36m<module>\u001b[0;34m\u001b[0m\n\u001b[0;32m----> 1\u001b[0;31m \u001b[0mdf\u001b[0m\u001b[0;34m.\u001b[0m\u001b[0mhead\u001b[0m\u001b[0;34m(\u001b[0m\u001b[0;34m)\u001b[0m\u001b[0;34m\u001b[0m\u001b[0;34m\u001b[0m\u001b[0m\n\u001b[0m",
      "\u001b[0;32m~/miniconda3/envs/dkdc/lib/python3.8/site-packages/dask/dataframe/core.py\u001b[0m in \u001b[0;36mhead\u001b[0;34m(self, n, npartitions, compute)\u001b[0m\n\u001b[1;32m   1004\u001b[0m             \u001b[0mWhether\u001b[0m \u001b[0mto\u001b[0m \u001b[0mcompute\u001b[0m \u001b[0mthe\u001b[0m \u001b[0mresult\u001b[0m\u001b[0;34m,\u001b[0m \u001b[0mdefault\u001b[0m \u001b[0;32mis\u001b[0m \u001b[0;32mTrue\u001b[0m\u001b[0;34m.\u001b[0m\u001b[0;34m\u001b[0m\u001b[0;34m\u001b[0m\u001b[0m\n\u001b[1;32m   1005\u001b[0m         \"\"\"\n\u001b[0;32m-> 1006\u001b[0;31m         \u001b[0;32mreturn\u001b[0m \u001b[0mself\u001b[0m\u001b[0;34m.\u001b[0m\u001b[0m_head\u001b[0m\u001b[0;34m(\u001b[0m\u001b[0mn\u001b[0m\u001b[0;34m=\u001b[0m\u001b[0mn\u001b[0m\u001b[0;34m,\u001b[0m \u001b[0mnpartitions\u001b[0m\u001b[0;34m=\u001b[0m\u001b[0mnpartitions\u001b[0m\u001b[0;34m,\u001b[0m \u001b[0mcompute\u001b[0m\u001b[0;34m=\u001b[0m\u001b[0mcompute\u001b[0m\u001b[0;34m,\u001b[0m \u001b[0msafe\u001b[0m\u001b[0;34m=\u001b[0m\u001b[0;32mTrue\u001b[0m\u001b[0;34m)\u001b[0m\u001b[0;34m\u001b[0m\u001b[0;34m\u001b[0m\u001b[0m\n\u001b[0m\u001b[1;32m   1007\u001b[0m \u001b[0;34m\u001b[0m\u001b[0m\n\u001b[1;32m   1008\u001b[0m     \u001b[0;32mdef\u001b[0m \u001b[0m_head\u001b[0m\u001b[0;34m(\u001b[0m\u001b[0mself\u001b[0m\u001b[0;34m,\u001b[0m \u001b[0mn\u001b[0m\u001b[0;34m,\u001b[0m \u001b[0mnpartitions\u001b[0m\u001b[0;34m,\u001b[0m \u001b[0mcompute\u001b[0m\u001b[0;34m,\u001b[0m \u001b[0msafe\u001b[0m\u001b[0;34m)\u001b[0m\u001b[0;34m:\u001b[0m\u001b[0;34m\u001b[0m\u001b[0;34m\u001b[0m\u001b[0m\n",
      "\u001b[0;32m~/miniconda3/envs/dkdc/lib/python3.8/site-packages/dask/dataframe/core.py\u001b[0m in \u001b[0;36m_head\u001b[0;34m(self, n, npartitions, compute, safe)\u001b[0m\n\u001b[1;32m   1037\u001b[0m \u001b[0;34m\u001b[0m\u001b[0m\n\u001b[1;32m   1038\u001b[0m         \u001b[0;32mif\u001b[0m \u001b[0mcompute\u001b[0m\u001b[0;34m:\u001b[0m\u001b[0;34m\u001b[0m\u001b[0;34m\u001b[0m\u001b[0m\n\u001b[0;32m-> 1039\u001b[0;31m             \u001b[0mresult\u001b[0m \u001b[0;34m=\u001b[0m \u001b[0mresult\u001b[0m\u001b[0;34m.\u001b[0m\u001b[0mcompute\u001b[0m\u001b[0;34m(\u001b[0m\u001b[0;34m)\u001b[0m\u001b[0;34m\u001b[0m\u001b[0;34m\u001b[0m\u001b[0m\n\u001b[0m\u001b[1;32m   1040\u001b[0m         \u001b[0;32mreturn\u001b[0m \u001b[0mresult\u001b[0m\u001b[0;34m\u001b[0m\u001b[0;34m\u001b[0m\u001b[0m\n\u001b[1;32m   1041\u001b[0m \u001b[0;34m\u001b[0m\u001b[0m\n",
      "\u001b[0;32m~/miniconda3/envs/dkdc/lib/python3.8/site-packages/dask/base.py\u001b[0m in \u001b[0;36mcompute\u001b[0;34m(self, **kwargs)\u001b[0m\n\u001b[1;32m    165\u001b[0m         \u001b[0mdask\u001b[0m\u001b[0;34m.\u001b[0m\u001b[0mbase\u001b[0m\u001b[0;34m.\u001b[0m\u001b[0mcompute\u001b[0m\u001b[0;34m\u001b[0m\u001b[0;34m\u001b[0m\u001b[0m\n\u001b[1;32m    166\u001b[0m         \"\"\"\n\u001b[0;32m--> 167\u001b[0;31m         \u001b[0;34m(\u001b[0m\u001b[0mresult\u001b[0m\u001b[0;34m,\u001b[0m\u001b[0;34m)\u001b[0m \u001b[0;34m=\u001b[0m \u001b[0mcompute\u001b[0m\u001b[0;34m(\u001b[0m\u001b[0mself\u001b[0m\u001b[0;34m,\u001b[0m \u001b[0mtraverse\u001b[0m\u001b[0;34m=\u001b[0m\u001b[0;32mFalse\u001b[0m\u001b[0;34m,\u001b[0m \u001b[0;34m**\u001b[0m\u001b[0mkwargs\u001b[0m\u001b[0;34m)\u001b[0m\u001b[0;34m\u001b[0m\u001b[0;34m\u001b[0m\u001b[0m\n\u001b[0m\u001b[1;32m    168\u001b[0m         \u001b[0;32mreturn\u001b[0m \u001b[0mresult\u001b[0m\u001b[0;34m\u001b[0m\u001b[0;34m\u001b[0m\u001b[0m\n\u001b[1;32m    169\u001b[0m \u001b[0;34m\u001b[0m\u001b[0m\n",
      "\u001b[0;32m~/miniconda3/envs/dkdc/lib/python3.8/site-packages/dask/base.py\u001b[0m in \u001b[0;36mcompute\u001b[0;34m(*args, **kwargs)\u001b[0m\n\u001b[1;32m    450\u001b[0m         \u001b[0mpostcomputes\u001b[0m\u001b[0;34m.\u001b[0m\u001b[0mappend\u001b[0m\u001b[0;34m(\u001b[0m\u001b[0mx\u001b[0m\u001b[0;34m.\u001b[0m\u001b[0m__dask_postcompute__\u001b[0m\u001b[0;34m(\u001b[0m\u001b[0;34m)\u001b[0m\u001b[0;34m)\u001b[0m\u001b[0;34m\u001b[0m\u001b[0;34m\u001b[0m\u001b[0m\n\u001b[1;32m    451\u001b[0m \u001b[0;34m\u001b[0m\u001b[0m\n\u001b[0;32m--> 452\u001b[0;31m     \u001b[0mresults\u001b[0m \u001b[0;34m=\u001b[0m \u001b[0mschedule\u001b[0m\u001b[0;34m(\u001b[0m\u001b[0mdsk\u001b[0m\u001b[0;34m,\u001b[0m \u001b[0mkeys\u001b[0m\u001b[0;34m,\u001b[0m \u001b[0;34m**\u001b[0m\u001b[0mkwargs\u001b[0m\u001b[0;34m)\u001b[0m\u001b[0;34m\u001b[0m\u001b[0;34m\u001b[0m\u001b[0m\n\u001b[0m\u001b[1;32m    453\u001b[0m     \u001b[0;32mreturn\u001b[0m \u001b[0mrepack\u001b[0m\u001b[0;34m(\u001b[0m\u001b[0;34m[\u001b[0m\u001b[0mf\u001b[0m\u001b[0;34m(\u001b[0m\u001b[0mr\u001b[0m\u001b[0;34m,\u001b[0m \u001b[0;34m*\u001b[0m\u001b[0ma\u001b[0m\u001b[0;34m)\u001b[0m \u001b[0;32mfor\u001b[0m \u001b[0mr\u001b[0m\u001b[0;34m,\u001b[0m \u001b[0;34m(\u001b[0m\u001b[0mf\u001b[0m\u001b[0;34m,\u001b[0m \u001b[0ma\u001b[0m\u001b[0;34m)\u001b[0m \u001b[0;32min\u001b[0m \u001b[0mzip\u001b[0m\u001b[0;34m(\u001b[0m\u001b[0mresults\u001b[0m\u001b[0;34m,\u001b[0m \u001b[0mpostcomputes\u001b[0m\u001b[0;34m)\u001b[0m\u001b[0;34m]\u001b[0m\u001b[0;34m)\u001b[0m\u001b[0;34m\u001b[0m\u001b[0;34m\u001b[0m\u001b[0m\n\u001b[1;32m    454\u001b[0m \u001b[0;34m\u001b[0m\u001b[0m\n",
      "\u001b[0;32m~/miniconda3/envs/dkdc/lib/python3.8/site-packages/distributed/client.py\u001b[0m in \u001b[0;36mget\u001b[0;34m(self, dsk, keys, restrictions, loose_restrictions, resources, sync, asynchronous, direct, retries, priority, fifo_timeout, actors, **kwargs)\u001b[0m\n\u001b[1;32m   2712\u001b[0m                     \u001b[0mshould_rejoin\u001b[0m \u001b[0;34m=\u001b[0m \u001b[0;32mFalse\u001b[0m\u001b[0;34m\u001b[0m\u001b[0;34m\u001b[0m\u001b[0m\n\u001b[1;32m   2713\u001b[0m             \u001b[0;32mtry\u001b[0m\u001b[0;34m:\u001b[0m\u001b[0;34m\u001b[0m\u001b[0;34m\u001b[0m\u001b[0m\n\u001b[0;32m-> 2714\u001b[0;31m                 \u001b[0mresults\u001b[0m \u001b[0;34m=\u001b[0m \u001b[0mself\u001b[0m\u001b[0;34m.\u001b[0m\u001b[0mgather\u001b[0m\u001b[0;34m(\u001b[0m\u001b[0mpacked\u001b[0m\u001b[0;34m,\u001b[0m \u001b[0masynchronous\u001b[0m\u001b[0;34m=\u001b[0m\u001b[0masynchronous\u001b[0m\u001b[0;34m,\u001b[0m \u001b[0mdirect\u001b[0m\u001b[0;34m=\u001b[0m\u001b[0mdirect\u001b[0m\u001b[0;34m)\u001b[0m\u001b[0;34m\u001b[0m\u001b[0;34m\u001b[0m\u001b[0m\n\u001b[0m\u001b[1;32m   2715\u001b[0m             \u001b[0;32mfinally\u001b[0m\u001b[0;34m:\u001b[0m\u001b[0;34m\u001b[0m\u001b[0;34m\u001b[0m\u001b[0m\n\u001b[1;32m   2716\u001b[0m                 \u001b[0;32mfor\u001b[0m \u001b[0mf\u001b[0m \u001b[0;32min\u001b[0m \u001b[0mfutures\u001b[0m\u001b[0;34m.\u001b[0m\u001b[0mvalues\u001b[0m\u001b[0;34m(\u001b[0m\u001b[0;34m)\u001b[0m\u001b[0;34m:\u001b[0m\u001b[0;34m\u001b[0m\u001b[0;34m\u001b[0m\u001b[0m\n",
      "\u001b[0;32m~/miniconda3/envs/dkdc/lib/python3.8/site-packages/distributed/client.py\u001b[0m in \u001b[0;36mgather\u001b[0;34m(self, futures, errors, direct, asynchronous)\u001b[0m\n\u001b[1;32m   1985\u001b[0m             \u001b[0;32melse\u001b[0m\u001b[0;34m:\u001b[0m\u001b[0;34m\u001b[0m\u001b[0;34m\u001b[0m\u001b[0m\n\u001b[1;32m   1986\u001b[0m                 \u001b[0mlocal_worker\u001b[0m \u001b[0;34m=\u001b[0m \u001b[0;32mNone\u001b[0m\u001b[0;34m\u001b[0m\u001b[0;34m\u001b[0m\u001b[0m\n\u001b[0;32m-> 1987\u001b[0;31m             return self.sync(\n\u001b[0m\u001b[1;32m   1988\u001b[0m                 \u001b[0mself\u001b[0m\u001b[0;34m.\u001b[0m\u001b[0m_gather\u001b[0m\u001b[0;34m,\u001b[0m\u001b[0;34m\u001b[0m\u001b[0;34m\u001b[0m\u001b[0m\n\u001b[1;32m   1989\u001b[0m                 \u001b[0mfutures\u001b[0m\u001b[0;34m,\u001b[0m\u001b[0;34m\u001b[0m\u001b[0;34m\u001b[0m\u001b[0m\n",
      "\u001b[0;32m~/miniconda3/envs/dkdc/lib/python3.8/site-packages/distributed/client.py\u001b[0m in \u001b[0;36msync\u001b[0;34m(self, func, asynchronous, callback_timeout, *args, **kwargs)\u001b[0m\n\u001b[1;32m    831\u001b[0m             \u001b[0;32mreturn\u001b[0m \u001b[0mfuture\u001b[0m\u001b[0;34m\u001b[0m\u001b[0;34m\u001b[0m\u001b[0m\n\u001b[1;32m    832\u001b[0m         \u001b[0;32melse\u001b[0m\u001b[0;34m:\u001b[0m\u001b[0;34m\u001b[0m\u001b[0;34m\u001b[0m\u001b[0m\n\u001b[0;32m--> 833\u001b[0;31m             return sync(\n\u001b[0m\u001b[1;32m    834\u001b[0m                 \u001b[0mself\u001b[0m\u001b[0;34m.\u001b[0m\u001b[0mloop\u001b[0m\u001b[0;34m,\u001b[0m \u001b[0mfunc\u001b[0m\u001b[0;34m,\u001b[0m \u001b[0;34m*\u001b[0m\u001b[0margs\u001b[0m\u001b[0;34m,\u001b[0m \u001b[0mcallback_timeout\u001b[0m\u001b[0;34m=\u001b[0m\u001b[0mcallback_timeout\u001b[0m\u001b[0;34m,\u001b[0m \u001b[0;34m**\u001b[0m\u001b[0mkwargs\u001b[0m\u001b[0;34m\u001b[0m\u001b[0;34m\u001b[0m\u001b[0m\n\u001b[1;32m    835\u001b[0m             )\n",
      "\u001b[0;32m~/miniconda3/envs/dkdc/lib/python3.8/site-packages/distributed/utils.py\u001b[0m in \u001b[0;36msync\u001b[0;34m(loop, func, callback_timeout, *args, **kwargs)\u001b[0m\n\u001b[1;32m    337\u001b[0m     \u001b[0;32mif\u001b[0m \u001b[0merror\u001b[0m\u001b[0;34m[\u001b[0m\u001b[0;36m0\u001b[0m\u001b[0;34m]\u001b[0m\u001b[0;34m:\u001b[0m\u001b[0;34m\u001b[0m\u001b[0;34m\u001b[0m\u001b[0m\n\u001b[1;32m    338\u001b[0m         \u001b[0mtyp\u001b[0m\u001b[0;34m,\u001b[0m \u001b[0mexc\u001b[0m\u001b[0;34m,\u001b[0m \u001b[0mtb\u001b[0m \u001b[0;34m=\u001b[0m \u001b[0merror\u001b[0m\u001b[0;34m[\u001b[0m\u001b[0;36m0\u001b[0m\u001b[0;34m]\u001b[0m\u001b[0;34m\u001b[0m\u001b[0;34m\u001b[0m\u001b[0m\n\u001b[0;32m--> 339\u001b[0;31m         \u001b[0;32mraise\u001b[0m \u001b[0mexc\u001b[0m\u001b[0;34m.\u001b[0m\u001b[0mwith_traceback\u001b[0m\u001b[0;34m(\u001b[0m\u001b[0mtb\u001b[0m\u001b[0;34m)\u001b[0m\u001b[0;34m\u001b[0m\u001b[0;34m\u001b[0m\u001b[0m\n\u001b[0m\u001b[1;32m    340\u001b[0m     \u001b[0;32melse\u001b[0m\u001b[0;34m:\u001b[0m\u001b[0;34m\u001b[0m\u001b[0;34m\u001b[0m\u001b[0m\n\u001b[1;32m    341\u001b[0m         \u001b[0;32mreturn\u001b[0m \u001b[0mresult\u001b[0m\u001b[0;34m[\u001b[0m\u001b[0;36m0\u001b[0m\u001b[0;34m]\u001b[0m\u001b[0;34m\u001b[0m\u001b[0;34m\u001b[0m\u001b[0m\n",
      "\u001b[0;32m~/miniconda3/envs/dkdc/lib/python3.8/site-packages/distributed/utils.py\u001b[0m in \u001b[0;36mf\u001b[0;34m()\u001b[0m\n\u001b[1;32m    321\u001b[0m             \u001b[0;32mif\u001b[0m \u001b[0mcallback_timeout\u001b[0m \u001b[0;32mis\u001b[0m \u001b[0;32mnot\u001b[0m \u001b[0;32mNone\u001b[0m\u001b[0;34m:\u001b[0m\u001b[0;34m\u001b[0m\u001b[0;34m\u001b[0m\u001b[0m\n\u001b[1;32m    322\u001b[0m                 \u001b[0mfuture\u001b[0m \u001b[0;34m=\u001b[0m \u001b[0masyncio\u001b[0m\u001b[0;34m.\u001b[0m\u001b[0mwait_for\u001b[0m\u001b[0;34m(\u001b[0m\u001b[0mfuture\u001b[0m\u001b[0;34m,\u001b[0m \u001b[0mcallback_timeout\u001b[0m\u001b[0;34m)\u001b[0m\u001b[0;34m\u001b[0m\u001b[0;34m\u001b[0m\u001b[0m\n\u001b[0;32m--> 323\u001b[0;31m             \u001b[0mresult\u001b[0m\u001b[0;34m[\u001b[0m\u001b[0;36m0\u001b[0m\u001b[0;34m]\u001b[0m \u001b[0;34m=\u001b[0m \u001b[0;32myield\u001b[0m \u001b[0mfuture\u001b[0m\u001b[0;34m\u001b[0m\u001b[0;34m\u001b[0m\u001b[0m\n\u001b[0m\u001b[1;32m    324\u001b[0m         \u001b[0;32mexcept\u001b[0m \u001b[0mException\u001b[0m \u001b[0;32mas\u001b[0m \u001b[0mexc\u001b[0m\u001b[0;34m:\u001b[0m\u001b[0;34m\u001b[0m\u001b[0;34m\u001b[0m\u001b[0m\n\u001b[1;32m    325\u001b[0m             \u001b[0merror\u001b[0m\u001b[0;34m[\u001b[0m\u001b[0;36m0\u001b[0m\u001b[0;34m]\u001b[0m \u001b[0;34m=\u001b[0m \u001b[0msys\u001b[0m\u001b[0;34m.\u001b[0m\u001b[0mexc_info\u001b[0m\u001b[0;34m(\u001b[0m\u001b[0;34m)\u001b[0m\u001b[0;34m\u001b[0m\u001b[0;34m\u001b[0m\u001b[0m\n",
      "\u001b[0;32m~/miniconda3/envs/dkdc/lib/python3.8/site-packages/tornado/gen.py\u001b[0m in \u001b[0;36mrun\u001b[0;34m(self)\u001b[0m\n\u001b[1;32m    733\u001b[0m \u001b[0;34m\u001b[0m\u001b[0m\n\u001b[1;32m    734\u001b[0m                     \u001b[0;32mtry\u001b[0m\u001b[0;34m:\u001b[0m\u001b[0;34m\u001b[0m\u001b[0;34m\u001b[0m\u001b[0m\n\u001b[0;32m--> 735\u001b[0;31m                         \u001b[0mvalue\u001b[0m \u001b[0;34m=\u001b[0m \u001b[0mfuture\u001b[0m\u001b[0;34m.\u001b[0m\u001b[0mresult\u001b[0m\u001b[0;34m(\u001b[0m\u001b[0;34m)\u001b[0m\u001b[0;34m\u001b[0m\u001b[0;34m\u001b[0m\u001b[0m\n\u001b[0m\u001b[1;32m    736\u001b[0m                     \u001b[0;32mexcept\u001b[0m \u001b[0mException\u001b[0m\u001b[0;34m:\u001b[0m\u001b[0;34m\u001b[0m\u001b[0;34m\u001b[0m\u001b[0m\n\u001b[1;32m    737\u001b[0m                         \u001b[0mexc_info\u001b[0m \u001b[0;34m=\u001b[0m \u001b[0msys\u001b[0m\u001b[0;34m.\u001b[0m\u001b[0mexc_info\u001b[0m\u001b[0;34m(\u001b[0m\u001b[0;34m)\u001b[0m\u001b[0;34m\u001b[0m\u001b[0;34m\u001b[0m\u001b[0m\n",
      "\u001b[0;32m~/miniconda3/envs/dkdc/lib/python3.8/site-packages/distributed/client.py\u001b[0m in \u001b[0;36m_gather\u001b[0;34m(self, futures, errors, direct, local_worker)\u001b[0m\n\u001b[1;32m   1850\u001b[0m                             \u001b[0mexc\u001b[0m \u001b[0;34m=\u001b[0m \u001b[0mCancelledError\u001b[0m\u001b[0;34m(\u001b[0m\u001b[0mkey\u001b[0m\u001b[0;34m)\u001b[0m\u001b[0;34m\u001b[0m\u001b[0;34m\u001b[0m\u001b[0m\n\u001b[1;32m   1851\u001b[0m                         \u001b[0;32melse\u001b[0m\u001b[0;34m:\u001b[0m\u001b[0;34m\u001b[0m\u001b[0;34m\u001b[0m\u001b[0m\n\u001b[0;32m-> 1852\u001b[0;31m                             \u001b[0;32mraise\u001b[0m \u001b[0mexception\u001b[0m\u001b[0;34m.\u001b[0m\u001b[0mwith_traceback\u001b[0m\u001b[0;34m(\u001b[0m\u001b[0mtraceback\u001b[0m\u001b[0;34m)\u001b[0m\u001b[0;34m\u001b[0m\u001b[0;34m\u001b[0m\u001b[0m\n\u001b[0m\u001b[1;32m   1853\u001b[0m                         \u001b[0;32mraise\u001b[0m \u001b[0mexc\u001b[0m\u001b[0;34m\u001b[0m\u001b[0;34m\u001b[0m\u001b[0m\n\u001b[1;32m   1854\u001b[0m                     \u001b[0;32mif\u001b[0m \u001b[0merrors\u001b[0m \u001b[0;34m==\u001b[0m \u001b[0;34m\"skip\"\u001b[0m\u001b[0;34m:\u001b[0m\u001b[0;34m\u001b[0m\u001b[0;34m\u001b[0m\u001b[0m\n",
      "\u001b[0;31mKilledWorker\u001b[0m: (\"('read-parquet-head-1-5-read-parquet-43970d1e94ff6a7aee43dd9ff880414f', 0)\", <Worker 'tls://10.2.12.37:46839', name: lostmygithubaccount-1038-worker-17-8581cf, memory: 0, processing: 1>)"
     ]
    }
   ],
   "source": [
    "df.head()"
   ]
  },
  {
   "cell_type": "code",
   "execution_count": 61,
   "metadata": {},
   "outputs": [],
   "source": [
    "df = df.persist()"
   ]
  },
  {
   "cell_type": "code",
   "execution_count": 62,
   "metadata": {},
   "outputs": [
    {
     "output_type": "execute_result",
     "data": {
      "text/plain": "<Client: 'tls://10.2.12.244:8786' processes=0 threads=0, memory=0 B>",
      "text/html": "<table style=\"border: 2px solid white;\">\n<tr>\n<td style=\"vertical-align: top; border: 0px solid white\">\n<h3 style=\"text-align: left;\">Client</h3>\n<ul style=\"text-align: left; list-style: none; margin: 0; padding: 0;\">\n  <li><b>Scheduler: </b>tls://ec2-18-218-3-14.us-east-2.compute.amazonaws.com:8786</li>\n  <li><b>Dashboard: </b><a href='https://cloud.coiled.io/dashboard/1036/status' target='_blank'>https://cloud.coiled.io/dashboard/1036/status</a></li>\n</ul>\n</td>\n<td style=\"vertical-align: top; border: 0px solid white\">\n<h3 style=\"text-align: left;\">Cluster</h3>\n<ul style=\"text-align: left; list-style:none; margin: 0; padding: 0;\">\n  <li><b>Workers: </b>25</li>\n  <li><b>Cores: </b>100</li>\n  <li><b>Memory: </b>429.50 GB</li>\n</ul>\n</td>\n</tr>\n</table>"
     },
     "metadata": {},
     "execution_count": 62
    }
   ],
   "source": [
    "c.restart()\n",
    "c"
   ]
  },
  {
   "cell_type": "code",
   "execution_count": null,
   "metadata": {},
   "outputs": [],
   "source": []
  }
 ]
}