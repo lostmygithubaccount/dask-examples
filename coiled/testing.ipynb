{
 "metadata": {
  "language_info": {
   "codemirror_mode": {
    "name": "ipython",
    "version": 3
   },
   "file_extension": ".py",
   "mimetype": "text/x-python",
   "name": "python",
   "nbconvert_exporter": "python",
   "pygments_lexer": "ipython3",
   "version": "3.8.5-final"
  },
  "orig_nbformat": 2,
  "kernelspec": {
   "name": "Python 3.8.5 64-bit ('dkdc': conda)",
   "display_name": "Python 3.8.5 64-bit ('dkdc': conda)",
   "metadata": {
    "interpreter": {
     "hash": "6813bb6deec483ed15ac37ef074baa52622250b2b65156cf2f3313d85d7e0391"
    }
   }
  }
 },
 "nbformat": 4,
 "nbformat_minor": 2,
 "cells": [
  {
   "cell_type": "code",
   "execution_count": 1,
   "metadata": {
    "tags": []
   },
   "outputs": [
    {
     "output_type": "stream",
     "name": "stdout",
     "text": "Requirement already up-to-date: coiled in /Users/cody/miniconda3/envs/dkdc/lib/python3.8/site-packages (0.0.25)\nCollecting dask\n  Downloading dask-2.28.0-py3-none-any.whl (848 kB)\n\u001b[K     |████████████████████████████████| 848 kB 2.4 MB/s \n\u001b[?25hRequirement already up-to-date: bokeh in /Users/cody/miniconda3/envs/dkdc/lib/python3.8/site-packages (2.2.1)\nRequirement already satisfied, skipping upgrade: pandas>=1.1.0 in /Users/cody/miniconda3/envs/dkdc/lib/python3.8/site-packages (from coiled) (1.1.2)\nRequirement already satisfied, skipping upgrade: distributed>=2.23.0 in /Users/cody/miniconda3/envs/dkdc/lib/python3.8/site-packages (from coiled) (2.26.0)\nRequirement already satisfied, skipping upgrade: click in /Users/cody/miniconda3/envs/dkdc/lib/python3.8/site-packages (from coiled) (7.1.2)\nRequirement already satisfied, skipping upgrade: s3fs in /Users/cody/miniconda3/envs/dkdc/lib/python3.8/site-packages (from coiled) (0.5.1)\nRequirement already satisfied, skipping upgrade: ipython in /Users/cody/miniconda3/envs/dkdc/lib/python3.8/site-packages (from coiled) (7.18.1)\nRequirement already satisfied, skipping upgrade: aiobotocore>=1.0.7 in /Users/cody/miniconda3/envs/dkdc/lib/python3.8/site-packages (from coiled) (1.1.1)\nRequirement already satisfied, skipping upgrade: aiohttp in /Users/cody/miniconda3/envs/dkdc/lib/python3.8/site-packages (from coiled) (3.6.2)\nRequirement already satisfied, skipping upgrade: pyyaml in /Users/cody/miniconda3/envs/dkdc/lib/python3.8/site-packages (from dask) (5.3.1)\nRequirement already satisfied, skipping upgrade: python-dateutil>=2.1 in /Users/cody/miniconda3/envs/dkdc/lib/python3.8/site-packages (from bokeh) (2.8.1)\nRequirement already satisfied, skipping upgrade: typing-extensions>=3.7.4 in /Users/cody/miniconda3/envs/dkdc/lib/python3.8/site-packages (from bokeh) (3.7.4.3)\nRequirement already satisfied, skipping upgrade: Jinja2>=2.7 in /Users/cody/miniconda3/envs/dkdc/lib/python3.8/site-packages (from bokeh) (2.11.2)\nRequirement already satisfied, skipping upgrade: tornado>=5.1 in /Users/cody/miniconda3/envs/dkdc/lib/python3.8/site-packages (from bokeh) (6.0.4)\nRequirement already satisfied, skipping upgrade: packaging>=16.8 in /Users/cody/miniconda3/envs/dkdc/lib/python3.8/site-packages (from bokeh) (20.4)\nRequirement already satisfied, skipping upgrade: pillow>=7.1.0 in /Users/cody/miniconda3/envs/dkdc/lib/python3.8/site-packages (from bokeh) (7.2.0)\nRequirement already satisfied, skipping upgrade: numpy>=1.11.3 in /Users/cody/miniconda3/envs/dkdc/lib/python3.8/site-packages (from bokeh) (1.19.2)\nRequirement already satisfied, skipping upgrade: pytz>=2017.2 in /Users/cody/miniconda3/envs/dkdc/lib/python3.8/site-packages (from pandas>=1.1.0->coiled) (2020.1)\nRequirement already satisfied, skipping upgrade: psutil>=5.0 in /Users/cody/miniconda3/envs/dkdc/lib/python3.8/site-packages (from distributed>=2.23.0->coiled) (5.7.2)\nRequirement already satisfied, skipping upgrade: msgpack>=0.6.0 in /Users/cody/miniconda3/envs/dkdc/lib/python3.8/site-packages (from distributed>=2.23.0->coiled) (1.0.0)\nRequirement already satisfied, skipping upgrade: zict>=0.1.3 in /Users/cody/miniconda3/envs/dkdc/lib/python3.8/site-packages (from distributed>=2.23.0->coiled) (2.0.0)\nRequirement already satisfied, skipping upgrade: setuptools in /Users/cody/miniconda3/envs/dkdc/lib/python3.8/site-packages (from distributed>=2.23.0->coiled) (49.6.0.post20200814)\nRequirement already satisfied, skipping upgrade: tblib>=1.6.0 in /Users/cody/miniconda3/envs/dkdc/lib/python3.8/site-packages (from distributed>=2.23.0->coiled) (1.7.0)\nRequirement already satisfied, skipping upgrade: cloudpickle>=1.5.0 in /Users/cody/miniconda3/envs/dkdc/lib/python3.8/site-packages (from distributed>=2.23.0->coiled) (1.6.0)\nRequirement already satisfied, skipping upgrade: sortedcontainers!=2.0.0,!=2.0.1 in /Users/cody/miniconda3/envs/dkdc/lib/python3.8/site-packages (from distributed>=2.23.0->coiled) (2.2.2)\nRequirement already satisfied, skipping upgrade: toolz>=0.8.2 in /Users/cody/miniconda3/envs/dkdc/lib/python3.8/site-packages (from distributed>=2.23.0->coiled) (0.10.0)\nRequirement already satisfied, skipping upgrade: fsspec>=0.8.0 in /Users/cody/miniconda3/envs/dkdc/lib/python3.8/site-packages (from s3fs->coiled) (0.8.3)\nRequirement already satisfied, skipping upgrade: prompt-toolkit!=3.0.0,!=3.0.1,<3.1.0,>=2.0.0 in /Users/cody/miniconda3/envs/dkdc/lib/python3.8/site-packages (from ipython->coiled) (3.0.7)\nRequirement already satisfied, skipping upgrade: decorator in /Users/cody/miniconda3/envs/dkdc/lib/python3.8/site-packages (from ipython->coiled) (4.4.2)\nRequirement already satisfied, skipping upgrade: pickleshare in /Users/cody/miniconda3/envs/dkdc/lib/python3.8/site-packages (from ipython->coiled) (0.7.5)\nRequirement already satisfied, skipping upgrade: jedi>=0.10 in /Users/cody/miniconda3/envs/dkdc/lib/python3.8/site-packages (from ipython->coiled) (0.17.2)\nRequirement already satisfied, skipping upgrade: backcall in /Users/cody/miniconda3/envs/dkdc/lib/python3.8/site-packages (from ipython->coiled) (0.2.0)\nRequirement already satisfied, skipping upgrade: pexpect>4.3; sys_platform != \"win32\" in /Users/cody/miniconda3/envs/dkdc/lib/python3.8/site-packages (from ipython->coiled) (4.8.0)\nRequirement already satisfied, skipping upgrade: appnope; sys_platform == \"darwin\" in /Users/cody/miniconda3/envs/dkdc/lib/python3.8/site-packages (from ipython->coiled) (0.1.0)\nRequirement already satisfied, skipping upgrade: pygments in /Users/cody/miniconda3/envs/dkdc/lib/python3.8/site-packages (from ipython->coiled) (2.6.1)\nRequirement already satisfied, skipping upgrade: traitlets>=4.2 in /Users/cody/miniconda3/envs/dkdc/lib/python3.8/site-packages (from ipython->coiled) (5.0.4)\nRequirement already satisfied, skipping upgrade: wrapt>=1.10.10 in /Users/cody/miniconda3/envs/dkdc/lib/python3.8/site-packages (from aiobotocore>=1.0.7->coiled) (1.12.1)\nRequirement already satisfied, skipping upgrade: aioitertools>=0.5.1 in /Users/cody/miniconda3/envs/dkdc/lib/python3.8/site-packages (from aiobotocore>=1.0.7->coiled) (0.7.0)\nRequirement already satisfied, skipping upgrade: botocore<1.17.45,>=1.17.44 in /Users/cody/miniconda3/envs/dkdc/lib/python3.8/site-packages (from aiobotocore>=1.0.7->coiled) (1.17.44)\nRequirement already satisfied, skipping upgrade: chardet<4.0,>=2.0 in /Users/cody/miniconda3/envs/dkdc/lib/python3.8/site-packages (from aiohttp->coiled) (3.0.4)\nRequirement already satisfied, skipping upgrade: multidict<5.0,>=4.5 in /Users/cody/miniconda3/envs/dkdc/lib/python3.8/site-packages (from aiohttp->coiled) (4.7.6)\nRequirement already satisfied, skipping upgrade: attrs>=17.3.0 in /Users/cody/miniconda3/envs/dkdc/lib/python3.8/site-packages (from aiohttp->coiled) (20.2.0)\nRequirement already satisfied, skipping upgrade: yarl<2.0,>=1.0 in /Users/cody/miniconda3/envs/dkdc/lib/python3.8/site-packages (from aiohttp->coiled) (1.5.1)\nRequirement already satisfied, skipping upgrade: async-timeout<4.0,>=3.0 in /Users/cody/miniconda3/envs/dkdc/lib/python3.8/site-packages (from aiohttp->coiled) (3.0.1)\nRequirement already satisfied, skipping upgrade: six>=1.5 in /Users/cody/miniconda3/envs/dkdc/lib/python3.8/site-packages (from python-dateutil>=2.1->bokeh) (1.15.0)\nRequirement already satisfied, skipping upgrade: MarkupSafe>=0.23 in /Users/cody/miniconda3/envs/dkdc/lib/python3.8/site-packages (from Jinja2>=2.7->bokeh) (1.1.1)\nRequirement already satisfied, skipping upgrade: pyparsing>=2.0.2 in /Users/cody/miniconda3/envs/dkdc/lib/python3.8/site-packages (from packaging>=16.8->bokeh) (2.4.7)\nRequirement already satisfied, skipping upgrade: heapdict in /Users/cody/miniconda3/envs/dkdc/lib/python3.8/site-packages (from zict>=0.1.3->distributed>=2.23.0->coiled) (1.0.1)\nRequirement already satisfied, skipping upgrade: wcwidth in /Users/cody/miniconda3/envs/dkdc/lib/python3.8/site-packages (from prompt-toolkit!=3.0.0,!=3.0.1,<3.1.0,>=2.0.0->ipython->coiled) (0.2.5)\nRequirement already satisfied, skipping upgrade: parso<0.8.0,>=0.7.0 in /Users/cody/miniconda3/envs/dkdc/lib/python3.8/site-packages (from jedi>=0.10->ipython->coiled) (0.7.1)\nRequirement already satisfied, skipping upgrade: ptyprocess>=0.5 in /Users/cody/miniconda3/envs/dkdc/lib/python3.8/site-packages (from pexpect>4.3; sys_platform != \"win32\"->ipython->coiled) (0.6.0)\nRequirement already satisfied, skipping upgrade: ipython-genutils in /Users/cody/miniconda3/envs/dkdc/lib/python3.8/site-packages (from traitlets>=4.2->ipython->coiled) (0.2.0)\nRequirement already satisfied, skipping upgrade: docutils<0.16,>=0.10 in /Users/cody/miniconda3/envs/dkdc/lib/python3.8/site-packages (from botocore<1.17.45,>=1.17.44->aiobotocore>=1.0.7->coiled) (0.15.2)\nRequirement already satisfied, skipping upgrade: urllib3<1.26,>=1.20; python_version != \"3.4\" in /Users/cody/miniconda3/envs/dkdc/lib/python3.8/site-packages (from botocore<1.17.45,>=1.17.44->aiobotocore>=1.0.7->coiled) (1.25.10)\nRequirement already satisfied, skipping upgrade: jmespath<1.0.0,>=0.7.1 in /Users/cody/miniconda3/envs/dkdc/lib/python3.8/site-packages (from botocore<1.17.45,>=1.17.44->aiobotocore>=1.0.7->coiled) (0.10.0)\nRequirement already satisfied, skipping upgrade: idna>=2.0 in /Users/cody/miniconda3/envs/dkdc/lib/python3.8/site-packages (from yarl<2.0,>=1.0->aiohttp->coiled) (2.10)\nInstalling collected packages: dask\n  Attempting uninstall: dask\n    Found existing installation: dask 2.27.0\n    Uninstalling dask-2.27.0:\n      Successfully uninstalled dask-2.27.0\nSuccessfully installed dask-2.28.0\nNote: you may need to restart the kernel to use updated packages.\n"
    }
   ],
   "source": [
    "pip install --upgrade coiled dask bokeh "
   ]
  },
  {
   "cell_type": "code",
   "execution_count": null,
   "metadata": {
    "tags": []
   },
   "outputs": [],
   "source": [
    "!coiled login --token <>"
   ]
  },
  {
   "cell_type": "code",
   "execution_count": 2,
   "metadata": {
    "tags": []
   },
   "outputs": [
    {
     "output_type": "stream",
     "name": "stdout",
     "text": "Creating Cluster. This takes about a minute ...Checking environment images\nValid environment image found\n"
    },
    {
     "output_type": "display_data",
     "data": {
      "text/plain": "VBox(children=(HTML(value='<h2>coiled.Cluster</h2>'), HBox(children=(HTML(value='\\n<div>\\n  <style scoped>\\n  …",
      "application/vnd.jupyter.widget-view+json": {
       "version_major": 2,
       "version_minor": 0,
       "model_id": "6cc1afeca93b4bc2848d35978f5dc4dc"
      }
     },
     "metadata": {}
    }
   ],
   "source": [
    "import coiled \n",
    "\n",
    "cluster = coiled.Cluster(\n",
    "    n_workers=20,\n",
    ")\n",
    "cluster"
   ]
  },
  {
   "cell_type": "code",
   "execution_count": 3,
   "metadata": {},
   "outputs": [
    {
     "output_type": "execute_result",
     "data": {
      "text/plain": "<Client: 'tls://10.2.11.234:8786' processes=20 threads=80, memory=343.60 GB>",
      "text/html": "<table style=\"border: 2px solid white;\">\n<tr>\n<td style=\"vertical-align: top; border: 0px solid white\">\n<h3 style=\"text-align: left;\">Client</h3>\n<ul style=\"text-align: left; list-style: none; margin: 0; padding: 0;\">\n  <li><b>Scheduler: </b>tls://ec2-3-137-183-41.us-east-2.compute.amazonaws.com:8786</li>\n  <li><b>Dashboard: </b><a href='https://cloud.coiled.io/dashboard/1060/status' target='_blank'>https://cloud.coiled.io/dashboard/1060/status</a></li>\n</ul>\n</td>\n<td style=\"vertical-align: top; border: 0px solid white\">\n<h3 style=\"text-align: left;\">Cluster</h3>\n<ul style=\"text-align: left; list-style:none; margin: 0; padding: 0;\">\n  <li><b>Workers: </b>20</li>\n  <li><b>Cores: </b>80</li>\n  <li><b>Memory: </b>343.60 GB</li>\n</ul>\n</td>\n</tr>\n</table>"
     },
     "metadata": {},
     "execution_count": 3
    }
   ],
   "source": [
    "from dask.distributed import Client\n",
    "\n",
    "c = Client(cluster)\n",
    "c"
   ]
  },
  {
   "cell_type": "code",
   "execution_count": 4,
   "metadata": {
    "tags": []
   },
   "outputs": [
    {
     "output_type": "stream",
     "name": "stdout",
     "text": "Collecting git+https://github.com/dask/adlfs\n  Cloning https://github.com/dask/adlfs to /private/var/folders/gk/kpsykczx509cvpggyml79rsc0000gn/T/pip-req-build-2ntqpmo9\nRequirement already up-to-date: fsspec in /Users/cody/miniconda3/envs/dkdc/lib/python3.8/site-packages (0.8.3)\nRequirement already satisfied, skipping upgrade: aiohttp in /Users/cody/miniconda3/envs/dkdc/lib/python3.8/site-packages (from adlfs==0.5.3+24.gad4074b) (3.6.2)\nRequirement already satisfied, skipping upgrade: azure-core>=1.5.0 in /Users/cody/miniconda3/envs/dkdc/lib/python3.8/site-packages (from adlfs==0.5.3+24.gad4074b) (1.8.1)\nRequirement already satisfied, skipping upgrade: azure-datalake-store<0.1,>=0.0.46 in /Users/cody/miniconda3/envs/dkdc/lib/python3.8/site-packages (from adlfs==0.5.3+24.gad4074b) (0.0.50)\nRequirement already satisfied, skipping upgrade: azure-identity in /Users/cody/miniconda3/envs/dkdc/lib/python3.8/site-packages (from adlfs==0.5.3+24.gad4074b) (1.2.0)\nRequirement already satisfied, skipping upgrade: azure-storage-blob>=12.5.0 in /Users/cody/miniconda3/envs/dkdc/lib/python3.8/site-packages (from adlfs==0.5.3+24.gad4074b) (12.5.0)\nRequirement already satisfied, skipping upgrade: msrestazure in /Users/cody/miniconda3/envs/dkdc/lib/python3.8/site-packages (from adlfs==0.5.3+24.gad4074b) (0.6.4)\nRequirement already satisfied, skipping upgrade: requests<3.0,>=2.22.0 in /Users/cody/miniconda3/envs/dkdc/lib/python3.8/site-packages (from adlfs==0.5.3+24.gad4074b) (2.24.0)\nRequirement already satisfied, skipping upgrade: attrs>=17.3.0 in /Users/cody/miniconda3/envs/dkdc/lib/python3.8/site-packages (from aiohttp->adlfs==0.5.3+24.gad4074b) (20.2.0)\nRequirement already satisfied, skipping upgrade: multidict<5.0,>=4.5 in /Users/cody/miniconda3/envs/dkdc/lib/python3.8/site-packages (from aiohttp->adlfs==0.5.3+24.gad4074b) (4.7.6)\nRequirement already satisfied, skipping upgrade: yarl<2.0,>=1.0 in /Users/cody/miniconda3/envs/dkdc/lib/python3.8/site-packages (from aiohttp->adlfs==0.5.3+24.gad4074b) (1.5.1)\nRequirement already satisfied, skipping upgrade: async-timeout<4.0,>=3.0 in /Users/cody/miniconda3/envs/dkdc/lib/python3.8/site-packages (from aiohttp->adlfs==0.5.3+24.gad4074b) (3.0.1)\nRequirement already satisfied, skipping upgrade: chardet<4.0,>=2.0 in /Users/cody/miniconda3/envs/dkdc/lib/python3.8/site-packages (from aiohttp->adlfs==0.5.3+24.gad4074b) (3.0.4)\nRequirement already satisfied, skipping upgrade: six>=1.6 in /Users/cody/miniconda3/envs/dkdc/lib/python3.8/site-packages (from azure-core>=1.5.0->adlfs==0.5.3+24.gad4074b) (1.15.0)\nRequirement already satisfied, skipping upgrade: cffi in /Users/cody/miniconda3/envs/dkdc/lib/python3.8/site-packages (from azure-datalake-store<0.1,>=0.0.46->adlfs==0.5.3+24.gad4074b) (1.14.2)\nRequirement already satisfied, skipping upgrade: adal>=0.4.2 in /Users/cody/miniconda3/envs/dkdc/lib/python3.8/site-packages (from azure-datalake-store<0.1,>=0.0.46->adlfs==0.5.3+24.gad4074b) (1.2.4)\nRequirement already satisfied, skipping upgrade: cryptography>=2.1.4 in /Users/cody/miniconda3/envs/dkdc/lib/python3.8/site-packages (from azure-identity->adlfs==0.5.3+24.gad4074b) (3.1)\nRequirement already satisfied, skipping upgrade: msal-extensions~=0.1.3 in /Users/cody/miniconda3/envs/dkdc/lib/python3.8/site-packages (from azure-identity->adlfs==0.5.3+24.gad4074b) (0.1.3)\nRequirement already satisfied, skipping upgrade: msal<2.0.0,>=1.0.0 in /Users/cody/miniconda3/envs/dkdc/lib/python3.8/site-packages (from azure-identity->adlfs==0.5.3+24.gad4074b) (1.5.0)\nRequirement already satisfied, skipping upgrade: msrest>=0.6.10 in /Users/cody/miniconda3/envs/dkdc/lib/python3.8/site-packages (from azure-storage-blob>=12.5.0->adlfs==0.5.3+24.gad4074b) (0.6.19)\nRequirement already satisfied, skipping upgrade: urllib3!=1.25.0,!=1.25.1,<1.26,>=1.21.1 in /Users/cody/miniconda3/envs/dkdc/lib/python3.8/site-packages (from requests<3.0,>=2.22.0->adlfs==0.5.3+24.gad4074b) (1.25.10)\nRequirement already satisfied, skipping upgrade: certifi>=2017.4.17 in /Users/cody/miniconda3/envs/dkdc/lib/python3.8/site-packages (from requests<3.0,>=2.22.0->adlfs==0.5.3+24.gad4074b) (2020.6.20)\nRequirement already satisfied, skipping upgrade: idna<3,>=2.5 in /Users/cody/miniconda3/envs/dkdc/lib/python3.8/site-packages (from requests<3.0,>=2.22.0->adlfs==0.5.3+24.gad4074b) (2.10)\nRequirement already satisfied, skipping upgrade: pycparser in /Users/cody/miniconda3/envs/dkdc/lib/python3.8/site-packages (from cffi->azure-datalake-store<0.1,>=0.0.46->adlfs==0.5.3+24.gad4074b) (2.20)\nRequirement already satisfied, skipping upgrade: PyJWT>=1.0.0 in /Users/cody/miniconda3/envs/dkdc/lib/python3.8/site-packages (from adal>=0.4.2->azure-datalake-store<0.1,>=0.0.46->adlfs==0.5.3+24.gad4074b) (1.7.1)\nRequirement already satisfied, skipping upgrade: python-dateutil>=2.1.0 in /Users/cody/miniconda3/envs/dkdc/lib/python3.8/site-packages (from adal>=0.4.2->azure-datalake-store<0.1,>=0.0.46->adlfs==0.5.3+24.gad4074b) (2.8.1)\nRequirement already satisfied, skipping upgrade: portalocker~=1.0 in /Users/cody/miniconda3/envs/dkdc/lib/python3.8/site-packages (from msal-extensions~=0.1.3->azure-identity->adlfs==0.5.3+24.gad4074b) (1.7.1)\nRequirement already satisfied, skipping upgrade: isodate>=0.6.0 in /Users/cody/miniconda3/envs/dkdc/lib/python3.8/site-packages (from msrest>=0.6.10->azure-storage-blob>=12.5.0->adlfs==0.5.3+24.gad4074b) (0.6.0)\nRequirement already satisfied, skipping upgrade: requests-oauthlib>=0.5.0 in /Users/cody/miniconda3/envs/dkdc/lib/python3.8/site-packages (from msrest>=0.6.10->azure-storage-blob>=12.5.0->adlfs==0.5.3+24.gad4074b) (1.3.0)\nRequirement already satisfied, skipping upgrade: oauthlib>=3.0.0 in /Users/cody/miniconda3/envs/dkdc/lib/python3.8/site-packages (from requests-oauthlib>=0.5.0->msrest>=0.6.10->azure-storage-blob>=12.5.0->adlfs==0.5.3+24.gad4074b) (3.1.0)\nBuilding wheels for collected packages: adlfs\n  Building wheel for adlfs (setup.py) ... \u001b[?25ldone\n\u001b[?25h  Created wheel for adlfs: filename=adlfs-0.5.3+24.gad4074b-py3-none-any.whl size=18754 sha256=63b04afc87536e182676815a05d8a427420116631c42dbd120202a296ebd6b83\n  Stored in directory: /private/var/folders/gk/kpsykczx509cvpggyml79rsc0000gn/T/pip-ephem-wheel-cache-3rs42805/wheels/a1/6c/2d/3b988aa0fd36594a0291addc195e10386681f4f354c95fbe75\nSuccessfully built adlfs\nInstalling collected packages: adlfs\n  Attempting uninstall: adlfs\n    Found existing installation: adlfs 0.5.3+18.g65de4a6\n    Uninstalling adlfs-0.5.3+18.g65de4a6:\n      Successfully uninstalled adlfs-0.5.3+18.g65de4a6\nSuccessfully installed adlfs-0.5.3+24.gad4074b\n"
    }
   ],
   "source": [
    "!pip install --upgrade git+https://github.com/dask/adlfs fsspec"
   ]
  },
  {
   "cell_type": "code",
   "execution_count": 5,
   "metadata": {},
   "outputs": [],
   "source": [
    "def update_packages():\n",
    "    import os\n",
    "    os.system('pip install --upgrade git+https://github.com/dask/adlfs fsspec')"
   ]
  },
  {
   "cell_type": "code",
   "execution_count": 6,
   "metadata": {},
   "outputs": [
    {
     "output_type": "execute_result",
     "data": {
      "text/plain": "[<Future: pending, key: update_packages-11d25768-0457-4cf3-a12c-9a170df86a87>,\n <Future: pending, key: update_packages-d14a8cb8-35a0-4f8f-a548-dcaed173109b>,\n <Future: pending, key: update_packages-e11b7a2d-d99f-4b9a-b952-de3e4d0f531b>,\n <Future: pending, key: update_packages-2c842bed-beec-4d32-99f0-4641466992ad>,\n <Future: pending, key: update_packages-a996a493-839d-43d9-9a35-eb63c3436d04>,\n <Future: pending, key: update_packages-3dd89631-788c-414c-a1f0-868c390bcba6>,\n <Future: pending, key: update_packages-380d6727-e99c-49f7-9fa5-fb628765bfce>,\n <Future: pending, key: update_packages-19a46924-2fa4-4a10-acfb-f4aeb39e50df>,\n <Future: pending, key: update_packages-dd5526d7-1d2a-4d33-b2fa-60ab51ab7a17>,\n <Future: pending, key: update_packages-888a509e-6bd2-4145-a153-c82800346183>,\n <Future: pending, key: update_packages-c4bda028-af30-40e4-ac40-959466835e62>,\n <Future: pending, key: update_packages-24ff8774-e26a-4b40-b46a-619839248e5e>,\n <Future: pending, key: update_packages-52ea546d-b9ae-493d-abe8-c634a9b3bf42>,\n <Future: pending, key: update_packages-ce1dc2ce-73f8-4f64-8feb-39156578d450>,\n <Future: pending, key: update_packages-defb91a9-06f6-4ae4-bafe-360dd424c89a>,\n <Future: pending, key: update_packages-25c9c483-731a-47ad-9bc1-04a5a1b9b698>,\n <Future: pending, key: update_packages-a31a2b36-effa-4f30-bba5-ffb56a739be8>,\n <Future: pending, key: update_packages-38b0712d-d6b1-45c3-8e67-8ef2a41af50f>,\n <Future: pending, key: update_packages-dfe9aced-64ae-409c-a495-e8cc52a4a040>,\n <Future: pending, key: update_packages-7ba18534-35d6-4504-9a34-ae8291570262>]"
     },
     "metadata": {},
     "execution_count": 6
    }
   ],
   "source": [
    "import dask \n",
    "\n",
    "to_compute = [dask.delayed(update_packages) for i in range(20)]\n",
    "c.compute(to_compute)"
   ]
  },
  {
   "cell_type": "code",
   "execution_count": 7,
   "metadata": {},
   "outputs": [
    {
     "output_type": "execute_result",
     "data": {
      "text/plain": "['isdweatherdatacontainer/ISDWeather/',\n 'isdweatherdatacontainer/ISDWeatherAll',\n 'isdweatherdatacontainer/ISDWeatherAll/',\n 'isdweatherdatacontainer/ISDWeatherBackup',\n 'isdweatherdatacontainer/ISDWeatherBackup/',\n 'isdweatherdatacontainer/ISDWeatherBackup_20200115/',\n 'isdweatherdatacontainer/ISDWeatherTest/',\n 'isdweatherdatacontainer/fama',\n 'isdweatherdatacontainer/fama/']"
     },
     "metadata": {},
     "execution_count": 7
    }
   ],
   "source": [
    "from adlfs import AzureBlobFileSystem\n",
    "\n",
    "storage_options = {'account_name': 'azureopendatastorage'}\n",
    "\n",
    "fs = AzureBlobFileSystem(**storage_options)\n",
    "fs.ls('isdweatherdatacontainer')"
   ]
  },
  {
   "cell_type": "code",
   "execution_count": 8,
   "metadata": {},
   "outputs": [
    {
     "output_type": "execute_result",
     "data": {
      "text/plain": "['isdweatherdatacontainer/ISDWeather/year=2020/month=9/part-00003-tid-284390262140683114-58f91dbe-0395-42d9-89c5-3c3192dc5f53-2443-9.c000.snappy.parquet',\n 'isdweatherdatacontainer/ISDWeather/year=2020/month=9/part-00004-tid-284390262140683114-58f91dbe-0395-42d9-89c5-3c3192dc5f53-2448-9.c000.snappy.parquet',\n 'isdweatherdatacontainer/ISDWeather/year=2020/month=9/part-00005-tid-284390262140683114-58f91dbe-0395-42d9-89c5-3c3192dc5f53-2445-9.c000.snappy.parquet',\n 'isdweatherdatacontainer/ISDWeather/year=2020/month=9/part-00006-tid-284390262140683114-58f91dbe-0395-42d9-89c5-3c3192dc5f53-2449-9.c000.snappy.parquet',\n 'isdweatherdatacontainer/ISDWeather/year=2020/month=9/part-00007-tid-284390262140683114-58f91dbe-0395-42d9-89c5-3c3192dc5f53-2444-9.c000.snappy.parquet']"
     },
     "metadata": {},
     "execution_count": 8
    }
   ],
   "source": [
    "files = fs.glob('isdweatherdatacontainer/ISDWeather/year=*/month=*/*.parquet')\n",
    "files[-5:]"
   ]
  },
  {
   "cell_type": "code",
   "execution_count": 15,
   "metadata": {},
   "outputs": [
    {
     "output_type": "execute_result",
     "data": {
      "text/plain": "['az://isdweatherdatacontainer/ISDWeather/year=2020/month=9/part-00003-tid-284390262140683114-58f91dbe-0395-42d9-89c5-3c3192dc5f53-2443-9.c000.snappy.parquet',\n 'az://isdweatherdatacontainer/ISDWeather/year=2020/month=9/part-00004-tid-284390262140683114-58f91dbe-0395-42d9-89c5-3c3192dc5f53-2448-9.c000.snappy.parquet',\n 'az://isdweatherdatacontainer/ISDWeather/year=2020/month=9/part-00005-tid-284390262140683114-58f91dbe-0395-42d9-89c5-3c3192dc5f53-2445-9.c000.snappy.parquet',\n 'az://isdweatherdatacontainer/ISDWeather/year=2020/month=9/part-00006-tid-284390262140683114-58f91dbe-0395-42d9-89c5-3c3192dc5f53-2449-9.c000.snappy.parquet',\n 'az://isdweatherdatacontainer/ISDWeather/year=2020/month=9/part-00007-tid-284390262140683114-58f91dbe-0395-42d9-89c5-3c3192dc5f53-2444-9.c000.snappy.parquet']"
     },
     "metadata": {},
     "execution_count": 15
    }
   ],
   "source": [
    "files = [f'az://{file}' for file in files]\n",
    "files[-5:]"
   ]
  },
  {
   "cell_type": "code",
   "execution_count": 16,
   "metadata": {},
   "outputs": [
    {
     "output_type": "execute_result",
     "data": {
      "text/plain": "Dask DataFrame Structure:\n                 temperature\nnpartitions=1224            \n                     float64\n                         ...\n...                      ...\n                         ...\n                         ...\nDask Name: read-parquet, 1224 tasks",
      "text/html": "<div><strong>Dask DataFrame Structure:</strong></div>\n<div>\n<style scoped>\n    .dataframe tbody tr th:only-of-type {\n        vertical-align: middle;\n    }\n\n    .dataframe tbody tr th {\n        vertical-align: top;\n    }\n\n    .dataframe thead th {\n        text-align: right;\n    }\n</style>\n<table border=\"1\" class=\"dataframe\">\n  <thead>\n    <tr style=\"text-align: right;\">\n      <th></th>\n      <th>temperature</th>\n    </tr>\n    <tr>\n      <th>npartitions=1224</th>\n      <th></th>\n    </tr>\n  </thead>\n  <tbody>\n    <tr>\n      <th></th>\n      <td>float64</td>\n    </tr>\n    <tr>\n      <th></th>\n      <td>...</td>\n    </tr>\n    <tr>\n      <th>...</th>\n      <td>...</td>\n    </tr>\n    <tr>\n      <th></th>\n      <td>...</td>\n    </tr>\n    <tr>\n      <th></th>\n      <td>...</td>\n    </tr>\n  </tbody>\n</table>\n</div>\n<div>Dask Name: read-parquet, 1224 tasks</div>"
     },
     "metadata": {},
     "execution_count": 16
    }
   ],
   "source": [
    "import dask.dataframe as dd \n",
    "\n",
    "data_url = 'az://isdweatherdatacontainer/ISDWeather/year=*/month=*/*.parquet'\n",
    "\n",
    "df = dd.read_parquet(\n",
    "    files, \n",
    "    storage_options=storage_options, \n",
    "    columns=['temperature']\n",
    "    )\n",
    "df"
   ]
  },
  {
   "cell_type": "code",
   "execution_count": 17,
   "metadata": {},
   "outputs": [
    {
     "output_type": "error",
     "ename": "KilledWorker",
     "evalue": "(\"('read-parquet-head-1-5-read-parquet-a8268b7d7b80d2e1123680be59951852', 0)\", <Worker 'tls://10.2.11.142:39213', name: lostmygithubaccount-1060-worker-15-ebfbaa, memory: 0, processing: 1>)",
     "traceback": [
      "\u001b[0;31m---------------------------------------------------------------------------\u001b[0m",
      "\u001b[0;31mKilledWorker\u001b[0m                              Traceback (most recent call last)",
      "\u001b[0;32m<ipython-input-17-c42a15b2c7cf>\u001b[0m in \u001b[0;36m<module>\u001b[0;34m\u001b[0m\n\u001b[0;32m----> 1\u001b[0;31m \u001b[0mdf\u001b[0m\u001b[0;34m.\u001b[0m\u001b[0mhead\u001b[0m\u001b[0;34m(\u001b[0m\u001b[0;34m)\u001b[0m\u001b[0;34m\u001b[0m\u001b[0;34m\u001b[0m\u001b[0m\n\u001b[0m",
      "\u001b[0;32m~/miniconda3/envs/dkdc/lib/python3.8/site-packages/dask/dataframe/core.py\u001b[0m in \u001b[0;36mhead\u001b[0;34m(self, n, npartitions, compute)\u001b[0m\n\u001b[1;32m   1004\u001b[0m             \u001b[0mWhether\u001b[0m \u001b[0mto\u001b[0m \u001b[0mcompute\u001b[0m \u001b[0mthe\u001b[0m \u001b[0mresult\u001b[0m\u001b[0;34m,\u001b[0m \u001b[0mdefault\u001b[0m \u001b[0;32mis\u001b[0m \u001b[0;32mTrue\u001b[0m\u001b[0;34m.\u001b[0m\u001b[0;34m\u001b[0m\u001b[0;34m\u001b[0m\u001b[0m\n\u001b[1;32m   1005\u001b[0m         \"\"\"\n\u001b[0;32m-> 1006\u001b[0;31m         \u001b[0;32mreturn\u001b[0m \u001b[0mself\u001b[0m\u001b[0;34m.\u001b[0m\u001b[0m_head\u001b[0m\u001b[0;34m(\u001b[0m\u001b[0mn\u001b[0m\u001b[0;34m=\u001b[0m\u001b[0mn\u001b[0m\u001b[0;34m,\u001b[0m \u001b[0mnpartitions\u001b[0m\u001b[0;34m=\u001b[0m\u001b[0mnpartitions\u001b[0m\u001b[0;34m,\u001b[0m \u001b[0mcompute\u001b[0m\u001b[0;34m=\u001b[0m\u001b[0mcompute\u001b[0m\u001b[0;34m,\u001b[0m \u001b[0msafe\u001b[0m\u001b[0;34m=\u001b[0m\u001b[0;32mTrue\u001b[0m\u001b[0;34m)\u001b[0m\u001b[0;34m\u001b[0m\u001b[0;34m\u001b[0m\u001b[0m\n\u001b[0m\u001b[1;32m   1007\u001b[0m \u001b[0;34m\u001b[0m\u001b[0m\n\u001b[1;32m   1008\u001b[0m     \u001b[0;32mdef\u001b[0m \u001b[0m_head\u001b[0m\u001b[0;34m(\u001b[0m\u001b[0mself\u001b[0m\u001b[0;34m,\u001b[0m \u001b[0mn\u001b[0m\u001b[0;34m,\u001b[0m \u001b[0mnpartitions\u001b[0m\u001b[0;34m,\u001b[0m \u001b[0mcompute\u001b[0m\u001b[0;34m,\u001b[0m \u001b[0msafe\u001b[0m\u001b[0;34m)\u001b[0m\u001b[0;34m:\u001b[0m\u001b[0;34m\u001b[0m\u001b[0;34m\u001b[0m\u001b[0m\n",
      "\u001b[0;32m~/miniconda3/envs/dkdc/lib/python3.8/site-packages/dask/dataframe/core.py\u001b[0m in \u001b[0;36m_head\u001b[0;34m(self, n, npartitions, compute, safe)\u001b[0m\n\u001b[1;32m   1037\u001b[0m \u001b[0;34m\u001b[0m\u001b[0m\n\u001b[1;32m   1038\u001b[0m         \u001b[0;32mif\u001b[0m \u001b[0mcompute\u001b[0m\u001b[0;34m:\u001b[0m\u001b[0;34m\u001b[0m\u001b[0;34m\u001b[0m\u001b[0m\n\u001b[0;32m-> 1039\u001b[0;31m             \u001b[0mresult\u001b[0m \u001b[0;34m=\u001b[0m \u001b[0mresult\u001b[0m\u001b[0;34m.\u001b[0m\u001b[0mcompute\u001b[0m\u001b[0;34m(\u001b[0m\u001b[0;34m)\u001b[0m\u001b[0;34m\u001b[0m\u001b[0;34m\u001b[0m\u001b[0m\n\u001b[0m\u001b[1;32m   1040\u001b[0m         \u001b[0;32mreturn\u001b[0m \u001b[0mresult\u001b[0m\u001b[0;34m\u001b[0m\u001b[0;34m\u001b[0m\u001b[0m\n\u001b[1;32m   1041\u001b[0m \u001b[0;34m\u001b[0m\u001b[0m\n",
      "\u001b[0;32m~/miniconda3/envs/dkdc/lib/python3.8/site-packages/dask/base.py\u001b[0m in \u001b[0;36mcompute\u001b[0;34m(self, **kwargs)\u001b[0m\n\u001b[1;32m    165\u001b[0m         \u001b[0mdask\u001b[0m\u001b[0;34m.\u001b[0m\u001b[0mbase\u001b[0m\u001b[0;34m.\u001b[0m\u001b[0mcompute\u001b[0m\u001b[0;34m\u001b[0m\u001b[0;34m\u001b[0m\u001b[0m\n\u001b[1;32m    166\u001b[0m         \"\"\"\n\u001b[0;32m--> 167\u001b[0;31m         \u001b[0;34m(\u001b[0m\u001b[0mresult\u001b[0m\u001b[0;34m,\u001b[0m\u001b[0;34m)\u001b[0m \u001b[0;34m=\u001b[0m \u001b[0mcompute\u001b[0m\u001b[0;34m(\u001b[0m\u001b[0mself\u001b[0m\u001b[0;34m,\u001b[0m \u001b[0mtraverse\u001b[0m\u001b[0;34m=\u001b[0m\u001b[0;32mFalse\u001b[0m\u001b[0;34m,\u001b[0m \u001b[0;34m**\u001b[0m\u001b[0mkwargs\u001b[0m\u001b[0;34m)\u001b[0m\u001b[0;34m\u001b[0m\u001b[0;34m\u001b[0m\u001b[0m\n\u001b[0m\u001b[1;32m    168\u001b[0m         \u001b[0;32mreturn\u001b[0m \u001b[0mresult\u001b[0m\u001b[0;34m\u001b[0m\u001b[0;34m\u001b[0m\u001b[0m\n\u001b[1;32m    169\u001b[0m \u001b[0;34m\u001b[0m\u001b[0m\n",
      "\u001b[0;32m~/miniconda3/envs/dkdc/lib/python3.8/site-packages/dask/base.py\u001b[0m in \u001b[0;36mcompute\u001b[0;34m(*args, **kwargs)\u001b[0m\n\u001b[1;32m    450\u001b[0m         \u001b[0mpostcomputes\u001b[0m\u001b[0;34m.\u001b[0m\u001b[0mappend\u001b[0m\u001b[0;34m(\u001b[0m\u001b[0mx\u001b[0m\u001b[0;34m.\u001b[0m\u001b[0m__dask_postcompute__\u001b[0m\u001b[0;34m(\u001b[0m\u001b[0;34m)\u001b[0m\u001b[0;34m)\u001b[0m\u001b[0;34m\u001b[0m\u001b[0;34m\u001b[0m\u001b[0m\n\u001b[1;32m    451\u001b[0m \u001b[0;34m\u001b[0m\u001b[0m\n\u001b[0;32m--> 452\u001b[0;31m     \u001b[0mresults\u001b[0m \u001b[0;34m=\u001b[0m \u001b[0mschedule\u001b[0m\u001b[0;34m(\u001b[0m\u001b[0mdsk\u001b[0m\u001b[0;34m,\u001b[0m \u001b[0mkeys\u001b[0m\u001b[0;34m,\u001b[0m \u001b[0;34m**\u001b[0m\u001b[0mkwargs\u001b[0m\u001b[0;34m)\u001b[0m\u001b[0;34m\u001b[0m\u001b[0;34m\u001b[0m\u001b[0m\n\u001b[0m\u001b[1;32m    453\u001b[0m     \u001b[0;32mreturn\u001b[0m \u001b[0mrepack\u001b[0m\u001b[0;34m(\u001b[0m\u001b[0;34m[\u001b[0m\u001b[0mf\u001b[0m\u001b[0;34m(\u001b[0m\u001b[0mr\u001b[0m\u001b[0;34m,\u001b[0m \u001b[0;34m*\u001b[0m\u001b[0ma\u001b[0m\u001b[0;34m)\u001b[0m \u001b[0;32mfor\u001b[0m \u001b[0mr\u001b[0m\u001b[0;34m,\u001b[0m \u001b[0;34m(\u001b[0m\u001b[0mf\u001b[0m\u001b[0;34m,\u001b[0m \u001b[0ma\u001b[0m\u001b[0;34m)\u001b[0m \u001b[0;32min\u001b[0m \u001b[0mzip\u001b[0m\u001b[0;34m(\u001b[0m\u001b[0mresults\u001b[0m\u001b[0;34m,\u001b[0m \u001b[0mpostcomputes\u001b[0m\u001b[0;34m)\u001b[0m\u001b[0;34m]\u001b[0m\u001b[0;34m)\u001b[0m\u001b[0;34m\u001b[0m\u001b[0;34m\u001b[0m\u001b[0m\n\u001b[1;32m    454\u001b[0m \u001b[0;34m\u001b[0m\u001b[0m\n",
      "\u001b[0;32m~/miniconda3/envs/dkdc/lib/python3.8/site-packages/distributed/client.py\u001b[0m in \u001b[0;36mget\u001b[0;34m(self, dsk, keys, restrictions, loose_restrictions, resources, sync, asynchronous, direct, retries, priority, fifo_timeout, actors, **kwargs)\u001b[0m\n\u001b[1;32m   2712\u001b[0m                     \u001b[0mshould_rejoin\u001b[0m \u001b[0;34m=\u001b[0m \u001b[0;32mFalse\u001b[0m\u001b[0;34m\u001b[0m\u001b[0;34m\u001b[0m\u001b[0m\n\u001b[1;32m   2713\u001b[0m             \u001b[0;32mtry\u001b[0m\u001b[0;34m:\u001b[0m\u001b[0;34m\u001b[0m\u001b[0;34m\u001b[0m\u001b[0m\n\u001b[0;32m-> 2714\u001b[0;31m                 \u001b[0mresults\u001b[0m \u001b[0;34m=\u001b[0m \u001b[0mself\u001b[0m\u001b[0;34m.\u001b[0m\u001b[0mgather\u001b[0m\u001b[0;34m(\u001b[0m\u001b[0mpacked\u001b[0m\u001b[0;34m,\u001b[0m \u001b[0masynchronous\u001b[0m\u001b[0;34m=\u001b[0m\u001b[0masynchronous\u001b[0m\u001b[0;34m,\u001b[0m \u001b[0mdirect\u001b[0m\u001b[0;34m=\u001b[0m\u001b[0mdirect\u001b[0m\u001b[0;34m)\u001b[0m\u001b[0;34m\u001b[0m\u001b[0;34m\u001b[0m\u001b[0m\n\u001b[0m\u001b[1;32m   2715\u001b[0m             \u001b[0;32mfinally\u001b[0m\u001b[0;34m:\u001b[0m\u001b[0;34m\u001b[0m\u001b[0;34m\u001b[0m\u001b[0m\n\u001b[1;32m   2716\u001b[0m                 \u001b[0;32mfor\u001b[0m \u001b[0mf\u001b[0m \u001b[0;32min\u001b[0m \u001b[0mfutures\u001b[0m\u001b[0;34m.\u001b[0m\u001b[0mvalues\u001b[0m\u001b[0;34m(\u001b[0m\u001b[0;34m)\u001b[0m\u001b[0;34m:\u001b[0m\u001b[0;34m\u001b[0m\u001b[0;34m\u001b[0m\u001b[0m\n",
      "\u001b[0;32m~/miniconda3/envs/dkdc/lib/python3.8/site-packages/distributed/client.py\u001b[0m in \u001b[0;36mgather\u001b[0;34m(self, futures, errors, direct, asynchronous)\u001b[0m\n\u001b[1;32m   1985\u001b[0m             \u001b[0;32melse\u001b[0m\u001b[0;34m:\u001b[0m\u001b[0;34m\u001b[0m\u001b[0;34m\u001b[0m\u001b[0m\n\u001b[1;32m   1986\u001b[0m                 \u001b[0mlocal_worker\u001b[0m \u001b[0;34m=\u001b[0m \u001b[0;32mNone\u001b[0m\u001b[0;34m\u001b[0m\u001b[0;34m\u001b[0m\u001b[0m\n\u001b[0;32m-> 1987\u001b[0;31m             return self.sync(\n\u001b[0m\u001b[1;32m   1988\u001b[0m                 \u001b[0mself\u001b[0m\u001b[0;34m.\u001b[0m\u001b[0m_gather\u001b[0m\u001b[0;34m,\u001b[0m\u001b[0;34m\u001b[0m\u001b[0;34m\u001b[0m\u001b[0m\n\u001b[1;32m   1989\u001b[0m                 \u001b[0mfutures\u001b[0m\u001b[0;34m,\u001b[0m\u001b[0;34m\u001b[0m\u001b[0;34m\u001b[0m\u001b[0m\n",
      "\u001b[0;32m~/miniconda3/envs/dkdc/lib/python3.8/site-packages/distributed/client.py\u001b[0m in \u001b[0;36msync\u001b[0;34m(self, func, asynchronous, callback_timeout, *args, **kwargs)\u001b[0m\n\u001b[1;32m    831\u001b[0m             \u001b[0;32mreturn\u001b[0m \u001b[0mfuture\u001b[0m\u001b[0;34m\u001b[0m\u001b[0;34m\u001b[0m\u001b[0m\n\u001b[1;32m    832\u001b[0m         \u001b[0;32melse\u001b[0m\u001b[0;34m:\u001b[0m\u001b[0;34m\u001b[0m\u001b[0;34m\u001b[0m\u001b[0m\n\u001b[0;32m--> 833\u001b[0;31m             return sync(\n\u001b[0m\u001b[1;32m    834\u001b[0m                 \u001b[0mself\u001b[0m\u001b[0;34m.\u001b[0m\u001b[0mloop\u001b[0m\u001b[0;34m,\u001b[0m \u001b[0mfunc\u001b[0m\u001b[0;34m,\u001b[0m \u001b[0;34m*\u001b[0m\u001b[0margs\u001b[0m\u001b[0;34m,\u001b[0m \u001b[0mcallback_timeout\u001b[0m\u001b[0;34m=\u001b[0m\u001b[0mcallback_timeout\u001b[0m\u001b[0;34m,\u001b[0m \u001b[0;34m**\u001b[0m\u001b[0mkwargs\u001b[0m\u001b[0;34m\u001b[0m\u001b[0;34m\u001b[0m\u001b[0m\n\u001b[1;32m    835\u001b[0m             )\n",
      "\u001b[0;32m~/miniconda3/envs/dkdc/lib/python3.8/site-packages/distributed/utils.py\u001b[0m in \u001b[0;36msync\u001b[0;34m(loop, func, callback_timeout, *args, **kwargs)\u001b[0m\n\u001b[1;32m    337\u001b[0m     \u001b[0;32mif\u001b[0m \u001b[0merror\u001b[0m\u001b[0;34m[\u001b[0m\u001b[0;36m0\u001b[0m\u001b[0;34m]\u001b[0m\u001b[0;34m:\u001b[0m\u001b[0;34m\u001b[0m\u001b[0;34m\u001b[0m\u001b[0m\n\u001b[1;32m    338\u001b[0m         \u001b[0mtyp\u001b[0m\u001b[0;34m,\u001b[0m \u001b[0mexc\u001b[0m\u001b[0;34m,\u001b[0m \u001b[0mtb\u001b[0m \u001b[0;34m=\u001b[0m \u001b[0merror\u001b[0m\u001b[0;34m[\u001b[0m\u001b[0;36m0\u001b[0m\u001b[0;34m]\u001b[0m\u001b[0;34m\u001b[0m\u001b[0;34m\u001b[0m\u001b[0m\n\u001b[0;32m--> 339\u001b[0;31m         \u001b[0;32mraise\u001b[0m \u001b[0mexc\u001b[0m\u001b[0;34m.\u001b[0m\u001b[0mwith_traceback\u001b[0m\u001b[0;34m(\u001b[0m\u001b[0mtb\u001b[0m\u001b[0;34m)\u001b[0m\u001b[0;34m\u001b[0m\u001b[0;34m\u001b[0m\u001b[0m\n\u001b[0m\u001b[1;32m    340\u001b[0m     \u001b[0;32melse\u001b[0m\u001b[0;34m:\u001b[0m\u001b[0;34m\u001b[0m\u001b[0;34m\u001b[0m\u001b[0m\n\u001b[1;32m    341\u001b[0m         \u001b[0;32mreturn\u001b[0m \u001b[0mresult\u001b[0m\u001b[0;34m[\u001b[0m\u001b[0;36m0\u001b[0m\u001b[0;34m]\u001b[0m\u001b[0;34m\u001b[0m\u001b[0;34m\u001b[0m\u001b[0m\n",
      "\u001b[0;32m~/miniconda3/envs/dkdc/lib/python3.8/site-packages/distributed/utils.py\u001b[0m in \u001b[0;36mf\u001b[0;34m()\u001b[0m\n\u001b[1;32m    321\u001b[0m             \u001b[0;32mif\u001b[0m \u001b[0mcallback_timeout\u001b[0m \u001b[0;32mis\u001b[0m \u001b[0;32mnot\u001b[0m \u001b[0;32mNone\u001b[0m\u001b[0;34m:\u001b[0m\u001b[0;34m\u001b[0m\u001b[0;34m\u001b[0m\u001b[0m\n\u001b[1;32m    322\u001b[0m                 \u001b[0mfuture\u001b[0m \u001b[0;34m=\u001b[0m \u001b[0masyncio\u001b[0m\u001b[0;34m.\u001b[0m\u001b[0mwait_for\u001b[0m\u001b[0;34m(\u001b[0m\u001b[0mfuture\u001b[0m\u001b[0;34m,\u001b[0m \u001b[0mcallback_timeout\u001b[0m\u001b[0;34m)\u001b[0m\u001b[0;34m\u001b[0m\u001b[0;34m\u001b[0m\u001b[0m\n\u001b[0;32m--> 323\u001b[0;31m             \u001b[0mresult\u001b[0m\u001b[0;34m[\u001b[0m\u001b[0;36m0\u001b[0m\u001b[0;34m]\u001b[0m \u001b[0;34m=\u001b[0m \u001b[0;32myield\u001b[0m \u001b[0mfuture\u001b[0m\u001b[0;34m\u001b[0m\u001b[0;34m\u001b[0m\u001b[0m\n\u001b[0m\u001b[1;32m    324\u001b[0m         \u001b[0;32mexcept\u001b[0m \u001b[0mException\u001b[0m \u001b[0;32mas\u001b[0m \u001b[0mexc\u001b[0m\u001b[0;34m:\u001b[0m\u001b[0;34m\u001b[0m\u001b[0;34m\u001b[0m\u001b[0m\n\u001b[1;32m    325\u001b[0m             \u001b[0merror\u001b[0m\u001b[0;34m[\u001b[0m\u001b[0;36m0\u001b[0m\u001b[0;34m]\u001b[0m \u001b[0;34m=\u001b[0m \u001b[0msys\u001b[0m\u001b[0;34m.\u001b[0m\u001b[0mexc_info\u001b[0m\u001b[0;34m(\u001b[0m\u001b[0;34m)\u001b[0m\u001b[0;34m\u001b[0m\u001b[0;34m\u001b[0m\u001b[0m\n",
      "\u001b[0;32m~/miniconda3/envs/dkdc/lib/python3.8/site-packages/tornado/gen.py\u001b[0m in \u001b[0;36mrun\u001b[0;34m(self)\u001b[0m\n\u001b[1;32m    733\u001b[0m \u001b[0;34m\u001b[0m\u001b[0m\n\u001b[1;32m    734\u001b[0m                     \u001b[0;32mtry\u001b[0m\u001b[0;34m:\u001b[0m\u001b[0;34m\u001b[0m\u001b[0;34m\u001b[0m\u001b[0m\n\u001b[0;32m--> 735\u001b[0;31m                         \u001b[0mvalue\u001b[0m \u001b[0;34m=\u001b[0m \u001b[0mfuture\u001b[0m\u001b[0;34m.\u001b[0m\u001b[0mresult\u001b[0m\u001b[0;34m(\u001b[0m\u001b[0;34m)\u001b[0m\u001b[0;34m\u001b[0m\u001b[0;34m\u001b[0m\u001b[0m\n\u001b[0m\u001b[1;32m    736\u001b[0m                     \u001b[0;32mexcept\u001b[0m \u001b[0mException\u001b[0m\u001b[0;34m:\u001b[0m\u001b[0;34m\u001b[0m\u001b[0;34m\u001b[0m\u001b[0m\n\u001b[1;32m    737\u001b[0m                         \u001b[0mexc_info\u001b[0m \u001b[0;34m=\u001b[0m \u001b[0msys\u001b[0m\u001b[0;34m.\u001b[0m\u001b[0mexc_info\u001b[0m\u001b[0;34m(\u001b[0m\u001b[0;34m)\u001b[0m\u001b[0;34m\u001b[0m\u001b[0;34m\u001b[0m\u001b[0m\n",
      "\u001b[0;32m~/miniconda3/envs/dkdc/lib/python3.8/site-packages/distributed/client.py\u001b[0m in \u001b[0;36m_gather\u001b[0;34m(self, futures, errors, direct, local_worker)\u001b[0m\n\u001b[1;32m   1850\u001b[0m                             \u001b[0mexc\u001b[0m \u001b[0;34m=\u001b[0m \u001b[0mCancelledError\u001b[0m\u001b[0;34m(\u001b[0m\u001b[0mkey\u001b[0m\u001b[0;34m)\u001b[0m\u001b[0;34m\u001b[0m\u001b[0;34m\u001b[0m\u001b[0m\n\u001b[1;32m   1851\u001b[0m                         \u001b[0;32melse\u001b[0m\u001b[0;34m:\u001b[0m\u001b[0;34m\u001b[0m\u001b[0;34m\u001b[0m\u001b[0m\n\u001b[0;32m-> 1852\u001b[0;31m                             \u001b[0;32mraise\u001b[0m \u001b[0mexception\u001b[0m\u001b[0;34m.\u001b[0m\u001b[0mwith_traceback\u001b[0m\u001b[0;34m(\u001b[0m\u001b[0mtraceback\u001b[0m\u001b[0;34m)\u001b[0m\u001b[0;34m\u001b[0m\u001b[0;34m\u001b[0m\u001b[0m\n\u001b[0m\u001b[1;32m   1853\u001b[0m                         \u001b[0;32mraise\u001b[0m \u001b[0mexc\u001b[0m\u001b[0;34m\u001b[0m\u001b[0;34m\u001b[0m\u001b[0m\n\u001b[1;32m   1854\u001b[0m                     \u001b[0;32mif\u001b[0m \u001b[0merrors\u001b[0m \u001b[0;34m==\u001b[0m \u001b[0;34m\"skip\"\u001b[0m\u001b[0;34m:\u001b[0m\u001b[0;34m\u001b[0m\u001b[0;34m\u001b[0m\u001b[0m\n",
      "\u001b[0;31mKilledWorker\u001b[0m: (\"('read-parquet-head-1-5-read-parquet-a8268b7d7b80d2e1123680be59951852', 0)\", <Worker 'tls://10.2.11.142:39213', name: lostmygithubaccount-1060-worker-15-ebfbaa, memory: 0, processing: 1>)"
     ]
    }
   ],
   "source": [
    "df.head()"
   ]
  },
  {
   "cell_type": "code",
   "execution_count": null,
   "metadata": {},
   "outputs": [],
   "source": [
    "df = df.persist()"
   ]
  },
  {
   "cell_type": "code",
   "execution_count": 18,
   "metadata": {},
   "outputs": [
    {
     "output_type": "execute_result",
     "data": {
      "text/plain": "<Client: 'tls://10.2.11.234:8786' processes=0 threads=0, memory=0 B>",
      "text/html": "<table style=\"border: 2px solid white;\">\n<tr>\n<td style=\"vertical-align: top; border: 0px solid white\">\n<h3 style=\"text-align: left;\">Client</h3>\n<ul style=\"text-align: left; list-style: none; margin: 0; padding: 0;\">\n  <li><b>Scheduler: </b>tls://ec2-3-137-183-41.us-east-2.compute.amazonaws.com:8786</li>\n  <li><b>Dashboard: </b><a href='https://cloud.coiled.io/dashboard/1060/status' target='_blank'>https://cloud.coiled.io/dashboard/1060/status</a></li>\n</ul>\n</td>\n<td style=\"vertical-align: top; border: 0px solid white\">\n<h3 style=\"text-align: left;\">Cluster</h3>\n<ul style=\"text-align: left; list-style:none; margin: 0; padding: 0;\">\n  <li><b>Workers: </b>20</li>\n  <li><b>Cores: </b>80</li>\n  <li><b>Memory: </b>343.60 GB</li>\n</ul>\n</td>\n</tr>\n</table>"
     },
     "metadata": {},
     "execution_count": 18
    }
   ],
   "source": [
    "c.restart()\n",
    "c"
   ]
  },
  {
   "cell_type": "code",
   "execution_count": 19,
   "metadata": {},
   "outputs": [
    {
     "output_type": "execute_result",
     "data": {
      "text/plain": "passenger_count\n0    2.122789\n1    2.206790\n2    2.214306\n3    2.137775\n4    2.023804\n5    2.235441\n6    2.221105\n7    6.675962\n8    7.111625\n9    7.377822\nName: tip_amount, dtype: float64"
     },
     "metadata": {},
     "execution_count": 19
    }
   ],
   "source": [
    "# this runs fine\n",
    "\n",
    "import dask.dataframe as dd\n",
    "\n",
    "df = dd.read_csv(\n",
    "    \"s3://nyc-tlc/trip data/yellow_tripdata_2019-*.csv\",\n",
    "    dtype={\n",
    "        \"payment_type\": \"UInt8\",\n",
    "        \"VendorID\": \"UInt8\",\n",
    "        \"passenger_count\": \"UInt8\",\n",
    "        \"RatecodeID\": \"UInt8\",\n",
    "    },\n",
    "    storage_options={\"anon\": True},\n",
    "    blocksize=\"16 MiB\",\n",
    ").persist()\n",
    "\n",
    "df.groupby(\"passenger_count\").tip_amount.mean().compute()"
   ]
  }
 ]
}