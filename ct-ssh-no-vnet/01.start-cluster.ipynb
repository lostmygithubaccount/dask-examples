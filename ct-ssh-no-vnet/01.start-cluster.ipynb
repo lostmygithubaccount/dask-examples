{
 "cells": [
  {
   "cell_type": "code",
   "execution_count": null,
   "metadata": {
    "tags": []
   },
   "outputs": [],
   "source": [
    "pip install --upgrade azureml-sdk"
   ]
  },
  {
   "cell_type": "code",
   "execution_count": null,
   "metadata": {},
   "outputs": [],
   "source": [
    "pip install --upgrade dask-cloudprovider"
   ]
  },
  {
   "cell_type": "markdown",
   "metadata": {},
   "source": [
    "**RESTART YOUR KERNEL**"
   ]
  },
  {
   "cell_type": "markdown",
   "metadata": {},
   "source": [
    "## Workspace\n",
    "\n",
    "Get the Azure ML workspace."
   ]
  },
  {
   "cell_type": "code",
   "execution_count": null,
   "metadata": {
    "tags": []
   },
   "outputs": [],
   "source": [
    "from azureml.core import Workspace\n",
    "\n",
    "ws = Workspace.from_config('~/code/config.json')\n",
    "ws"
   ]
  },
  {
   "cell_type": "code",
   "execution_count": null,
   "metadata": {},
   "outputs": [],
   "source": [
    "from cryptography.hazmat.primitives import serialization as crypto_serialization\n",
    "from cryptography.hazmat.primitives.asymmetric import rsa\n",
    "from cryptography.hazmat.backends import default_backend as crypto_default_backend\n",
    "\n",
    "key = rsa.generate_private_key(\n",
    "    backend=crypto_default_backend(),\n",
    "    public_exponent=65537,\n",
    "    key_size=2048\n",
    ")\n",
    "private_key = key.private_bytes(\n",
    "    crypto_serialization.Encoding.PEM,\n",
    "    crypto_serialization.PrivateFormat.PKCS8,\n",
    "    crypto_serialization.NoEncryption())\n",
    "public_key = key.public_key().public_bytes(\n",
    "    crypto_serialization.Encoding.OpenSSH,\n",
    "    crypto_serialization.PublicFormat.OpenSSH\n",
    ")"
   ]
  },
  {
   "cell_type": "code",
   "execution_count": null,
   "metadata": {},
   "outputs": [],
   "source": [
    "import os\n",
    "\n",
    "with open('key', 'wb') as f:\n",
    "    f.write(private_key)\n",
    "    os.chmod('key', 0o600)\n",
    "with open('key.pub', 'wb') as f:\n",
    "    f.write(public_key)\n",
    "\n",
    "with open('key', 'r') as f:\n",
    "    private_key = f.read()\n",
    "with open('key.pub', 'r') as f:\n",
    "    public_key = f.read()"
   ]
  },
  {
   "cell_type": "code",
   "execution_count": null,
   "metadata": {
    "tags": []
   },
   "outputs": [],
   "source": [
    "from azureml.core.compute import ComputeTarget, AmlCompute\n",
    "from azureml.core.compute_target import ComputeTargetException\n",
    "\n",
    "# Choose a name for your CPU cluster\n",
    "ct_name = 'dask-ssh-ct'\n",
    "\n",
    "compute_config = AmlCompute.provisioning_configuration(vm_size='STANDARD_D2_V2',\n",
    "                                                       min_nodes=1,\n",
    "                                                       max_nodes=100,\n",
    "                                                       admin_username='daskuser',\n",
    "                                                       admin_user_ssh_key=public_key,\n",
    "                                                       remote_login_port_public_access='Enabled'\n",
    ")\n",
    "\n",
    "ct = ComputeTarget.create(ws, ct_name, compute_config)\n",
    "ct.wait_for_completion(show_output=True)"
   ]
  },
  {
   "cell_type": "code",
   "execution_count": null,
   "metadata": {
    "tags": []
   },
   "outputs": [],
   "source": [
    "from dask_cloudprovider import AzureMLCluster\n",
    "\n",
    "cluster = AzureMLCluster(ws, \n",
    "                         compute_target=ct,\n",
    "                         admin_username='daskuser',\n",
    "                         admin_ssh_key='key',\n",
    "                         scheduler_idle_timeout=7200, \n",
    "                         jupyter=True, \n",
    "                         show_output=True)"
   ]
  },
  {
   "cell_type": "code",
   "execution_count": null,
   "metadata": {},
   "outputs": [],
   "source": [
    "cluster.run"
   ]
  },
  {
   "cell_type": "code",
   "execution_count": null,
   "metadata": {
    "tags": []
   },
   "outputs": [],
   "source": [
    "cluster.scale(20)"
   ]
  },
  {
   "cell_type": "code",
   "execution_count": null,
   "metadata": {},
   "outputs": [],
   "source": [
    "cluster"
   ]
  },
  {
   "cell_type": "code",
   "execution_count": null,
   "metadata": {},
   "outputs": [],
   "source": [
    "from dask.distributed import Client\n",
    "\n",
    "c = Client(cluster)\n",
    "c"
   ]
  },
  {
   "cell_type": "code",
   "execution_count": null,
   "metadata": {},
   "outputs": [],
   "source": [
    "#cluster.close()"
   ]
  }
 ],
 "metadata": {
  "kernelspec": {
   "display_name": "Python 3.8.5 64-bit ('dkdc': conda)",
   "language": "python",
   "name": "python_defaultSpec_1599081946372"
  },
  "language_info": {
   "codemirror_mode": {
    "name": "ipython",
    "version": 3
   },
   "file_extension": ".py",
   "mimetype": "text/x-python",
   "name": "python",
   "nbconvert_exporter": "python",
   "pygments_lexer": "ipython3",
   "version": "3.8.5-final"
  }
 },
 "nbformat": 4,
 "nbformat_minor": 4
}