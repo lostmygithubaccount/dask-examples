{
 "cells": [
  {
   "cell_type": "code",
   "execution_count": null,
   "metadata": {
    "tags": []
   },
   "outputs": [],
   "source": [
    "pip install --upgrade azureml-sdk"
   ]
  },
  {
   "cell_type": "markdown",
   "metadata": {},
   "source": [
    "**RESTART YOUR KERNEL**"
   ]
  },
  {
   "cell_type": "markdown",
   "metadata": {},
   "source": [
    "## Workspace\n",
    "\n",
    "Get the Azure ML workspace."
   ]
  },
  {
   "cell_type": "code",
   "execution_count": null,
   "metadata": {
    "tags": []
   },
   "outputs": [],
   "source": [
    "from azureml.core import Workspace\n",
    "\n",
    "ws = Workspace.from_config()\n",
    "ws"
   ]
  },
  {
   "cell_type": "markdown",
   "metadata": {},
   "source": [
    "## Create vnet\n",
    "Create an Azure Virtual Network (vnet) in the same resource group as the Azure ML Workspace."
   ]
  },
  {
   "cell_type": "code",
   "execution_count": null,
   "metadata": {},
   "outputs": [],
   "source": [
    "import os \n",
    "\n",
    "cmd = f'az network vnet create --name dask-vnet --resource-group {ws.resource_group} --subnet-name default'\n",
    "\n",
    "os.system(cmd)"
   ]
  },
  {
   "cell_type": "markdown",
   "metadata": {},
   "source": [
    "## Create Compute Instance in the vnet \n",
    "Create an Azure ML Compute Instance in the same vnet."
   ]
  },
  {
   "cell_type": "code",
   "execution_count": null,
   "metadata": {
    "tags": []
   },
   "outputs": [],
   "source": [
    "import random\n",
    "from azureml.core.compute import ComputeTarget, ComputeInstance\n",
    "\n",
    "# Choose a name for your instance\n",
    "# Compute instance name should be unique across the azure region\n",
    "ci_name = f'ci-{str(random.randint(10000, 99999))}-dask'\n",
    "\n",
    "compute_config = ComputeInstance.provisioning_configuration(\n",
    "    vm_size='STANDARD_D3_V2',\n",
    "    vnet_resourcegroup_name=ws.resource_group,\n",
    "    vnet_name='dask-vnet',\n",
    "    subnet_name='default',\n",
    ")\n",
    "instance = ComputeInstance.create(ws, ci_name, compute_config)\n",
    "instance.wait_for_completion(show_output=True)"
   ]
  },
  {
   "cell_type": "markdown",
   "metadata": {},
   "source": [
    "## Create Compute Target in the vnet\n",
    "Create an Azure ML Compute Target in the same vnet. "
   ]
  },
  {
   "cell_type": "code",
   "execution_count": null,
   "metadata": {
    "tags": []
   },
   "outputs": [],
   "source": [
    "from azureml.core.compute import ComputeTarget, AmlCompute\n",
    "\n",
    "ct_name = 'dask-vnet-ct'\n",
    "\n",
    "compute_config = AmlCompute.provisioning_configuration(vm_size='STANDARD_D2_V2',\n",
    "                                                       min_nodes=1,\n",
    "                                                       max_nodes=100,\n",
    "                                                       vnet_resourcegroup_name=ws.resource_group,\n",
    "                                                       vnet_name='dask-vnet',\n",
    "                                                       subnet_name='default'\n",
    ")\n",
    "\n",
    "ct = ComputeTarget.create(ws, ct_name, compute_config)\n",
    "ct.wait_for_completion(show_output=True)"
   ]
  },
  {
   "cell_type": "markdown",
   "metadata": {},
   "source": [
    "## Open JupyterLab on Compute Instance\n",
    "Copy and paste the URL below for the JupyterLab session running on the Compute Instance. Clone this repo to the Compute Instance, and move on to run [02.start-cluster.ipynb](02.start-cluster.ipynb)."
   ]
  },
  {
   "cell_type": "code",
   "execution_count": null,
   "metadata": {
    "tags": []
   },
   "outputs": [],
   "source": [
    "instance_lab = f'https://{ci_name}.{ws.location}.instances.azureml.ms/lab'\n",
    "print(instance_lab)"
   ]
  }
 ],
 "metadata": {
  "kernelspec": {
   "display_name": "Python 3.8.5 64-bit ('dkdc': conda)",
   "language": "python",
   "name": "python_defaultSpec_1599079711919"
  },
  "language_info": {
   "codemirror_mode": {
    "name": "ipython",
    "version": 3
   },
   "file_extension": ".py",
   "mimetype": "text/x-python",
   "name": "python",
   "nbconvert_exporter": "python",
   "pygments_lexer": "ipython3",
   "version": "3.8.5-final"
  }
 },
 "nbformat": 4,
 "nbformat_minor": 4
}