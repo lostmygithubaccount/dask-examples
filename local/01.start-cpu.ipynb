{
 "cells": [
  {
   "cell_type": "markdown",
   "metadata": {},
   "source": [
    "# Start Interactive Dask Cluster"
   ]
  },
  {
   "cell_type": "code",
   "execution_count": 1,
   "metadata": {
    "tags": [
     "outputPrepend"
    ]
   },
   "outputs": [
    {
     "output_type": "stream",
     "name": "stdout",
     "text": " skipping upgrade: azureml-sdk>=1.0.83 in /Users/cody/miniconda3/envs/dkdc/lib/python3.8/site-packages (from dask-cloudprovider) (1.14.0)\nRequirement already satisfied, skipping upgrade: aiobotocore>=0.10.2 in /Users/cody/miniconda3/envs/dkdc/lib/python3.8/site-packages (from dask-cloudprovider) (1.1.1)\nRequirement already satisfied, skipping upgrade: distributed>=2.3.1 in /Users/cody/miniconda3/envs/dkdc/lib/python3.8/site-packages (from dask-cloudprovider) (2.26.0)\nRequirement already satisfied, skipping upgrade: dask>=2.2.0 in /Users/cody/miniconda3/envs/dkdc/lib/python3.8/site-packages (from dask-cloudprovider) (2.27.0)\nRequirement already satisfied, skipping upgrade: azureml-core~=1.14.0 in /Users/cody/miniconda3/envs/dkdc/lib/python3.8/site-packages (from azureml-sdk>=1.0.83->dask-cloudprovider) (1.14.0.post1)\nRequirement already satisfied, skipping upgrade: azureml-pipeline~=1.14.0 in /Users/cody/miniconda3/envs/dkdc/lib/python3.8/site-packages (from azureml-sdk>=1.0.83->dask-cloudprovider) (1.14.0)\nRequirement already satisfied, skipping upgrade: azureml-dataset-runtime[fuse]~=1.14.0 in /Users/cody/miniconda3/envs/dkdc/lib/python3.8/site-packages (from azureml-sdk>=1.0.83->dask-cloudprovider) (1.14.0)\nRequirement already satisfied, skipping upgrade: azureml-train~=1.14.0 in /Users/cody/miniconda3/envs/dkdc/lib/python3.8/site-packages (from azureml-sdk>=1.0.83->dask-cloudprovider) (1.14.0)\nRequirement already satisfied, skipping upgrade: azureml-train-automl-client~=1.14.0 in /Users/cody/miniconda3/envs/dkdc/lib/python3.8/site-packages (from azureml-sdk>=1.0.83->dask-cloudprovider) (1.14.0.post1)\nRequirement already satisfied, skipping upgrade: aioitertools>=0.5.1 in /Users/cody/miniconda3/envs/dkdc/lib/python3.8/site-packages (from aiobotocore>=0.10.2->dask-cloudprovider) (0.7.0)\nRequirement already satisfied, skipping upgrade: botocore<1.17.45,>=1.17.44 in /Users/cody/miniconda3/envs/dkdc/lib/python3.8/site-packages (from aiobotocore>=0.10.2->dask-cloudprovider) (1.17.44)\nRequirement already satisfied, skipping upgrade: wrapt>=1.10.10 in /Users/cody/miniconda3/envs/dkdc/lib/python3.8/site-packages (from aiobotocore>=0.10.2->dask-cloudprovider) (1.12.1)\nRequirement already satisfied, skipping upgrade: aiohttp>=3.3.1 in /Users/cody/miniconda3/envs/dkdc/lib/python3.8/site-packages (from aiobotocore>=0.10.2->dask-cloudprovider) (3.6.2)\nRequirement already satisfied, skipping upgrade: pyyaml in /Users/cody/miniconda3/envs/dkdc/lib/python3.8/site-packages (from distributed>=2.3.1->dask-cloudprovider) (5.3.1)\nRequirement already satisfied, skipping upgrade: tornado>=6.0.3; python_version >= \"3.8\" in /Users/cody/miniconda3/envs/dkdc/lib/python3.8/site-packages (from distributed>=2.3.1->dask-cloudprovider) (6.0.4)\nRequirement already satisfied, skipping upgrade: setuptools in /Users/cody/miniconda3/envs/dkdc/lib/python3.8/site-packages (from distributed>=2.3.1->dask-cloudprovider) (49.6.0.post20200814)\nRequirement already satisfied, skipping upgrade: msgpack>=0.6.0 in /Users/cody/miniconda3/envs/dkdc/lib/python3.8/site-packages (from distributed>=2.3.1->dask-cloudprovider) (1.0.0)\nRequirement already satisfied, skipping upgrade: tblib>=1.6.0 in /Users/cody/miniconda3/envs/dkdc/lib/python3.8/site-packages (from distributed>=2.3.1->dask-cloudprovider) (1.7.0)\nRequirement already satisfied, skipping upgrade: toolz>=0.8.2 in /Users/cody/miniconda3/envs/dkdc/lib/python3.8/site-packages (from distributed>=2.3.1->dask-cloudprovider) (0.10.0)\nRequirement already satisfied, skipping upgrade: cloudpickle>=1.5.0 in /Users/cody/miniconda3/envs/dkdc/lib/python3.8/site-packages (from distributed>=2.3.1->dask-cloudprovider) (1.6.0)\nRequirement already satisfied, skipping upgrade: psutil>=5.0 in /Users/cody/miniconda3/envs/dkdc/lib/python3.8/site-packages (from distributed>=2.3.1->dask-cloudprovider) (5.7.2)\nRequirement already satisfied, skipping upgrade: sortedcontainers!=2.0.0,!=2.0.1 in /Users/cody/miniconda3/envs/dkdc/lib/python3.8/site-packages (from distributed>=2.3.1->dask-cloudprovider) (2.2.2)\nRequirement already satisfied, skipping upgrade: click>=6.6 in /Users/cody/miniconda3/envs/dkdc/lib/python3.8/site-packages (from distributed>=2.3.1->dask-cloudprovider) (7.1.2)\nRequirement already satisfied, skipping upgrade: zict>=0.1.3 in /Users/cody/miniconda3/envs/dkdc/lib/python3.8/site-packages (from distributed>=2.3.1->dask-cloudprovider) (2.0.0)\nRequirement already satisfied, skipping upgrade: azure-mgmt-keyvault>=0.40.0 in /Users/cody/miniconda3/envs/dkdc/lib/python3.8/site-packages (from azureml-core~=1.14.0->azureml-sdk>=1.0.83->dask-cloudprovider) (2.2.0)\nRequirement already satisfied, skipping upgrade: ndg-httpsclient in /Users/cody/miniconda3/envs/dkdc/lib/python3.8/site-packages (from azureml-core~=1.14.0->azureml-sdk>=1.0.83->dask-cloudprovider) (0.5.1)\nRequirement already satisfied, skipping upgrade: PyJWT in /Users/cody/miniconda3/envs/dkdc/lib/python3.8/site-packages (from azureml-core~=1.14.0->azureml-sdk>=1.0.83->dask-cloudprovider) (1.7.1)\nRequirement already satisfied, skipping upgrade: azure-mgmt-containerregistry>=2.0.0 in /Users/cody/miniconda3/envs/dkdc/lib/python3.8/site-packages (from azureml-core~=1.14.0->azureml-sdk>=1.0.83->dask-cloudprovider) (2.8.0)\nRequirement already satisfied, skipping upgrade: pytz in /Users/cody/miniconda3/envs/dkdc/lib/python3.8/site-packages (from azureml-core~=1.14.0->azureml-sdk>=1.0.83->dask-cloudprovider) (2020.1)\nRequirement already satisfied, skipping upgrade: adal>=1.2.0 in /Users/cody/miniconda3/envs/dkdc/lib/python3.8/site-packages (from azureml-core~=1.14.0->azureml-sdk>=1.0.83->dask-cloudprovider) (1.2.4)\nRequirement already satisfied, skipping upgrade: contextlib2 in /Users/cody/miniconda3/envs/dkdc/lib/python3.8/site-packages (from azureml-core~=1.14.0->azureml-sdk>=1.0.83->dask-cloudprovider) (0.6.0.post1)\nRequirement already satisfied, skipping upgrade: docker in /Users/cody/miniconda3/envs/dkdc/lib/python3.8/site-packages (from azureml-core~=1.14.0->azureml-sdk>=1.0.83->dask-cloudprovider) (4.3.1)\nRequirement already satisfied, skipping upgrade: azure-mgmt-resource<=10.2.0,>=1.2.1 in /Users/cody/miniconda3/envs/dkdc/lib/python3.8/site-packages (from azureml-core~=1.14.0->azureml-sdk>=1.0.83->dask-cloudprovider) (10.2.0)\nRequirement already satisfied, skipping upgrade: msrestazure>=0.4.33 in /Users/cody/miniconda3/envs/dkdc/lib/python3.8/site-packages (from azureml-core~=1.14.0->azureml-sdk>=1.0.83->dask-cloudprovider) (0.6.4)\nRequirement already satisfied, skipping upgrade: SecretStorage in /Users/cody/miniconda3/envs/dkdc/lib/python3.8/site-packages (from azureml-core~=1.14.0->azureml-sdk>=1.0.83->dask-cloudprovider) (3.1.2)\nRequirement already satisfied, skipping upgrade: requests>=2.19.1 in /Users/cody/miniconda3/envs/dkdc/lib/python3.8/site-packages (from azureml-core~=1.14.0->azureml-sdk>=1.0.83->dask-cloudprovider) (2.24.0)\nRequirement already satisfied, skipping upgrade: urllib3>=1.23 in /Users/cody/miniconda3/envs/dkdc/lib/python3.8/site-packages (from azureml-core~=1.14.0->azureml-sdk>=1.0.83->dask-cloudprovider) (1.25.10)\nRequirement already satisfied, skipping upgrade: azure-graphrbac>=0.40.0 in /Users/cody/miniconda3/envs/dkdc/lib/python3.8/site-packages (from azureml-core~=1.14.0->azureml-sdk>=1.0.83->dask-cloudprovider) (0.61.1)\nRequirement already satisfied, skipping upgrade: python-dateutil>=2.7.3 in /Users/cody/miniconda3/envs/dkdc/lib/python3.8/site-packages (from azureml-core~=1.14.0->azureml-sdk>=1.0.83->dask-cloudprovider) (2.8.1)\nRequirement already satisfied, skipping upgrade: backports.tempfile in /Users/cody/miniconda3/envs/dkdc/lib/python3.8/site-packages (from azureml-core~=1.14.0->azureml-sdk>=1.0.83->dask-cloudprovider) (1.0)\nRequirement already satisfied, skipping upgrade: pathspec in /Users/cody/miniconda3/envs/dkdc/lib/python3.8/site-packages (from azureml-core~=1.14.0->azureml-sdk>=1.0.83->dask-cloudprovider) (0.8.0)\nRequirement already satisfied, skipping upgrade: jmespath in /Users/cody/miniconda3/envs/dkdc/lib/python3.8/site-packages (from azureml-core~=1.14.0->azureml-sdk>=1.0.83->dask-cloudprovider) (0.10.0)\nRequirement already satisfied, skipping upgrade: jsonpickle in /Users/cody/miniconda3/envs/dkdc/lib/python3.8/site-packages (from azureml-core~=1.14.0->azureml-sdk>=1.0.83->dask-cloudprovider) (1.4.1)\nRequirement already satisfied, skipping upgrade: cryptography!=1.9,!=2.0.*,!=2.1.*,!=2.2.* in /Users/cody/miniconda3/envs/dkdc/lib/python3.8/site-packages (from azureml-core~=1.14.0->azureml-sdk>=1.0.83->dask-cloudprovider) (3.1)\nRequirement already satisfied, skipping upgrade: azure-mgmt-authorization>=0.40.0 in /Users/cody/miniconda3/envs/dkdc/lib/python3.8/site-packages (from azureml-core~=1.14.0->azureml-sdk>=1.0.83->dask-cloudprovider) (0.61.0)\nRequirement already satisfied, skipping upgrade: msrest>=0.5.1 in /Users/cody/miniconda3/envs/dkdc/lib/python3.8/site-packages (from azureml-core~=1.14.0->azureml-sdk>=1.0.83->dask-cloudprovider) (0.6.19)\nRequirement already satisfied, skipping upgrade: azure-mgmt-storage>=1.5.0 in /Users/cody/miniconda3/envs/dkdc/lib/python3.8/site-packages (from azureml-core~=1.14.0->azureml-sdk>=1.0.83->dask-cloudprovider) (11.2.0)\nRequirement already satisfied, skipping upgrade: azure-common>=1.1.12 in /Users/cody/miniconda3/envs/dkdc/lib/python3.8/site-packages (from azureml-core~=1.14.0->azureml-sdk>=1.0.83->dask-cloudprovider) (1.1.25)\nRequirement already satisfied, skipping upgrade: pyopenssl in /Users/cody/miniconda3/envs/dkdc/lib/python3.8/site-packages (from azureml-core~=1.14.0->azureml-sdk>=1.0.83->dask-cloudprovider) (19.1.0)\nRequirement already satisfied, skipping upgrade: ruamel.yaml>=0.15.35 in /Users/cody/miniconda3/envs/dkdc/lib/python3.8/site-packages (from azureml-core~=1.14.0->azureml-sdk>=1.0.83->dask-cloudprovider) (0.16.12)\nRequirement already satisfied, skipping upgrade: azureml-pipeline-core~=1.14.0 in /Users/cody/miniconda3/envs/dkdc/lib/python3.8/site-packages (from azureml-pipeline~=1.14.0->azureml-sdk>=1.0.83->dask-cloudprovider) (1.14.0)\nRequirement already satisfied, skipping upgrade: azureml-pipeline-steps~=1.14.0 in /Users/cody/miniconda3/envs/dkdc/lib/python3.8/site-packages (from azureml-pipeline~=1.14.0->azureml-sdk>=1.0.83->dask-cloudprovider) (1.14.0)\nRequirement already satisfied, skipping upgrade: pyarrow<2.0.0,>=0.17.0 in /Users/cody/miniconda3/envs/dkdc/lib/python3.8/site-packages (from azureml-dataset-runtime[fuse]~=1.14.0->azureml-sdk>=1.0.83->dask-cloudprovider) (1.0.1)\nRequirement already satisfied, skipping upgrade: azureml-dataprep<2.2.0a,>=2.1.2a in /Users/cody/miniconda3/envs/dkdc/lib/python3.8/site-packages (from azureml-dataset-runtime[fuse]~=1.14.0->azureml-sdk>=1.0.83->dask-cloudprovider) (2.1.6)\nRequirement already satisfied, skipping upgrade: fusepy<4.0.0,>=3.0.1; extra == \"fuse\" in /Users/cody/miniconda3/envs/dkdc/lib/python3.8/site-packages (from azureml-dataset-runtime[fuse]~=1.14.0->azureml-sdk>=1.0.83->dask-cloudprovider) (3.0.1)\nRequirement already satisfied, skipping upgrade: azureml-train-core~=1.14.0 in /Users/cody/miniconda3/envs/dkdc/lib/python3.8/site-packages (from azureml-train~=1.14.0->azureml-sdk>=1.0.83->dask-cloudprovider) (1.14.0)\nRequirement already satisfied, skipping upgrade: azureml-automl-core~=1.14.0 in /Users/cody/miniconda3/envs/dkdc/lib/python3.8/site-packages (from azureml-train-automl-client~=1.14.0->azureml-sdk>=1.0.83->dask-cloudprovider) (1.14.0)\nRequirement already satisfied, skipping upgrade: azureml-telemetry~=1.14.0 in /Users/cody/miniconda3/envs/dkdc/lib/python3.8/site-packages (from azureml-train-automl-client~=1.14.0->azureml-sdk>=1.0.83->dask-cloudprovider) (1.14.0)\nRequirement already satisfied, skipping upgrade: typing_extensions>=3.7 in /Users/cody/miniconda3/envs/dkdc/lib/python3.8/site-packages (from aioitertools>=0.5.1->aiobotocore>=0.10.2->dask-cloudprovider) (3.7.4.3)\nRequirement already satisfied, skipping upgrade: docutils<0.16,>=0.10 in /Users/cody/miniconda3/envs/dkdc/lib/python3.8/site-packages (from botocore<1.17.45,>=1.17.44->aiobotocore>=0.10.2->dask-cloudprovider) (0.15.2)\nRequirement already satisfied, skipping upgrade: multidict<5.0,>=4.5 in /Users/cody/miniconda3/envs/dkdc/lib/python3.8/site-packages (from aiohttp>=3.3.1->aiobotocore>=0.10.2->dask-cloudprovider) (4.7.6)\nRequirement already satisfied, skipping upgrade: chardet<4.0,>=2.0 in /Users/cody/miniconda3/envs/dkdc/lib/python3.8/site-packages (from aiohttp>=3.3.1->aiobotocore>=0.10.2->dask-cloudprovider) (3.0.4)\nRequirement already satisfied, skipping upgrade: async-timeout<4.0,>=3.0 in /Users/cody/miniconda3/envs/dkdc/lib/python3.8/site-packages (from aiohttp>=3.3.1->aiobotocore>=0.10.2->dask-cloudprovider) (3.0.1)\nRequirement already satisfied, skipping upgrade: attrs>=17.3.0 in /Users/cody/miniconda3/envs/dkdc/lib/python3.8/site-packages (from aiohttp>=3.3.1->aiobotocore>=0.10.2->dask-cloudprovider) (20.2.0)\nRequirement already satisfied, skipping upgrade: yarl<2.0,>=1.0 in /Users/cody/miniconda3/envs/dkdc/lib/python3.8/site-packages (from aiohttp>=3.3.1->aiobotocore>=0.10.2->dask-cloudprovider) (1.5.1)\nRequirement already satisfied, skipping upgrade: heapdict in /Users/cody/miniconda3/envs/dkdc/lib/python3.8/site-packages (from zict>=0.1.3->distributed>=2.3.1->dask-cloudprovider) (1.0.1)\nRequirement already satisfied, skipping upgrade: pyasn1>=0.1.1 in /Users/cody/miniconda3/envs/dkdc/lib/python3.8/site-packages (from ndg-httpsclient->azureml-core~=1.14.0->azureml-sdk>=1.0.83->dask-cloudprovider) (0.4.8)\nRequirement already satisfied, skipping upgrade: websocket-client>=0.32.0 in /Users/cody/miniconda3/envs/dkdc/lib/python3.8/site-packages (from docker->azureml-core~=1.14.0->azureml-sdk>=1.0.83->dask-cloudprovider) (0.57.0)\nRequirement already satisfied, skipping upgrade: six>=1.4.0 in /Users/cody/miniconda3/envs/dkdc/lib/python3.8/site-packages (from docker->azureml-core~=1.14.0->azureml-sdk>=1.0.83->dask-cloudprovider) (1.15.0)\nRequirement already satisfied, skipping upgrade: jeepney>=0.4.2 in /Users/cody/miniconda3/envs/dkdc/lib/python3.8/site-packages (from SecretStorage->azureml-core~=1.14.0->azureml-sdk>=1.0.83->dask-cloudprovider) (0.4.3)\nRequirement already satisfied, skipping upgrade: certifi>=2017.4.17 in /Users/cody/miniconda3/envs/dkdc/lib/python3.8/site-packages (from requests>=2.19.1->azureml-core~=1.14.0->azureml-sdk>=1.0.83->dask-cloudprovider) (2020.6.20)\nRequirement already satisfied, skipping upgrade: idna<3,>=2.5 in /Users/cody/miniconda3/envs/dkdc/lib/python3.8/site-packages (from requests>=2.19.1->azureml-core~=1.14.0->azureml-sdk>=1.0.83->dask-cloudprovider) (2.10)\nRequirement already satisfied, skipping upgrade: backports.weakref in /Users/cody/miniconda3/envs/dkdc/lib/python3.8/site-packages (from backports.tempfile->azureml-core~=1.14.0->azureml-sdk>=1.0.83->dask-cloudprovider) (1.0.post1)\nRequirement already satisfied, skipping upgrade: importlib-metadata in /Users/cody/miniconda3/envs/dkdc/lib/python3.8/site-packages (from jsonpickle->azureml-core~=1.14.0->azureml-sdk>=1.0.83->dask-cloudprovider) (1.7.0)\nRequirement already satisfied, skipping upgrade: cffi!=1.11.3,>=1.8 in /Users/cody/miniconda3/envs/dkdc/lib/python3.8/site-packages (from cryptography!=1.9,!=2.0.*,!=2.1.*,!=2.2.*->azureml-core~=1.14.0->azureml-sdk>=1.0.83->dask-cloudprovider) (1.14.2)\nRequirement already satisfied, skipping upgrade: isodate>=0.6.0 in /Users/cody/miniconda3/envs/dkdc/lib/python3.8/site-packages (from msrest>=0.5.1->azureml-core~=1.14.0->azureml-sdk>=1.0.83->dask-cloudprovider) (0.6.0)\nRequirement already satisfied, skipping upgrade: requests-oauthlib>=0.5.0 in /Users/cody/miniconda3/envs/dkdc/lib/python3.8/site-packages (from msrest>=0.5.1->azureml-core~=1.14.0->azureml-sdk>=1.0.83->dask-cloudprovider) (1.3.0)\nRequirement already satisfied, skipping upgrade: ruamel.yaml.clib>=0.1.2; platform_python_implementation == \"CPython\" and python_version < \"3.9\" in /Users/cody/miniconda3/envs/dkdc/lib/python3.8/site-packages (from ruamel.yaml>=0.15.35->azureml-core~=1.14.0->azureml-sdk>=1.0.83->dask-cloudprovider) (0.2.2)\nRequirement already satisfied, skipping upgrade: numpy>=1.14 in /Users/cody/miniconda3/envs/dkdc/lib/python3.8/site-packages (from pyarrow<2.0.0,>=0.17.0->azureml-dataset-runtime[fuse]~=1.14.0->azureml-sdk>=1.0.83->dask-cloudprovider) (1.19.2)\nRequirement already satisfied, skipping upgrade: dotnetcore2<3.0.0,>=2.1.14 in /Users/cody/miniconda3/envs/dkdc/lib/python3.8/site-packages (from azureml-dataprep<2.2.0a,>=2.1.2a->azureml-dataset-runtime[fuse]~=1.14.0->azureml-sdk>=1.0.83->dask-cloudprovider) (2.1.14)\nRequirement already satisfied, skipping upgrade: azureml-dataprep-native<22.0.0,>=21.0.1 in /Users/cody/miniconda3/envs/dkdc/lib/python3.8/site-packages (from azureml-dataprep<2.2.0a,>=2.1.2a->azureml-dataset-runtime[fuse]~=1.14.0->azureml-sdk>=1.0.83->dask-cloudprovider) (21.0.1)\nRequirement already satisfied, skipping upgrade: azure-identity<2.0.0,>=1.2.0 in /Users/cody/miniconda3/envs/dkdc/lib/python3.8/site-packages (from azureml-dataprep<2.2.0a,>=2.1.2a->azureml-dataset-runtime[fuse]~=1.14.0->azureml-sdk>=1.0.83->dask-cloudprovider) (1.2.0)\nRequirement already satisfied, skipping upgrade: azureml-train-restclients-hyperdrive~=1.14.0 in /Users/cody/miniconda3/envs/dkdc/lib/python3.8/site-packages (from azureml-train-core~=1.14.0->azureml-train~=1.14.0->azureml-sdk>=1.0.83->dask-cloudprovider) (1.14.0)\nRequirement already satisfied, skipping upgrade: applicationinsights in /Users/cody/miniconda3/envs/dkdc/lib/python3.8/site-packages (from azureml-telemetry~=1.14.0->azureml-train-automl-client~=1.14.0->azureml-sdk>=1.0.83->dask-cloudprovider) (0.11.9)\nRequirement already satisfied, skipping upgrade: zipp>=0.5 in /Users/cody/miniconda3/envs/dkdc/lib/python3.8/site-packages (from importlib-metadata->jsonpickle->azureml-core~=1.14.0->azureml-sdk>=1.0.83->dask-cloudprovider) (3.1.0)\nRequirement already satisfied, skipping upgrade: pycparser in /Users/cody/miniconda3/envs/dkdc/lib/python3.8/site-packages (from cffi!=1.11.3,>=1.8->cryptography!=1.9,!=2.0.*,!=2.1.*,!=2.2.*->azureml-core~=1.14.0->azureml-sdk>=1.0.83->dask-cloudprovider) (2.20)\nRequirement already satisfied, skipping upgrade: oauthlib>=3.0.0 in /Users/cody/miniconda3/envs/dkdc/lib/python3.8/site-packages (from requests-oauthlib>=0.5.0->msrest>=0.5.1->azureml-core~=1.14.0->azureml-sdk>=1.0.83->dask-cloudprovider) (3.1.0)\nRequirement already satisfied, skipping upgrade: distro>=1.2.0 in /Users/cody/miniconda3/envs/dkdc/lib/python3.8/site-packages (from dotnetcore2<3.0.0,>=2.1.14->azureml-dataprep<2.2.0a,>=2.1.2a->azureml-dataset-runtime[fuse]~=1.14.0->azureml-sdk>=1.0.83->dask-cloudprovider) (1.5.0)\nRequirement already satisfied, skipping upgrade: msal-extensions~=0.1.3 in /Users/cody/miniconda3/envs/dkdc/lib/python3.8/site-packages (from azure-identity<2.0.0,>=1.2.0->azureml-dataprep<2.2.0a,>=2.1.2a->azureml-dataset-runtime[fuse]~=1.14.0->azureml-sdk>=1.0.83->dask-cloudprovider) (0.1.3)\nRequirement already satisfied, skipping upgrade: msal<2.0.0,>=1.0.0 in /Users/cody/miniconda3/envs/dkdc/lib/python3.8/site-packages (from azure-identity<2.0.0,>=1.2.0->azureml-dataprep<2.2.0a,>=2.1.2a->azureml-dataset-runtime[fuse]~=1.14.0->azureml-sdk>=1.0.83->dask-cloudprovider) (1.5.0)\nRequirement already satisfied, skipping upgrade: azure-core<2.0.0,>=1.0.0 in /Users/cody/miniconda3/envs/dkdc/lib/python3.8/site-packages (from azure-identity<2.0.0,>=1.2.0->azureml-dataprep<2.2.0a,>=2.1.2a->azureml-dataset-runtime[fuse]~=1.14.0->azureml-sdk>=1.0.83->dask-cloudprovider) (1.8.1)\nRequirement already satisfied, skipping upgrade: portalocker~=1.0 in /Users/cody/miniconda3/envs/dkdc/lib/python3.8/site-packages (from msal-extensions~=0.1.3->azure-identity<2.0.0,>=1.2.0->azureml-dataprep<2.2.0a,>=2.1.2a->azureml-dataset-runtime[fuse]~=1.14.0->azureml-sdk>=1.0.83->dask-cloudprovider) (1.7.1)\nNote: you may need to restart the kernel to use updated packages.\n"
    }
   ],
   "source": [
    "pip install --upgrade dask-cloudprovider"
   ]
  },
  {
   "cell_type": "code",
   "execution_count": 2,
   "metadata": {
    "tags": []
   },
   "outputs": [
    {
     "output_type": "stream",
     "name": "stdout",
     "text": "Requirement already up-to-date: azureml-sdk in /Users/cody/miniconda3/envs/dkdc/lib/python3.8/site-packages (1.14.0)\nRequirement already satisfied, skipping upgrade: azureml-dataset-runtime[fuse]~=1.14.0 in /Users/cody/miniconda3/envs/dkdc/lib/python3.8/site-packages (from azureml-sdk) (1.14.0)\nRequirement already satisfied, skipping upgrade: azureml-core~=1.14.0 in /Users/cody/miniconda3/envs/dkdc/lib/python3.8/site-packages (from azureml-sdk) (1.14.0.post1)\nRequirement already satisfied, skipping upgrade: azureml-train~=1.14.0 in /Users/cody/miniconda3/envs/dkdc/lib/python3.8/site-packages (from azureml-sdk) (1.14.0)\nRequirement already satisfied, skipping upgrade: azureml-train-automl-client~=1.14.0 in /Users/cody/miniconda3/envs/dkdc/lib/python3.8/site-packages (from azureml-sdk) (1.14.0.post1)\nRequirement already satisfied, skipping upgrade: azureml-pipeline~=1.14.0 in /Users/cody/miniconda3/envs/dkdc/lib/python3.8/site-packages (from azureml-sdk) (1.14.0)\nRequirement already satisfied, skipping upgrade: pyarrow<2.0.0,>=0.17.0 in /Users/cody/miniconda3/envs/dkdc/lib/python3.8/site-packages (from azureml-dataset-runtime[fuse]~=1.14.0->azureml-sdk) (1.0.1)\nRequirement already satisfied, skipping upgrade: azureml-dataprep<2.2.0a,>=2.1.2a in /Users/cody/miniconda3/envs/dkdc/lib/python3.8/site-packages (from azureml-dataset-runtime[fuse]~=1.14.0->azureml-sdk) (2.1.6)\nRequirement already satisfied, skipping upgrade: fusepy<4.0.0,>=3.0.1; extra == \"fuse\" in /Users/cody/miniconda3/envs/dkdc/lib/python3.8/site-packages (from azureml-dataset-runtime[fuse]~=1.14.0->azureml-sdk) (3.0.1)\nRequirement already satisfied, skipping upgrade: azure-common>=1.1.12 in /Users/cody/miniconda3/envs/dkdc/lib/python3.8/site-packages (from azureml-core~=1.14.0->azureml-sdk) (1.1.25)\nRequirement already satisfied, skipping upgrade: jsonpickle in /Users/cody/miniconda3/envs/dkdc/lib/python3.8/site-packages (from azureml-core~=1.14.0->azureml-sdk) (1.4.1)\nRequirement already satisfied, skipping upgrade: azure-mgmt-resource<=10.2.0,>=1.2.1 in /Users/cody/miniconda3/envs/dkdc/lib/python3.8/site-packages (from azureml-core~=1.14.0->azureml-sdk) (10.2.0)\nRequirement already satisfied, skipping upgrade: azure-mgmt-keyvault>=0.40.0 in /Users/cody/miniconda3/envs/dkdc/lib/python3.8/site-packages (from azureml-core~=1.14.0->azureml-sdk) (2.2.0)\nRequirement already satisfied, skipping upgrade: azure-mgmt-storage>=1.5.0 in /Users/cody/miniconda3/envs/dkdc/lib/python3.8/site-packages (from azureml-core~=1.14.0->azureml-sdk) (11.2.0)\nRequirement already satisfied, skipping upgrade: backports.tempfile in /Users/cody/miniconda3/envs/dkdc/lib/python3.8/site-packages (from azureml-core~=1.14.0->azureml-sdk) (1.0)\nRequirement already satisfied, skipping upgrade: contextlib2 in /Users/cody/miniconda3/envs/dkdc/lib/python3.8/site-packages (from azureml-core~=1.14.0->azureml-sdk) (0.6.0.post1)\nRequirement already satisfied, skipping upgrade: msrestazure>=0.4.33 in /Users/cody/miniconda3/envs/dkdc/lib/python3.8/site-packages (from azureml-core~=1.14.0->azureml-sdk) (0.6.4)\nRequirement already satisfied, skipping upgrade: python-dateutil>=2.7.3 in /Users/cody/miniconda3/envs/dkdc/lib/python3.8/site-packages (from azureml-core~=1.14.0->azureml-sdk) (2.8.1)\nRequirement already satisfied, skipping upgrade: pyopenssl in /Users/cody/miniconda3/envs/dkdc/lib/python3.8/site-packages (from azureml-core~=1.14.0->azureml-sdk) (19.1.0)\nRequirement already satisfied, skipping upgrade: pathspec in /Users/cody/miniconda3/envs/dkdc/lib/python3.8/site-packages (from azureml-core~=1.14.0->azureml-sdk) (0.8.0)\nRequirement already satisfied, skipping upgrade: adal>=1.2.0 in /Users/cody/miniconda3/envs/dkdc/lib/python3.8/site-packages (from azureml-core~=1.14.0->azureml-sdk) (1.2.4)\nRequirement already satisfied, skipping upgrade: PyJWT in /Users/cody/miniconda3/envs/dkdc/lib/python3.8/site-packages (from azureml-core~=1.14.0->azureml-sdk) (1.7.1)\nRequirement already satisfied, skipping upgrade: requests>=2.19.1 in /Users/cody/miniconda3/envs/dkdc/lib/python3.8/site-packages (from azureml-core~=1.14.0->azureml-sdk) (2.24.0)\nRequirement already satisfied, skipping upgrade: ndg-httpsclient in /Users/cody/miniconda3/envs/dkdc/lib/python3.8/site-packages (from azureml-core~=1.14.0->azureml-sdk) (0.5.1)\nRequirement already satisfied, skipping upgrade: ruamel.yaml>=0.15.35 in /Users/cody/miniconda3/envs/dkdc/lib/python3.8/site-packages (from azureml-core~=1.14.0->azureml-sdk) (0.16.12)\nRequirement already satisfied, skipping upgrade: pytz in /Users/cody/miniconda3/envs/dkdc/lib/python3.8/site-packages (from azureml-core~=1.14.0->azureml-sdk) (2020.1)\nRequirement already satisfied, skipping upgrade: msrest>=0.5.1 in /Users/cody/miniconda3/envs/dkdc/lib/python3.8/site-packages (from azureml-core~=1.14.0->azureml-sdk) (0.6.19)\nRequirement already satisfied, skipping upgrade: cryptography!=1.9,!=2.0.*,!=2.1.*,!=2.2.* in /Users/cody/miniconda3/envs/dkdc/lib/python3.8/site-packages (from azureml-core~=1.14.0->azureml-sdk) (3.1)\nRequirement already satisfied, skipping upgrade: azure-mgmt-authorization>=0.40.0 in /Users/cody/miniconda3/envs/dkdc/lib/python3.8/site-packages (from azureml-core~=1.14.0->azureml-sdk) (0.61.0)\nRequirement already satisfied, skipping upgrade: docker in /Users/cody/miniconda3/envs/dkdc/lib/python3.8/site-packages (from azureml-core~=1.14.0->azureml-sdk) (4.3.1)\nRequirement already satisfied, skipping upgrade: azure-mgmt-containerregistry>=2.0.0 in /Users/cody/miniconda3/envs/dkdc/lib/python3.8/site-packages (from azureml-core~=1.14.0->azureml-sdk) (2.8.0)\nRequirement already satisfied, skipping upgrade: azure-graphrbac>=0.40.0 in /Users/cody/miniconda3/envs/dkdc/lib/python3.8/site-packages (from azureml-core~=1.14.0->azureml-sdk) (0.61.1)\nRequirement already satisfied, skipping upgrade: jmespath in /Users/cody/miniconda3/envs/dkdc/lib/python3.8/site-packages (from azureml-core~=1.14.0->azureml-sdk) (0.10.0)\nRequirement already satisfied, skipping upgrade: SecretStorage in /Users/cody/miniconda3/envs/dkdc/lib/python3.8/site-packages (from azureml-core~=1.14.0->azureml-sdk) (3.1.2)\nRequirement already satisfied, skipping upgrade: urllib3>=1.23 in /Users/cody/miniconda3/envs/dkdc/lib/python3.8/site-packages (from azureml-core~=1.14.0->azureml-sdk) (1.25.10)\nRequirement already satisfied, skipping upgrade: azureml-train-core~=1.14.0 in /Users/cody/miniconda3/envs/dkdc/lib/python3.8/site-packages (from azureml-train~=1.14.0->azureml-sdk) (1.14.0)\nRequirement already satisfied, skipping upgrade: azureml-automl-core~=1.14.0 in /Users/cody/miniconda3/envs/dkdc/lib/python3.8/site-packages (from azureml-train-automl-client~=1.14.0->azureml-sdk) (1.14.0)\nRequirement already satisfied, skipping upgrade: azureml-telemetry~=1.14.0 in /Users/cody/miniconda3/envs/dkdc/lib/python3.8/site-packages (from azureml-train-automl-client~=1.14.0->azureml-sdk) (1.14.0)\nRequirement already satisfied, skipping upgrade: azureml-pipeline-steps~=1.14.0 in /Users/cody/miniconda3/envs/dkdc/lib/python3.8/site-packages (from azureml-pipeline~=1.14.0->azureml-sdk) (1.14.0)\nRequirement already satisfied, skipping upgrade: azureml-pipeline-core~=1.14.0 in /Users/cody/miniconda3/envs/dkdc/lib/python3.8/site-packages (from azureml-pipeline~=1.14.0->azureml-sdk) (1.14.0)\nRequirement already satisfied, skipping upgrade: numpy>=1.14 in /Users/cody/miniconda3/envs/dkdc/lib/python3.8/site-packages (from pyarrow<2.0.0,>=0.17.0->azureml-dataset-runtime[fuse]~=1.14.0->azureml-sdk) (1.19.2)\nRequirement already satisfied, skipping upgrade: cloudpickle<2.0.0,>=1.1.0 in /Users/cody/miniconda3/envs/dkdc/lib/python3.8/site-packages (from azureml-dataprep<2.2.0a,>=2.1.2a->azureml-dataset-runtime[fuse]~=1.14.0->azureml-sdk) (1.6.0)\nRequirement already satisfied, skipping upgrade: azure-identity<2.0.0,>=1.2.0 in /Users/cody/miniconda3/envs/dkdc/lib/python3.8/site-packages (from azureml-dataprep<2.2.0a,>=2.1.2a->azureml-dataset-runtime[fuse]~=1.14.0->azureml-sdk) (1.2.0)\nRequirement already satisfied, skipping upgrade: azureml-dataprep-native<22.0.0,>=21.0.1 in /Users/cody/miniconda3/envs/dkdc/lib/python3.8/site-packages (from azureml-dataprep<2.2.0a,>=2.1.2a->azureml-dataset-runtime[fuse]~=1.14.0->azureml-sdk) (21.0.1)\nRequirement already satisfied, skipping upgrade: dotnetcore2<3.0.0,>=2.1.14 in /Users/cody/miniconda3/envs/dkdc/lib/python3.8/site-packages (from azureml-dataprep<2.2.0a,>=2.1.2a->azureml-dataset-runtime[fuse]~=1.14.0->azureml-sdk) (2.1.14)\nRequirement already satisfied, skipping upgrade: importlib-metadata in /Users/cody/miniconda3/envs/dkdc/lib/python3.8/site-packages (from jsonpickle->azureml-core~=1.14.0->azureml-sdk) (1.7.0)\nRequirement already satisfied, skipping upgrade: backports.weakref in /Users/cody/miniconda3/envs/dkdc/lib/python3.8/site-packages (from backports.tempfile->azureml-core~=1.14.0->azureml-sdk) (1.0.post1)\nRequirement already satisfied, skipping upgrade: six in /Users/cody/miniconda3/envs/dkdc/lib/python3.8/site-packages (from msrestazure>=0.4.33->azureml-core~=1.14.0->azureml-sdk) (1.15.0)\nRequirement already satisfied, skipping upgrade: chardet<4,>=3.0.2 in /Users/cody/miniconda3/envs/dkdc/lib/python3.8/site-packages (from requests>=2.19.1->azureml-core~=1.14.0->azureml-sdk) (3.0.4)\nRequirement already satisfied, skipping upgrade: idna<3,>=2.5 in /Users/cody/miniconda3/envs/dkdc/lib/python3.8/site-packages (from requests>=2.19.1->azureml-core~=1.14.0->azureml-sdk) (2.10)\nRequirement already satisfied, skipping upgrade: certifi>=2017.4.17 in /Users/cody/miniconda3/envs/dkdc/lib/python3.8/site-packages (from requests>=2.19.1->azureml-core~=1.14.0->azureml-sdk) (2020.6.20)\nRequirement already satisfied, skipping upgrade: pyasn1>=0.1.1 in /Users/cody/miniconda3/envs/dkdc/lib/python3.8/site-packages (from ndg-httpsclient->azureml-core~=1.14.0->azureml-sdk) (0.4.8)\nRequirement already satisfied, skipping upgrade: ruamel.yaml.clib>=0.1.2; platform_python_implementation == \"CPython\" and python_version < \"3.9\" in /Users/cody/miniconda3/envs/dkdc/lib/python3.8/site-packages (from ruamel.yaml>=0.15.35->azureml-core~=1.14.0->azureml-sdk) (0.2.2)\nRequirement already satisfied, skipping upgrade: requests-oauthlib>=0.5.0 in /Users/cody/miniconda3/envs/dkdc/lib/python3.8/site-packages (from msrest>=0.5.1->azureml-core~=1.14.0->azureml-sdk) (1.3.0)\nRequirement already satisfied, skipping upgrade: isodate>=0.6.0 in /Users/cody/miniconda3/envs/dkdc/lib/python3.8/site-packages (from msrest>=0.5.1->azureml-core~=1.14.0->azureml-sdk) (0.6.0)\nRequirement already satisfied, skipping upgrade: cffi!=1.11.3,>=1.8 in /Users/cody/miniconda3/envs/dkdc/lib/python3.8/site-packages (from cryptography!=1.9,!=2.0.*,!=2.1.*,!=2.2.*->azureml-core~=1.14.0->azureml-sdk) (1.14.2)\nRequirement already satisfied, skipping upgrade: websocket-client>=0.32.0 in /Users/cody/miniconda3/envs/dkdc/lib/python3.8/site-packages (from docker->azureml-core~=1.14.0->azureml-sdk) (0.57.0)\nRequirement already satisfied, skipping upgrade: jeepney>=0.4.2 in /Users/cody/miniconda3/envs/dkdc/lib/python3.8/site-packages (from SecretStorage->azureml-core~=1.14.0->azureml-sdk) (0.4.3)\nRequirement already satisfied, skipping upgrade: azureml-train-restclients-hyperdrive~=1.14.0 in /Users/cody/miniconda3/envs/dkdc/lib/python3.8/site-packages (from azureml-train-core~=1.14.0->azureml-train~=1.14.0->azureml-sdk) (1.14.0)\nRequirement already satisfied, skipping upgrade: applicationinsights in /Users/cody/miniconda3/envs/dkdc/lib/python3.8/site-packages (from azureml-telemetry~=1.14.0->azureml-train-automl-client~=1.14.0->azureml-sdk) (0.11.9)\nRequirement already satisfied, skipping upgrade: azure-core<2.0.0,>=1.0.0 in /Users/cody/miniconda3/envs/dkdc/lib/python3.8/site-packages (from azure-identity<2.0.0,>=1.2.0->azureml-dataprep<2.2.0a,>=2.1.2a->azureml-dataset-runtime[fuse]~=1.14.0->azureml-sdk) (1.8.1)\nRequirement already satisfied, skipping upgrade: msal-extensions~=0.1.3 in /Users/cody/miniconda3/envs/dkdc/lib/python3.8/site-packages (from azure-identity<2.0.0,>=1.2.0->azureml-dataprep<2.2.0a,>=2.1.2a->azureml-dataset-runtime[fuse]~=1.14.0->azureml-sdk) (0.1.3)\nRequirement already satisfied, skipping upgrade: msal<2.0.0,>=1.0.0 in /Users/cody/miniconda3/envs/dkdc/lib/python3.8/site-packages (from azure-identity<2.0.0,>=1.2.0->azureml-dataprep<2.2.0a,>=2.1.2a->azureml-dataset-runtime[fuse]~=1.14.0->azureml-sdk) (1.5.0)\nRequirement already satisfied, skipping upgrade: distro>=1.2.0 in /Users/cody/miniconda3/envs/dkdc/lib/python3.8/site-packages (from dotnetcore2<3.0.0,>=2.1.14->azureml-dataprep<2.2.0a,>=2.1.2a->azureml-dataset-runtime[fuse]~=1.14.0->azureml-sdk) (1.5.0)\nRequirement already satisfied, skipping upgrade: zipp>=0.5 in /Users/cody/miniconda3/envs/dkdc/lib/python3.8/site-packages (from importlib-metadata->jsonpickle->azureml-core~=1.14.0->azureml-sdk) (3.1.0)\nRequirement already satisfied, skipping upgrade: oauthlib>=3.0.0 in /Users/cody/miniconda3/envs/dkdc/lib/python3.8/site-packages (from requests-oauthlib>=0.5.0->msrest>=0.5.1->azureml-core~=1.14.0->azureml-sdk) (3.1.0)\nRequirement already satisfied, skipping upgrade: pycparser in /Users/cody/miniconda3/envs/dkdc/lib/python3.8/site-packages (from cffi!=1.11.3,>=1.8->cryptography!=1.9,!=2.0.*,!=2.1.*,!=2.2.*->azureml-core~=1.14.0->azureml-sdk) (2.20)\nRequirement already satisfied, skipping upgrade: portalocker~=1.0 in /Users/cody/miniconda3/envs/dkdc/lib/python3.8/site-packages (from msal-extensions~=0.1.3->azure-identity<2.0.0,>=1.2.0->azureml-dataprep<2.2.0a,>=2.1.2a->azureml-dataset-runtime[fuse]~=1.14.0->azureml-sdk) (1.7.1)\nNote: you may need to restart the kernel to use updated packages.\n"
    }
   ],
   "source": [
    "pip install --upgrade azureml-sdk"
   ]
  },
  {
   "cell_type": "markdown",
   "metadata": {},
   "source": [
    "**RESTART YOUR KERNEL**"
   ]
  },
  {
   "cell_type": "markdown",
   "metadata": {},
   "source": [
    "## Workspace\n",
    "\n",
    "Get the Azure ML workspace."
   ]
  },
  {
   "cell_type": "code",
   "execution_count": 3,
   "metadata": {
    "tags": []
   },
   "outputs": [
    {
     "output_type": "execute_result",
     "data": {
      "text/plain": "Workspace.create(name='AzureML', subscription_id='6560575d-fa06-4e7d-95fb-f962e74efd7a', resource_group='cody-eastus-rg')"
     },
     "metadata": {},
     "execution_count": 3
    }
   ],
   "source": [
    "from azureml.core import Workspace\n",
    "\n",
    "ws = Workspace.from_config()\n",
    "ws"
   ]
  },
  {
   "cell_type": "markdown",
   "metadata": {},
   "source": [
    "### Start cluster"
   ]
  },
  {
   "cell_type": "code",
   "execution_count": 4,
   "metadata": {
    "tags": []
   },
   "outputs": [
    {
     "output_type": "stream",
     "name": "stdout",
     "text": "################## Creating new compute targe: dask-ct-369924 ##################\nCreating\nSucceeded\nAmlCompute wait for completion finished\n\nMinimum number of nodes requested have been provisioned\n############################## Setting up cluster ##############################\nWARNING - If 'script' has been provided here and a script file name has been specified in 'run_config', 'script' provided in ScriptRunConfig initialization will take precedence.\nWARNING - If 'arguments' has been provided here and arguments have been specified in 'run_config', 'arguments' provided in ScriptRunConfig initialization will take precedence.\n####################### Waiting for scheduler node's IP ########################\n............................................\n\n########################### Scheduler: 10.0.0.4:8786 ###########################\n############################# Not on the same VNET #############################\n###################### Running in compute instance? False ######################\n###################### scheduler_public_ip: 52.224.74.196 ######################\n######################### scheduler_public_port: 50000 #########################\n########################### Connections established ############################\n############################# Scaling to 1 workers #############################\n############################### Scaling is done ################################\n"
    }
   ],
   "source": [
    "from dask_cloudprovider import AzureMLCluster\n",
    "\n",
    "vm_size = 'STANDARD_DS13_V2'\n",
    "timeout = 7200 \n",
    "\n",
    "cluster = AzureMLCluster(ws, vm_size=vm_size, scheduler_idle_timeout=timeout, jupyter=True, show_output=True)"
   ]
  },
  {
   "cell_type": "code",
   "execution_count": 5,
   "metadata": {},
   "outputs": [
    {
     "output_type": "execute_result",
     "data": {
      "text/plain": "Run(Experiment: dask-cloudprovider,\nId: dask-cloudprovider_1601064317_3786ad79,\nType: azureml.scriptrun,\nStatus: Running)",
      "text/html": "<table style=\"width:100%\"><tr><th>Experiment</th><th>Id</th><th>Type</th><th>Status</th><th>Details Page</th><th>Docs Page</th></tr><tr><td>dask-cloudprovider</td><td>dask-cloudprovider_1601064317_3786ad79</td><td>azureml.scriptrun</td><td>Running</td><td><a href=\"https://ml.azure.com/experiments/dask-cloudprovider/runs/dask-cloudprovider_1601064317_3786ad79?wsid=/subscriptions/6560575d-fa06-4e7d-95fb-f962e74efd7a/resourcegroups/cody-eastus-rg/workspaces/AzureML\" target=\"_blank\" rel=\"noopener\">Link to Azure Machine Learning studio</a></td><td><a href=\"https://docs.microsoft.com/en-us/python/api/azureml-core/azureml.core.script_run.ScriptRun?view=azure-ml-py\" target=\"_blank\" rel=\"noopener\">Link to Documentation</a></td></tr></table>"
     },
     "metadata": {},
     "execution_count": 5
    }
   ],
   "source": [
    "cluster.run"
   ]
  },
  {
   "cell_type": "code",
   "execution_count": 6,
   "metadata": {
    "tags": []
   },
   "outputs": [
    {
     "output_type": "stream",
     "name": "stderr",
     "text": "WARNING - If 'script' has been provided here and a script file name has been specified in 'run_config', 'script' provided in ScriptRunConfig initialization will take precedence.\n"
    }
   ],
   "source": [
    "cluster.scale(20) # need more than default quota for this "
   ]
  },
  {
   "cell_type": "code",
   "execution_count": 7,
   "metadata": {},
   "outputs": [
    {
     "output_type": "display_data",
     "data": {
      "text/plain": "VBox(children=(HTML(value='<h2>AzureMLCluster</h2>'), HBox(children=(HTML(value='\\n<div>\\n  <style scoped>\\n  …",
      "application/vnd.jupyter.widget-view+json": {
       "version_major": 2,
       "version_minor": 0,
       "model_id": "946be0675e744d8cba845d9fc00897a7"
      }
     },
     "metadata": {}
    }
   ],
   "source": [
    "# print out cluster widget \n",
    "cluster"
   ]
  },
  {
   "cell_type": "code",
   "execution_count": 9,
   "metadata": {},
   "outputs": [
    {
     "output_type": "execute_result",
     "data": {
      "text/plain": "<Client: 'tcp://10.0.0.4:8786' processes=1 threads=8, memory=59.10 GB>",
      "text/html": "<table style=\"border: 2px solid white;\">\n<tr>\n<td style=\"vertical-align: top; border: 0px solid white\">\n<h3 style=\"text-align: left;\">Client</h3>\n<ul style=\"text-align: left; list-style: none; margin: 0; padding: 0;\">\n  <li><b>Scheduler: </b>tcp://localhost:9002</li>\n  <li><b>Dashboard: </b><a href='http://localhost:9001' target='_blank'>http://localhost:9001</a></li>\n</ul>\n</td>\n<td style=\"vertical-align: top; border: 0px solid white\">\n<h3 style=\"text-align: left;\">Cluster</h3>\n<ul style=\"text-align: left; list-style:none; margin: 0; padding: 0;\">\n  <li><b>Workers: </b>1</li>\n  <li><b>Cores: </b>8</li>\n  <li><b>Memory: </b>59.10 GB</li>\n</ul>\n</td>\n</tr>\n</table>"
     },
     "metadata": {},
     "execution_count": 9
    }
   ],
   "source": [
    "from dask.distributed import Client \n",
    "\n",
    "c = Client(cluster)\n",
    "c"
   ]
  },
  {
   "cell_type": "code",
   "execution_count": 7,
   "metadata": {},
   "outputs": [],
   "source": [
    "#cluster.close()"
   ]
  },
  {
   "cell_type": "code",
   "execution_count": 10,
   "metadata": {
    "tags": []
   },
   "outputs": [
    {
     "output_type": "stream",
     "name": "stdout",
     "text": "Collecting git+https://github.com/dask/adlfs\n  Cloning https://github.com/dask/adlfs to /private/var/folders/gk/kpsykczx509cvpggyml79rsc0000gn/T/pip-req-build-u5gtw6t_\nRequirement already up-to-date: fsspec in /Users/cody/miniconda3/envs/dkdc/lib/python3.8/site-packages (0.8.3)\nRequirement already satisfied, skipping upgrade: aiohttp in /Users/cody/miniconda3/envs/dkdc/lib/python3.8/site-packages (from adlfs==0.5.3+18.g65de4a6) (3.6.2)\nRequirement already satisfied, skipping upgrade: azure-core>=1.5.0 in /Users/cody/miniconda3/envs/dkdc/lib/python3.8/site-packages (from adlfs==0.5.3+18.g65de4a6) (1.8.1)\nRequirement already satisfied, skipping upgrade: azure-datalake-store<0.1,>=0.0.46 in /Users/cody/miniconda3/envs/dkdc/lib/python3.8/site-packages (from adlfs==0.5.3+18.g65de4a6) (0.0.50)\nRequirement already satisfied, skipping upgrade: azure-identity in /Users/cody/miniconda3/envs/dkdc/lib/python3.8/site-packages (from adlfs==0.5.3+18.g65de4a6) (1.2.0)\nRequirement already satisfied, skipping upgrade: azure-storage-blob>=12.5.0 in /Users/cody/miniconda3/envs/dkdc/lib/python3.8/site-packages (from adlfs==0.5.3+18.g65de4a6) (12.5.0)\nRequirement already satisfied, skipping upgrade: msrestazure in /Users/cody/miniconda3/envs/dkdc/lib/python3.8/site-packages (from adlfs==0.5.3+18.g65de4a6) (0.6.4)\nRequirement already satisfied, skipping upgrade: requests<3.0,>=2.22.0 in /Users/cody/miniconda3/envs/dkdc/lib/python3.8/site-packages (from adlfs==0.5.3+18.g65de4a6) (2.24.0)\nRequirement already satisfied, skipping upgrade: chardet<4.0,>=2.0 in /Users/cody/miniconda3/envs/dkdc/lib/python3.8/site-packages (from aiohttp->adlfs==0.5.3+18.g65de4a6) (3.0.4)\nRequirement already satisfied, skipping upgrade: attrs>=17.3.0 in /Users/cody/miniconda3/envs/dkdc/lib/python3.8/site-packages (from aiohttp->adlfs==0.5.3+18.g65de4a6) (20.2.0)\nRequirement already satisfied, skipping upgrade: async-timeout<4.0,>=3.0 in /Users/cody/miniconda3/envs/dkdc/lib/python3.8/site-packages (from aiohttp->adlfs==0.5.3+18.g65de4a6) (3.0.1)\nRequirement already satisfied, skipping upgrade: multidict<5.0,>=4.5 in /Users/cody/miniconda3/envs/dkdc/lib/python3.8/site-packages (from aiohttp->adlfs==0.5.3+18.g65de4a6) (4.7.6)\nRequirement already satisfied, skipping upgrade: yarl<2.0,>=1.0 in /Users/cody/miniconda3/envs/dkdc/lib/python3.8/site-packages (from aiohttp->adlfs==0.5.3+18.g65de4a6) (1.5.1)\nRequirement already satisfied, skipping upgrade: six>=1.6 in /Users/cody/miniconda3/envs/dkdc/lib/python3.8/site-packages (from azure-core>=1.5.0->adlfs==0.5.3+18.g65de4a6) (1.15.0)\nRequirement already satisfied, skipping upgrade: cffi in /Users/cody/miniconda3/envs/dkdc/lib/python3.8/site-packages (from azure-datalake-store<0.1,>=0.0.46->adlfs==0.5.3+18.g65de4a6) (1.14.2)\nRequirement already satisfied, skipping upgrade: adal>=0.4.2 in /Users/cody/miniconda3/envs/dkdc/lib/python3.8/site-packages (from azure-datalake-store<0.1,>=0.0.46->adlfs==0.5.3+18.g65de4a6) (1.2.4)\nRequirement already satisfied, skipping upgrade: cryptography>=2.1.4 in /Users/cody/miniconda3/envs/dkdc/lib/python3.8/site-packages (from azure-identity->adlfs==0.5.3+18.g65de4a6) (3.1)\nRequirement already satisfied, skipping upgrade: msal-extensions~=0.1.3 in /Users/cody/miniconda3/envs/dkdc/lib/python3.8/site-packages (from azure-identity->adlfs==0.5.3+18.g65de4a6) (0.1.3)\nRequirement already satisfied, skipping upgrade: msal<2.0.0,>=1.0.0 in /Users/cody/miniconda3/envs/dkdc/lib/python3.8/site-packages (from azure-identity->adlfs==0.5.3+18.g65de4a6) (1.5.0)\nRequirement already satisfied, skipping upgrade: msrest>=0.6.10 in /Users/cody/miniconda3/envs/dkdc/lib/python3.8/site-packages (from azure-storage-blob>=12.5.0->adlfs==0.5.3+18.g65de4a6) (0.6.19)\nRequirement already satisfied, skipping upgrade: idna<3,>=2.5 in /Users/cody/miniconda3/envs/dkdc/lib/python3.8/site-packages (from requests<3.0,>=2.22.0->adlfs==0.5.3+18.g65de4a6) (2.10)\nRequirement already satisfied, skipping upgrade: certifi>=2017.4.17 in /Users/cody/miniconda3/envs/dkdc/lib/python3.8/site-packages (from requests<3.0,>=2.22.0->adlfs==0.5.3+18.g65de4a6) (2020.6.20)\nRequirement already satisfied, skipping upgrade: urllib3!=1.25.0,!=1.25.1,<1.26,>=1.21.1 in /Users/cody/miniconda3/envs/dkdc/lib/python3.8/site-packages (from requests<3.0,>=2.22.0->adlfs==0.5.3+18.g65de4a6) (1.25.10)\nRequirement already satisfied, skipping upgrade: pycparser in /Users/cody/miniconda3/envs/dkdc/lib/python3.8/site-packages (from cffi->azure-datalake-store<0.1,>=0.0.46->adlfs==0.5.3+18.g65de4a6) (2.20)\nRequirement already satisfied, skipping upgrade: python-dateutil>=2.1.0 in /Users/cody/miniconda3/envs/dkdc/lib/python3.8/site-packages (from adal>=0.4.2->azure-datalake-store<0.1,>=0.0.46->adlfs==0.5.3+18.g65de4a6) (2.8.1)\nRequirement already satisfied, skipping upgrade: PyJWT>=1.0.0 in /Users/cody/miniconda3/envs/dkdc/lib/python3.8/site-packages (from adal>=0.4.2->azure-datalake-store<0.1,>=0.0.46->adlfs==0.5.3+18.g65de4a6) (1.7.1)\nRequirement already satisfied, skipping upgrade: portalocker~=1.0 in /Users/cody/miniconda3/envs/dkdc/lib/python3.8/site-packages (from msal-extensions~=0.1.3->azure-identity->adlfs==0.5.3+18.g65de4a6) (1.7.1)\nRequirement already satisfied, skipping upgrade: isodate>=0.6.0 in /Users/cody/miniconda3/envs/dkdc/lib/python3.8/site-packages (from msrest>=0.6.10->azure-storage-blob>=12.5.0->adlfs==0.5.3+18.g65de4a6) (0.6.0)\nRequirement already satisfied, skipping upgrade: requests-oauthlib>=0.5.0 in /Users/cody/miniconda3/envs/dkdc/lib/python3.8/site-packages (from msrest>=0.6.10->azure-storage-blob>=12.5.0->adlfs==0.5.3+18.g65de4a6) (1.3.0)\nRequirement already satisfied, skipping upgrade: oauthlib>=3.0.0 in /Users/cody/miniconda3/envs/dkdc/lib/python3.8/site-packages (from requests-oauthlib>=0.5.0->msrest>=0.6.10->azure-storage-blob>=12.5.0->adlfs==0.5.3+18.g65de4a6) (3.1.0)\nBuilding wheels for collected packages: adlfs\n  Building wheel for adlfs (setup.py) ... \u001b[?25ldone\n\u001b[?25h  Created wheel for adlfs: filename=adlfs-0.5.3+18.g65de4a6-py3-none-any.whl size=18432 sha256=cdf1e52bf22b207df145fdd4a4d0cde415c3ded9600c7c923cfdf408e6ccc70a\n  Stored in directory: /private/var/folders/gk/kpsykczx509cvpggyml79rsc0000gn/T/pip-ephem-wheel-cache-ipq4em9r/wheels/a1/6c/2d/3b988aa0fd36594a0291addc195e10386681f4f354c95fbe75\nSuccessfully built adlfs\nInstalling collected packages: adlfs\n  Attempting uninstall: adlfs\n    Found existing installation: adlfs 0.5.3+18.g65de4a6\n    Uninstalling adlfs-0.5.3+18.g65de4a6:\n      Successfully uninstalled adlfs-0.5.3+18.g65de4a6\nSuccessfully installed adlfs-0.5.3+18.g65de4a6\n"
    }
   ],
   "source": [
    "!pip install --upgrade git+https://github.com/dask/adlfs fsspec"
   ]
  },
  {
   "cell_type": "code",
   "execution_count": null,
   "metadata": {},
   "outputs": [],
   "source": [
    "def update_packages():\n",
    "    import os\n",
    "    os.system('pip install --upgrade git+https://github.com/dask/adlfs fsspec')"
   ]
  },
  {
   "cell_type": "code",
   "execution_count": null,
   "metadata": {},
   "outputs": [],
   "source": [
    "import dask \n",
    "\n",
    "to_compute = [dask.delayed(update_packages) for i in range(20)]\n",
    "c.compute(to_compute)"
   ]
  },
  {
   "cell_type": "code",
   "execution_count": 11,
   "metadata": {},
   "outputs": [
    {
     "output_type": "execute_result",
     "data": {
      "text/plain": "['isdweatherdatacontainer/ISDWeather/',\n 'isdweatherdatacontainer/ISDWeatherAll',\n 'isdweatherdatacontainer/ISDWeatherAll/',\n 'isdweatherdatacontainer/ISDWeatherBackup',\n 'isdweatherdatacontainer/ISDWeatherBackup/',\n 'isdweatherdatacontainer/ISDWeatherBackup_20200115/',\n 'isdweatherdatacontainer/ISDWeatherTest/',\n 'isdweatherdatacontainer/fama',\n 'isdweatherdatacontainer/fama/']"
     },
     "metadata": {},
     "execution_count": 11
    }
   ],
   "source": [
    "from adlfs import AzureBlobFileSystem\n",
    "\n",
    "storage_options = {'account_name': 'azureopendatastorage'}\n",
    "\n",
    "fs = AzureBlobFileSystem(**storage_options)\n",
    "fs.ls('isdweatherdatacontainer')"
   ]
  },
  {
   "cell_type": "code",
   "execution_count": 12,
   "metadata": {},
   "outputs": [
    {
     "output_type": "execute_result",
     "data": {
      "text/plain": "Dask DataFrame Structure:\n              temperature\nnpartitions=8            \n                  float64\n                      ...\n...                   ...\n                      ...\n                      ...\nDask Name: read-parquet, 8 tasks",
      "text/html": "<div><strong>Dask DataFrame Structure:</strong></div>\n<div>\n<style scoped>\n    .dataframe tbody tr th:only-of-type {\n        vertical-align: middle;\n    }\n\n    .dataframe tbody tr th {\n        vertical-align: top;\n    }\n\n    .dataframe thead th {\n        text-align: right;\n    }\n</style>\n<table border=\"1\" class=\"dataframe\">\n  <thead>\n    <tr style=\"text-align: right;\">\n      <th></th>\n      <th>temperature</th>\n    </tr>\n    <tr>\n      <th>npartitions=8</th>\n      <th></th>\n    </tr>\n  </thead>\n  <tbody>\n    <tr>\n      <th></th>\n      <td>float64</td>\n    </tr>\n    <tr>\n      <th></th>\n      <td>...</td>\n    </tr>\n    <tr>\n      <th>...</th>\n      <td>...</td>\n    </tr>\n    <tr>\n      <th></th>\n      <td>...</td>\n    </tr>\n    <tr>\n      <th></th>\n      <td>...</td>\n    </tr>\n  </tbody>\n</table>\n</div>\n<div>Dask Name: read-parquet, 8 tasks</div>"
     },
     "metadata": {},
     "execution_count": 12
    }
   ],
   "source": [
    "import dask.dataframe as dd \n",
    "\n",
    "df = dd.read_parquet('abfs://isdweatherdatacontainer/ISDWeather/year=2020/month=1/*.parquet', storage_options=storage_options, columns=['temperature'])\n",
    "df"
   ]
  },
  {
   "cell_type": "code",
   "execution_count": 13,
   "metadata": {},
   "outputs": [
    {
     "output_type": "error",
     "ename": "KilledWorker",
     "evalue": "(\"('read-parquet-head-1-5-read-parquet-43970d1e94ff6a7aee43dd9ff880414f', 0)\", <Worker 'tcp://10.0.0.4:33987', name: tcp://10.0.0.4:33987, memory: 0, processing: 1>)",
     "traceback": [
      "\u001b[0;31m---------------------------------------------------------------------------\u001b[0m",
      "\u001b[0;31mKilledWorker\u001b[0m                              Traceback (most recent call last)",
      "\u001b[0;32m<ipython-input-13-c42a15b2c7cf>\u001b[0m in \u001b[0;36m<module>\u001b[0;34m\u001b[0m\n\u001b[0;32m----> 1\u001b[0;31m \u001b[0mdf\u001b[0m\u001b[0;34m.\u001b[0m\u001b[0mhead\u001b[0m\u001b[0;34m(\u001b[0m\u001b[0;34m)\u001b[0m\u001b[0;34m\u001b[0m\u001b[0;34m\u001b[0m\u001b[0m\n\u001b[0m",
      "\u001b[0;32m~/miniconda3/envs/dkdc/lib/python3.8/site-packages/dask/dataframe/core.py\u001b[0m in \u001b[0;36mhead\u001b[0;34m(self, n, npartitions, compute)\u001b[0m\n\u001b[1;32m   1004\u001b[0m             \u001b[0mWhether\u001b[0m \u001b[0mto\u001b[0m \u001b[0mcompute\u001b[0m \u001b[0mthe\u001b[0m \u001b[0mresult\u001b[0m\u001b[0;34m,\u001b[0m \u001b[0mdefault\u001b[0m \u001b[0;32mis\u001b[0m \u001b[0;32mTrue\u001b[0m\u001b[0;34m.\u001b[0m\u001b[0;34m\u001b[0m\u001b[0;34m\u001b[0m\u001b[0m\n\u001b[1;32m   1005\u001b[0m         \"\"\"\n\u001b[0;32m-> 1006\u001b[0;31m         \u001b[0;32mreturn\u001b[0m \u001b[0mself\u001b[0m\u001b[0;34m.\u001b[0m\u001b[0m_head\u001b[0m\u001b[0;34m(\u001b[0m\u001b[0mn\u001b[0m\u001b[0;34m=\u001b[0m\u001b[0mn\u001b[0m\u001b[0;34m,\u001b[0m \u001b[0mnpartitions\u001b[0m\u001b[0;34m=\u001b[0m\u001b[0mnpartitions\u001b[0m\u001b[0;34m,\u001b[0m \u001b[0mcompute\u001b[0m\u001b[0;34m=\u001b[0m\u001b[0mcompute\u001b[0m\u001b[0;34m,\u001b[0m \u001b[0msafe\u001b[0m\u001b[0;34m=\u001b[0m\u001b[0;32mTrue\u001b[0m\u001b[0;34m)\u001b[0m\u001b[0;34m\u001b[0m\u001b[0;34m\u001b[0m\u001b[0m\n\u001b[0m\u001b[1;32m   1007\u001b[0m \u001b[0;34m\u001b[0m\u001b[0m\n\u001b[1;32m   1008\u001b[0m     \u001b[0;32mdef\u001b[0m \u001b[0m_head\u001b[0m\u001b[0;34m(\u001b[0m\u001b[0mself\u001b[0m\u001b[0;34m,\u001b[0m \u001b[0mn\u001b[0m\u001b[0;34m,\u001b[0m \u001b[0mnpartitions\u001b[0m\u001b[0;34m,\u001b[0m \u001b[0mcompute\u001b[0m\u001b[0;34m,\u001b[0m \u001b[0msafe\u001b[0m\u001b[0;34m)\u001b[0m\u001b[0;34m:\u001b[0m\u001b[0;34m\u001b[0m\u001b[0;34m\u001b[0m\u001b[0m\n",
      "\u001b[0;32m~/miniconda3/envs/dkdc/lib/python3.8/site-packages/dask/dataframe/core.py\u001b[0m in \u001b[0;36m_head\u001b[0;34m(self, n, npartitions, compute, safe)\u001b[0m\n\u001b[1;32m   1037\u001b[0m \u001b[0;34m\u001b[0m\u001b[0m\n\u001b[1;32m   1038\u001b[0m         \u001b[0;32mif\u001b[0m \u001b[0mcompute\u001b[0m\u001b[0;34m:\u001b[0m\u001b[0;34m\u001b[0m\u001b[0;34m\u001b[0m\u001b[0m\n\u001b[0;32m-> 1039\u001b[0;31m             \u001b[0mresult\u001b[0m \u001b[0;34m=\u001b[0m \u001b[0mresult\u001b[0m\u001b[0;34m.\u001b[0m\u001b[0mcompute\u001b[0m\u001b[0;34m(\u001b[0m\u001b[0;34m)\u001b[0m\u001b[0;34m\u001b[0m\u001b[0;34m\u001b[0m\u001b[0m\n\u001b[0m\u001b[1;32m   1040\u001b[0m         \u001b[0;32mreturn\u001b[0m \u001b[0mresult\u001b[0m\u001b[0;34m\u001b[0m\u001b[0;34m\u001b[0m\u001b[0m\n\u001b[1;32m   1041\u001b[0m \u001b[0;34m\u001b[0m\u001b[0m\n",
      "\u001b[0;32m~/miniconda3/envs/dkdc/lib/python3.8/site-packages/dask/base.py\u001b[0m in \u001b[0;36mcompute\u001b[0;34m(self, **kwargs)\u001b[0m\n\u001b[1;32m    165\u001b[0m         \u001b[0mdask\u001b[0m\u001b[0;34m.\u001b[0m\u001b[0mbase\u001b[0m\u001b[0;34m.\u001b[0m\u001b[0mcompute\u001b[0m\u001b[0;34m\u001b[0m\u001b[0;34m\u001b[0m\u001b[0m\n\u001b[1;32m    166\u001b[0m         \"\"\"\n\u001b[0;32m--> 167\u001b[0;31m         \u001b[0;34m(\u001b[0m\u001b[0mresult\u001b[0m\u001b[0;34m,\u001b[0m\u001b[0;34m)\u001b[0m \u001b[0;34m=\u001b[0m \u001b[0mcompute\u001b[0m\u001b[0;34m(\u001b[0m\u001b[0mself\u001b[0m\u001b[0;34m,\u001b[0m \u001b[0mtraverse\u001b[0m\u001b[0;34m=\u001b[0m\u001b[0;32mFalse\u001b[0m\u001b[0;34m,\u001b[0m \u001b[0;34m**\u001b[0m\u001b[0mkwargs\u001b[0m\u001b[0;34m)\u001b[0m\u001b[0;34m\u001b[0m\u001b[0;34m\u001b[0m\u001b[0m\n\u001b[0m\u001b[1;32m    168\u001b[0m         \u001b[0;32mreturn\u001b[0m \u001b[0mresult\u001b[0m\u001b[0;34m\u001b[0m\u001b[0;34m\u001b[0m\u001b[0m\n\u001b[1;32m    169\u001b[0m \u001b[0;34m\u001b[0m\u001b[0m\n",
      "\u001b[0;32m~/miniconda3/envs/dkdc/lib/python3.8/site-packages/dask/base.py\u001b[0m in \u001b[0;36mcompute\u001b[0;34m(*args, **kwargs)\u001b[0m\n\u001b[1;32m    450\u001b[0m         \u001b[0mpostcomputes\u001b[0m\u001b[0;34m.\u001b[0m\u001b[0mappend\u001b[0m\u001b[0;34m(\u001b[0m\u001b[0mx\u001b[0m\u001b[0;34m.\u001b[0m\u001b[0m__dask_postcompute__\u001b[0m\u001b[0;34m(\u001b[0m\u001b[0;34m)\u001b[0m\u001b[0;34m)\u001b[0m\u001b[0;34m\u001b[0m\u001b[0;34m\u001b[0m\u001b[0m\n\u001b[1;32m    451\u001b[0m \u001b[0;34m\u001b[0m\u001b[0m\n\u001b[0;32m--> 452\u001b[0;31m     \u001b[0mresults\u001b[0m \u001b[0;34m=\u001b[0m \u001b[0mschedule\u001b[0m\u001b[0;34m(\u001b[0m\u001b[0mdsk\u001b[0m\u001b[0;34m,\u001b[0m \u001b[0mkeys\u001b[0m\u001b[0;34m,\u001b[0m \u001b[0;34m**\u001b[0m\u001b[0mkwargs\u001b[0m\u001b[0;34m)\u001b[0m\u001b[0;34m\u001b[0m\u001b[0;34m\u001b[0m\u001b[0m\n\u001b[0m\u001b[1;32m    453\u001b[0m     \u001b[0;32mreturn\u001b[0m \u001b[0mrepack\u001b[0m\u001b[0;34m(\u001b[0m\u001b[0;34m[\u001b[0m\u001b[0mf\u001b[0m\u001b[0;34m(\u001b[0m\u001b[0mr\u001b[0m\u001b[0;34m,\u001b[0m \u001b[0;34m*\u001b[0m\u001b[0ma\u001b[0m\u001b[0;34m)\u001b[0m \u001b[0;32mfor\u001b[0m \u001b[0mr\u001b[0m\u001b[0;34m,\u001b[0m \u001b[0;34m(\u001b[0m\u001b[0mf\u001b[0m\u001b[0;34m,\u001b[0m \u001b[0ma\u001b[0m\u001b[0;34m)\u001b[0m \u001b[0;32min\u001b[0m \u001b[0mzip\u001b[0m\u001b[0;34m(\u001b[0m\u001b[0mresults\u001b[0m\u001b[0;34m,\u001b[0m \u001b[0mpostcomputes\u001b[0m\u001b[0;34m)\u001b[0m\u001b[0;34m]\u001b[0m\u001b[0;34m)\u001b[0m\u001b[0;34m\u001b[0m\u001b[0;34m\u001b[0m\u001b[0m\n\u001b[1;32m    454\u001b[0m \u001b[0;34m\u001b[0m\u001b[0m\n",
      "\u001b[0;32m~/miniconda3/envs/dkdc/lib/python3.8/site-packages/distributed/client.py\u001b[0m in \u001b[0;36mget\u001b[0;34m(self, dsk, keys, restrictions, loose_restrictions, resources, sync, asynchronous, direct, retries, priority, fifo_timeout, actors, **kwargs)\u001b[0m\n\u001b[1;32m   2712\u001b[0m                     \u001b[0mshould_rejoin\u001b[0m \u001b[0;34m=\u001b[0m \u001b[0;32mFalse\u001b[0m\u001b[0;34m\u001b[0m\u001b[0;34m\u001b[0m\u001b[0m\n\u001b[1;32m   2713\u001b[0m             \u001b[0;32mtry\u001b[0m\u001b[0;34m:\u001b[0m\u001b[0;34m\u001b[0m\u001b[0;34m\u001b[0m\u001b[0m\n\u001b[0;32m-> 2714\u001b[0;31m                 \u001b[0mresults\u001b[0m \u001b[0;34m=\u001b[0m \u001b[0mself\u001b[0m\u001b[0;34m.\u001b[0m\u001b[0mgather\u001b[0m\u001b[0;34m(\u001b[0m\u001b[0mpacked\u001b[0m\u001b[0;34m,\u001b[0m \u001b[0masynchronous\u001b[0m\u001b[0;34m=\u001b[0m\u001b[0masynchronous\u001b[0m\u001b[0;34m,\u001b[0m \u001b[0mdirect\u001b[0m\u001b[0;34m=\u001b[0m\u001b[0mdirect\u001b[0m\u001b[0;34m)\u001b[0m\u001b[0;34m\u001b[0m\u001b[0;34m\u001b[0m\u001b[0m\n\u001b[0m\u001b[1;32m   2715\u001b[0m             \u001b[0;32mfinally\u001b[0m\u001b[0;34m:\u001b[0m\u001b[0;34m\u001b[0m\u001b[0;34m\u001b[0m\u001b[0m\n\u001b[1;32m   2716\u001b[0m                 \u001b[0;32mfor\u001b[0m \u001b[0mf\u001b[0m \u001b[0;32min\u001b[0m \u001b[0mfutures\u001b[0m\u001b[0;34m.\u001b[0m\u001b[0mvalues\u001b[0m\u001b[0;34m(\u001b[0m\u001b[0;34m)\u001b[0m\u001b[0;34m:\u001b[0m\u001b[0;34m\u001b[0m\u001b[0;34m\u001b[0m\u001b[0m\n",
      "\u001b[0;32m~/miniconda3/envs/dkdc/lib/python3.8/site-packages/distributed/client.py\u001b[0m in \u001b[0;36mgather\u001b[0;34m(self, futures, errors, direct, asynchronous)\u001b[0m\n\u001b[1;32m   1985\u001b[0m             \u001b[0;32melse\u001b[0m\u001b[0;34m:\u001b[0m\u001b[0;34m\u001b[0m\u001b[0;34m\u001b[0m\u001b[0m\n\u001b[1;32m   1986\u001b[0m                 \u001b[0mlocal_worker\u001b[0m \u001b[0;34m=\u001b[0m \u001b[0;32mNone\u001b[0m\u001b[0;34m\u001b[0m\u001b[0;34m\u001b[0m\u001b[0m\n\u001b[0;32m-> 1987\u001b[0;31m             return self.sync(\n\u001b[0m\u001b[1;32m   1988\u001b[0m                 \u001b[0mself\u001b[0m\u001b[0;34m.\u001b[0m\u001b[0m_gather\u001b[0m\u001b[0;34m,\u001b[0m\u001b[0;34m\u001b[0m\u001b[0;34m\u001b[0m\u001b[0m\n\u001b[1;32m   1989\u001b[0m                 \u001b[0mfutures\u001b[0m\u001b[0;34m,\u001b[0m\u001b[0;34m\u001b[0m\u001b[0;34m\u001b[0m\u001b[0m\n",
      "\u001b[0;32m~/miniconda3/envs/dkdc/lib/python3.8/site-packages/distributed/client.py\u001b[0m in \u001b[0;36msync\u001b[0;34m(self, func, asynchronous, callback_timeout, *args, **kwargs)\u001b[0m\n\u001b[1;32m    831\u001b[0m             \u001b[0;32mreturn\u001b[0m \u001b[0mfuture\u001b[0m\u001b[0;34m\u001b[0m\u001b[0;34m\u001b[0m\u001b[0m\n\u001b[1;32m    832\u001b[0m         \u001b[0;32melse\u001b[0m\u001b[0;34m:\u001b[0m\u001b[0;34m\u001b[0m\u001b[0;34m\u001b[0m\u001b[0m\n\u001b[0;32m--> 833\u001b[0;31m             return sync(\n\u001b[0m\u001b[1;32m    834\u001b[0m                 \u001b[0mself\u001b[0m\u001b[0;34m.\u001b[0m\u001b[0mloop\u001b[0m\u001b[0;34m,\u001b[0m \u001b[0mfunc\u001b[0m\u001b[0;34m,\u001b[0m \u001b[0;34m*\u001b[0m\u001b[0margs\u001b[0m\u001b[0;34m,\u001b[0m \u001b[0mcallback_timeout\u001b[0m\u001b[0;34m=\u001b[0m\u001b[0mcallback_timeout\u001b[0m\u001b[0;34m,\u001b[0m \u001b[0;34m**\u001b[0m\u001b[0mkwargs\u001b[0m\u001b[0;34m\u001b[0m\u001b[0;34m\u001b[0m\u001b[0m\n\u001b[1;32m    835\u001b[0m             )\n",
      "\u001b[0;32m~/miniconda3/envs/dkdc/lib/python3.8/site-packages/distributed/utils.py\u001b[0m in \u001b[0;36msync\u001b[0;34m(loop, func, callback_timeout, *args, **kwargs)\u001b[0m\n\u001b[1;32m    337\u001b[0m     \u001b[0;32mif\u001b[0m \u001b[0merror\u001b[0m\u001b[0;34m[\u001b[0m\u001b[0;36m0\u001b[0m\u001b[0;34m]\u001b[0m\u001b[0;34m:\u001b[0m\u001b[0;34m\u001b[0m\u001b[0;34m\u001b[0m\u001b[0m\n\u001b[1;32m    338\u001b[0m         \u001b[0mtyp\u001b[0m\u001b[0;34m,\u001b[0m \u001b[0mexc\u001b[0m\u001b[0;34m,\u001b[0m \u001b[0mtb\u001b[0m \u001b[0;34m=\u001b[0m \u001b[0merror\u001b[0m\u001b[0;34m[\u001b[0m\u001b[0;36m0\u001b[0m\u001b[0;34m]\u001b[0m\u001b[0;34m\u001b[0m\u001b[0;34m\u001b[0m\u001b[0m\n\u001b[0;32m--> 339\u001b[0;31m         \u001b[0;32mraise\u001b[0m \u001b[0mexc\u001b[0m\u001b[0;34m.\u001b[0m\u001b[0mwith_traceback\u001b[0m\u001b[0;34m(\u001b[0m\u001b[0mtb\u001b[0m\u001b[0;34m)\u001b[0m\u001b[0;34m\u001b[0m\u001b[0;34m\u001b[0m\u001b[0m\n\u001b[0m\u001b[1;32m    340\u001b[0m     \u001b[0;32melse\u001b[0m\u001b[0;34m:\u001b[0m\u001b[0;34m\u001b[0m\u001b[0;34m\u001b[0m\u001b[0m\n\u001b[1;32m    341\u001b[0m         \u001b[0;32mreturn\u001b[0m \u001b[0mresult\u001b[0m\u001b[0;34m[\u001b[0m\u001b[0;36m0\u001b[0m\u001b[0;34m]\u001b[0m\u001b[0;34m\u001b[0m\u001b[0;34m\u001b[0m\u001b[0m\n",
      "\u001b[0;32m~/miniconda3/envs/dkdc/lib/python3.8/site-packages/distributed/utils.py\u001b[0m in \u001b[0;36mf\u001b[0;34m()\u001b[0m\n\u001b[1;32m    321\u001b[0m             \u001b[0;32mif\u001b[0m \u001b[0mcallback_timeout\u001b[0m \u001b[0;32mis\u001b[0m \u001b[0;32mnot\u001b[0m \u001b[0;32mNone\u001b[0m\u001b[0;34m:\u001b[0m\u001b[0;34m\u001b[0m\u001b[0;34m\u001b[0m\u001b[0m\n\u001b[1;32m    322\u001b[0m                 \u001b[0mfuture\u001b[0m \u001b[0;34m=\u001b[0m \u001b[0masyncio\u001b[0m\u001b[0;34m.\u001b[0m\u001b[0mwait_for\u001b[0m\u001b[0;34m(\u001b[0m\u001b[0mfuture\u001b[0m\u001b[0;34m,\u001b[0m \u001b[0mcallback_timeout\u001b[0m\u001b[0;34m)\u001b[0m\u001b[0;34m\u001b[0m\u001b[0;34m\u001b[0m\u001b[0m\n\u001b[0;32m--> 323\u001b[0;31m             \u001b[0mresult\u001b[0m\u001b[0;34m[\u001b[0m\u001b[0;36m0\u001b[0m\u001b[0;34m]\u001b[0m \u001b[0;34m=\u001b[0m \u001b[0;32myield\u001b[0m \u001b[0mfuture\u001b[0m\u001b[0;34m\u001b[0m\u001b[0;34m\u001b[0m\u001b[0m\n\u001b[0m\u001b[1;32m    324\u001b[0m         \u001b[0;32mexcept\u001b[0m \u001b[0mException\u001b[0m \u001b[0;32mas\u001b[0m \u001b[0mexc\u001b[0m\u001b[0;34m:\u001b[0m\u001b[0;34m\u001b[0m\u001b[0;34m\u001b[0m\u001b[0m\n\u001b[1;32m    325\u001b[0m             \u001b[0merror\u001b[0m\u001b[0;34m[\u001b[0m\u001b[0;36m0\u001b[0m\u001b[0;34m]\u001b[0m \u001b[0;34m=\u001b[0m \u001b[0msys\u001b[0m\u001b[0;34m.\u001b[0m\u001b[0mexc_info\u001b[0m\u001b[0;34m(\u001b[0m\u001b[0;34m)\u001b[0m\u001b[0;34m\u001b[0m\u001b[0;34m\u001b[0m\u001b[0m\n",
      "\u001b[0;32m~/miniconda3/envs/dkdc/lib/python3.8/site-packages/tornado/gen.py\u001b[0m in \u001b[0;36mrun\u001b[0;34m(self)\u001b[0m\n\u001b[1;32m    733\u001b[0m \u001b[0;34m\u001b[0m\u001b[0m\n\u001b[1;32m    734\u001b[0m                     \u001b[0;32mtry\u001b[0m\u001b[0;34m:\u001b[0m\u001b[0;34m\u001b[0m\u001b[0;34m\u001b[0m\u001b[0m\n\u001b[0;32m--> 735\u001b[0;31m                         \u001b[0mvalue\u001b[0m \u001b[0;34m=\u001b[0m \u001b[0mfuture\u001b[0m\u001b[0;34m.\u001b[0m\u001b[0mresult\u001b[0m\u001b[0;34m(\u001b[0m\u001b[0;34m)\u001b[0m\u001b[0;34m\u001b[0m\u001b[0;34m\u001b[0m\u001b[0m\n\u001b[0m\u001b[1;32m    736\u001b[0m                     \u001b[0;32mexcept\u001b[0m \u001b[0mException\u001b[0m\u001b[0;34m:\u001b[0m\u001b[0;34m\u001b[0m\u001b[0;34m\u001b[0m\u001b[0m\n\u001b[1;32m    737\u001b[0m                         \u001b[0mexc_info\u001b[0m \u001b[0;34m=\u001b[0m \u001b[0msys\u001b[0m\u001b[0;34m.\u001b[0m\u001b[0mexc_info\u001b[0m\u001b[0;34m(\u001b[0m\u001b[0;34m)\u001b[0m\u001b[0;34m\u001b[0m\u001b[0;34m\u001b[0m\u001b[0m\n",
      "\u001b[0;32m~/miniconda3/envs/dkdc/lib/python3.8/site-packages/distributed/client.py\u001b[0m in \u001b[0;36m_gather\u001b[0;34m(self, futures, errors, direct, local_worker)\u001b[0m\n\u001b[1;32m   1850\u001b[0m                             \u001b[0mexc\u001b[0m \u001b[0;34m=\u001b[0m \u001b[0mCancelledError\u001b[0m\u001b[0;34m(\u001b[0m\u001b[0mkey\u001b[0m\u001b[0;34m)\u001b[0m\u001b[0;34m\u001b[0m\u001b[0;34m\u001b[0m\u001b[0m\n\u001b[1;32m   1851\u001b[0m                         \u001b[0;32melse\u001b[0m\u001b[0;34m:\u001b[0m\u001b[0;34m\u001b[0m\u001b[0;34m\u001b[0m\u001b[0m\n\u001b[0;32m-> 1852\u001b[0;31m                             \u001b[0;32mraise\u001b[0m \u001b[0mexception\u001b[0m\u001b[0;34m.\u001b[0m\u001b[0mwith_traceback\u001b[0m\u001b[0;34m(\u001b[0m\u001b[0mtraceback\u001b[0m\u001b[0;34m)\u001b[0m\u001b[0;34m\u001b[0m\u001b[0;34m\u001b[0m\u001b[0m\n\u001b[0m\u001b[1;32m   1853\u001b[0m                         \u001b[0;32mraise\u001b[0m \u001b[0mexc\u001b[0m\u001b[0;34m\u001b[0m\u001b[0;34m\u001b[0m\u001b[0m\n\u001b[1;32m   1854\u001b[0m                     \u001b[0;32mif\u001b[0m \u001b[0merrors\u001b[0m \u001b[0;34m==\u001b[0m \u001b[0;34m\"skip\"\u001b[0m\u001b[0;34m:\u001b[0m\u001b[0;34m\u001b[0m\u001b[0;34m\u001b[0m\u001b[0m\n",
      "\u001b[0;31mKilledWorker\u001b[0m: (\"('read-parquet-head-1-5-read-parquet-43970d1e94ff6a7aee43dd9ff880414f', 0)\", <Worker 'tcp://10.0.0.4:33987', name: tcp://10.0.0.4:33987, memory: 0, processing: 1>)"
     ]
    }
   ],
   "source": [
    "df.head()"
   ]
  },
  {
   "cell_type": "code",
   "execution_count": null,
   "metadata": {},
   "outputs": [],
   "source": []
  }
 ],
 "metadata": {
  "kernelspec": {
   "name": "Python 3.8.5 64-bit ('dkdc': conda)",
   "display_name": "Python 3.8.5 64-bit ('dkdc': conda)",
   "metadata": {
    "interpreter": {
     "hash": "6813bb6deec483ed15ac37ef074baa52622250b2b65156cf2f3313d85d7e0391"
    }
   }
  },
  "language_info": {
   "codemirror_mode": {
    "name": "ipython",
    "version": 3
   },
   "file_extension": ".py",
   "mimetype": "text/x-python",
   "name": "python",
   "nbconvert_exporter": "python",
   "pygments_lexer": "ipython3",
   "version": "3.8.5-final"
  }
 },
 "nbformat": 4,
 "nbformat_minor": 4
}