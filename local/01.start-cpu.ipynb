{
 "cells": [
  {
   "cell_type": "markdown",
   "metadata": {},
   "source": [
    "# Start Interactive Dask Cluster"
   ]
  },
  {
   "cell_type": "code",
   "execution_count": null,
   "metadata": {
    "tags": [
     "outputPrepend"
    ]
   },
   "outputs": [],
   "source": [
    "pip install --upgrade git+https://github.com/FredFLi/dask-cloudprovider@fredfli/compute"
   ]
  },
  {
   "cell_type": "code",
   "execution_count": null,
   "metadata": {
    "tags": []
   },
   "outputs": [],
   "source": [
    "pip install --upgrade azureml-sdk"
   ]
  },
  {
   "cell_type": "markdown",
   "metadata": {},
   "source": [
    "**RESTART YOUR KERNEL**"
   ]
  },
  {
   "cell_type": "markdown",
   "metadata": {},
   "source": [
    "## Workspace\n",
    "\n",
    "Get the Azure ML workspace."
   ]
  },
  {
   "cell_type": "code",
   "execution_count": 1,
   "metadata": {},
   "outputs": [],
   "source": [
    "from azureml.core import Workspace"
   ]
  },
  {
   "cell_type": "code",
   "execution_count": 2,
   "metadata": {
    "tags": []
   },
   "outputs": [
    {
     "output_type": "stream",
     "name": "stderr",
     "text": "WARNING - Warning: Falling back to use azure cli login credentials.\nIf you run your code in unattended mode, i.e., where you can't give a user input, then we recommend to use ServicePrincipalAuthentication or MsiAuthentication.\nPlease refer to aka.ms/aml-notebook-auth for different authentication mechanisms in azureml-sdk.\n"
    },
    {
     "output_type": "execute_result",
     "data": {
      "text/plain": "Workspace.create(name='AzureML', subscription_id='6560575d-fa06-4e7d-95fb-f962e74efd7a', resource_group='cody-eastus-rg')"
     },
     "metadata": {},
     "execution_count": 2
    }
   ],
   "source": [
    "ws = Workspace.from_config()\n",
    "ws"
   ]
  },
  {
   "cell_type": "markdown",
   "metadata": {},
   "source": [
    "### Start cluster"
   ]
  },
  {
   "cell_type": "code",
   "execution_count": 3,
   "metadata": {},
   "outputs": [],
   "source": [
    "from dask_cloudprovider import AzureMLCluster"
   ]
  },
  {
   "cell_type": "code",
   "execution_count": 4,
   "metadata": {
    "tags": []
   },
   "outputs": [
    {
     "output_type": "stream",
     "name": "stdout",
     "text": "...............................................\n\n\n"
    }
   ],
   "source": [
    "vm_size = 'STANDARD_DS13_V2'\n",
    "\n",
    "cluster = AzureMLCluster(ws, vm_size=vm_size)"
   ]
  },
  {
   "cell_type": "code",
   "execution_count": 5,
   "metadata": {},
   "outputs": [
    {
     "output_type": "execute_result",
     "data": {
      "text/plain": "Run(Experiment: dask-cloudprovider,\nId: dask-cloudprovider_1594062229_11691a2c,\nType: azureml.scriptrun,\nStatus: Running)",
      "text/html": "<table style=\"width:100%\"><tr><th>Experiment</th><th>Id</th><th>Type</th><th>Status</th><th>Details Page</th><th>Docs Page</th></tr><tr><td>dask-cloudprovider</td><td>dask-cloudprovider_1594062229_11691a2c</td><td>azureml.scriptrun</td><td>Running</td><td><a href=\"https://ml.azure.com/experiments/dask-cloudprovider/runs/dask-cloudprovider_1594062229_11691a2c?wsid=/subscriptions/6560575d-fa06-4e7d-95fb-f962e74efd7a/resourcegroups/cody-eastus-rg/workspaces/AzureML\" target=\"_blank\" rel=\"noopener\">Link to Azure Machine Learning studio</a></td><td><a href=\"https://docs.microsoft.com/en-us/python/api/azureml-core/azureml.core.script_run.ScriptRun?view=azure-ml-py\" target=\"_blank\" rel=\"noopener\">Link to Documentation</a></td></tr></table>"
     },
     "metadata": {},
     "execution_count": 5
    }
   ],
   "source": [
    "cluster.run"
   ]
  },
  {
   "cell_type": "code",
   "execution_count": 6,
   "metadata": {},
   "outputs": [],
   "source": [
    "cluster.scale(20) # need more than default quota for this "
   ]
  },
  {
   "cell_type": "code",
   "execution_count": 7,
   "metadata": {},
   "outputs": [
    {
     "output_type": "display_data",
     "data": {
      "text/plain": "VBox(children=(HTML(value='<h2>AzureMLCluster</h2>'), HBox(children=(HTML(value='\\n<div>\\n  <style scoped>\\n  …",
      "application/vnd.jupyter.widget-view+json": {
       "version_major": 2,
       "version_minor": 0,
       "model_id": "fad8df95c5fb4a06886f23bc1f778992"
      }
     },
     "metadata": {}
    }
   ],
   "source": [
    "cluster"
   ]
  },
  {
   "cell_type": "code",
   "execution_count": 8,
   "metadata": {},
   "outputs": [],
   "source": [
    "#cluster.close()"
   ]
  },
  {
   "cell_type": "code",
   "execution_count": 9,
   "metadata": {
    "tags": []
   },
   "outputs": [
    {
     "output_type": "stream",
     "name": "stdout",
     "text": "Help on class AzureMLCluster in module dask_cloudprovider.providers.azure.azureml:\n\nclass AzureMLCluster(distributed.deploy.cluster.Cluster)\n |  AzureMLCluster(workspace, compute_target=None, environment_definition=None, experiment_name=None, initial_node_count=None, jupyter=None, jupyter_port=None, dashboard_port=None, scheduler_port=None, scheduler_idle_timeout=None, worker_death_timeout=None, additional_ports=None, admin_username=None, admin_ssh_key=None, datastores=None, code_store=None, vnet=None, subnet=None, show_output=False, telemetry_opt_out=None, asynchronous=False, **kwargs)\n |  \n |  Deploy a Dask cluster using Azure ML\n |  \n |  This creates a dask scheduler and workers on an Azure ML Compute Target.\n |  \n |  Parameters\n |  ----------\n |  workspace: azureml.core.Workspace (required)\n |      Azure ML Workspace - see https://aka.ms/azureml/workspace\n |  \n |  compute_target: azureml.core.ComputeTarget (required)\n |      Azure ML Compute Target - see https://aka.ms/azureml/computetarget\n |  \n |  environment_definition: azureml.core.Environment (required)\n |      Azure ML Environment - see https://aka.ms/azureml/environments\n |  \n |  experiment_name: str (optional)\n |      The name of the Azure ML Experiment used to control the cluster.\n |  \n |      Defaults to ``dask-cloudprovider``.\n |  \n |  initial_node_count: int (optional)\n |      The initial number of nodes for the Dask Cluster.\n |  \n |      Defaults to ``1``.\n |  \n |  jupyter: bool (optional)\n |      Flag to start JupyterLab session on the headnode of the cluster.\n |  \n |      Defaults to ``False``.\n |  \n |  jupyter_port: int (optional)\n |      Port on headnode to use for hosting JupyterLab session.\n |  \n |      Defaults to ``9000``.\n |  \n |  dashboard_port: int (optional)\n |      Port on headnode to use for hosting Dask dashboard.\n |  \n |      Defaults to ``9001``.\n |  \n |  scheduler_port: int (optional)\n |      Port to map the scheduler port to via SSH-tunnel if machine not on the same VNET.\n |  \n |      Defaults to ``9002``.\n |  \n |  scheduler_idle_timeout: int (optional)\n |      Number of idle seconds leading to scheduler shut down.\n |  \n |      Defaults to ``1200`` (20 minutes).\n |  \n |  worker_death_timeout: int (optional)\n |      Number of seconds to wait for a worker to respond before removing it.\n |  \n |      Defaults to ``30``.\n |  \n |  additional_ports: list[tuple[int, int]] (optional)\n |      Additional ports to forward. This requires a list of tuples where the first element\n |      is the port to open on the headnode while the second element is the port to map to\n |      or forward via the SSH-tunnel.\n |  \n |      Defaults to ``[]``.\n |  \n |  admin_username: str (optional)\n |      Username of the admin account for the AzureML Compute.\n |      Required for runs that are not on the same VNET. Defaults to empty string.\n |      Throws Exception if machine not on the same VNET.\n |  \n |      Defaults to ``\"\"``.\n |  \n |  admin_ssh_key: str (optional)\n |      Location of the SSH secret key used when creating the AzureML Compute.\n |      The key should be passwordless if run from a Jupyter notebook.\n |      The ``id_rsa`` file needs to have 0700 permissions set.\n |      Required for runs that are not on the same VNET. Defaults to empty string.\n |      Throws Exception if machine not on the same VNET.\n |  \n |      Defaults to ``\"\"``.\n |  \n |  datastores: List[str] (optional)\n |      List of Azure ML Datastores to be mounted on the headnode -\n |      see https://aka.ms/azureml/data and https://aka.ms/azureml/datastores.\n |  \n |      Defaults to ``[]``. To mount all datastores in the workspace,\n |      set to ``[ws.datastores[datastore] for datastore in ws.datastores]``.\n |  \n |  telemetry_opt_out: bool (optional)\n |      A boolean parameter. Defaults to logging a version of AzureMLCluster\n |      with Microsoft. Set this flag to False if you do not want to share this\n |      information with Microsoft. Microsoft is not tracking anything else you\n |      do in your Dask cluster nor any other information related to your\n |      workload.\n |  \n |  asynchronous: bool (optional)\n |      Flag to run jobs asynchronously.\n |  \n |  **kwargs: dict\n |      Additional keyword arguments.\n |  \n |  Method resolution order:\n |      AzureMLCluster\n |      distributed.deploy.cluster.Cluster\n |      builtins.object\n |  \n |  Methods defined here:\n |  \n |  __init__(self, workspace, compute_target=None, environment_definition=None, experiment_name=None, initial_node_count=None, jupyter=None, jupyter_port=None, dashboard_port=None, scheduler_port=None, scheduler_idle_timeout=None, worker_death_timeout=None, additional_ports=None, admin_username=None, admin_ssh_key=None, datastores=None, code_store=None, vnet=None, subnet=None, show_output=False, telemetry_opt_out=None, asynchronous=False, **kwargs)\n |      Initialize self.  See help(type(self)) for accurate signature.\n |  \n |  close(self)\n |      Close the cluster. All Azure ML Runs corresponding to the scheduler\n |      and worker processes will be completed. The Azure ML Compute Target will\n |      return to its minimum number of nodes after its idle time before scaledown.\n |  \n |  close_when_disconnect(self)\n |  \n |  scale(self, workers=1)\n |      Scale the cluster. Scales to a maximum of the workers available in the cluster.\n |  \n |  scale_down(self, workers=1)\n |      Scale down the number of workers. Scales to minimum of 1.\n |  \n |  scale_up(self, workers=1)\n |      Scale up the number of workers.\n |  \n |  ----------------------------------------------------------------------\n |  Data descriptors defined here:\n |  \n |  dashboard_link\n |      Link to Dask dashboard.\n |  \n |  jupyter_link\n |      Link to JupyterLab on running on the headnode of the cluster.\n |      Set ``jupyter=True`` when creating the ``AzureMLCluster``.\n |  \n |  ----------------------------------------------------------------------\n |  Methods inherited from distributed.deploy.cluster.Cluster:\n |  \n |  __aenter__(self)\n |  \n |  __aexit__(self, typ, value, traceback)\n |  \n |  __del__(self)\n |  \n |  __enter__(self)\n |  \n |  __exit__(self, typ, value, traceback)\n |  \n |  __repr__(self)\n |      Return repr(self).\n |  \n |  adapt(self, Adaptive=<class 'distributed.deploy.adaptive.Adaptive'>, **kwargs) -> distributed.deploy.adaptive.Adaptive\n |      Turn on adaptivity\n |      \n |      For keyword arguments see dask.distributed.Adaptive\n |      \n |      Examples\n |      --------\n |      >>> cluster.adapt(minimum=0, maximum=10, interval='500ms')\n |  \n |  get_logs(self, scheduler=True, workers=True)\n |      Return logs for the scheduler and workers\n |      \n |      Parameters\n |      ----------\n |      scheduler : boolean\n |          Whether or not to collect logs for the scheduler\n |      workers : boolean or Iterable[str], optional\n |          A list of worker addresses to select.\n |          Defaults to all workers if `True` or no workers if `False`\n |      \n |      Returns\n |      -------\n |      logs: Dict[str]\n |          A dictionary of logs, with one item for the scheduler and one for\n |          each worker\n |  \n |  logs(self, *args, **kwargs)\n |  \n |  sync(self, func, *args, asynchronous=None, callback_timeout=None, **kwargs)\n |  \n |  ----------------------------------------------------------------------\n |  Data descriptors inherited from distributed.deploy.cluster.Cluster:\n |  \n |  __dict__\n |      dictionary for instance variables (if defined)\n |  \n |  __weakref__\n |      list of weak references to the object (if defined)\n |  \n |  asynchronous\n |  \n |  observed\n |  \n |  plan\n |  \n |  requested\n |  \n |  scheduler_address\n\n"
    }
   ],
   "source": [
    "help(AzureMLCluster)"
   ]
  }
 ],
 "metadata": {
  "kernelspec": {
   "display_name": "Python 3.7.3 64-bit (conda)",
   "language": "python",
   "name": "python37364bitconda864b11a2828b46f49de5fad9db39f547"
  },
  "language_info": {
   "codemirror_mode": {
    "name": "ipython",
    "version": 3
   },
   "file_extension": ".py",
   "mimetype": "text/x-python",
   "name": "python",
   "nbconvert_exporter": "python",
   "pygments_lexer": "ipython3",
   "version": "3.7.3-final"
  }
 },
 "nbformat": 4,
 "nbformat_minor": 4
}